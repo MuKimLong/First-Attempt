{
 "cells": [
  {
   "cell_type": "code",
   "execution_count": 1,
   "id": "b0cf273c",
   "metadata": {
    "_cell_guid": "b1076dfc-b9ad-4769-8c92-a6c4dae69d19",
    "_uuid": "8f2839f25d086af736a60e9eeb907d3b93b6e0e5",
    "execution": {
     "iopub.execute_input": "2023-04-16T08:31:32.378290Z",
     "iopub.status.busy": "2023-04-16T08:31:32.377484Z",
     "iopub.status.idle": "2023-04-16T08:31:32.392027Z",
     "shell.execute_reply": "2023-04-16T08:31:32.390427Z"
    },
    "papermill": {
     "duration": 0.026792,
     "end_time": "2023-04-16T08:31:32.394825",
     "exception": false,
     "start_time": "2023-04-16T08:31:32.368033",
     "status": "completed"
    },
    "tags": []
   },
   "outputs": [
    {
     "name": "stdout",
     "output_type": "stream",
     "text": [
      "/kaggle/input/gdz-elektrik-datathon-2023/sample_submission.csv\n",
      "/kaggle/input/gdz-elektrik-datathon-2023/med.csv\n",
      "/kaggle/input/gdz-elektrik-datathon-2023/train.csv\n"
     ]
    }
   ],
   "source": [
    "# This Python 3 environment comes with many helpful analytics libraries installed\n",
    "# It is defined by the kaggle/python Docker image: https://github.com/kaggle/docker-python\n",
    "# For example, here's several helpful packages to load\n",
    "\n",
    "import numpy as np # linear algebra\n",
    "import pandas as pd # data processing, CSV file I/O (e.g. pd.read_csv)\n",
    "\n",
    "# Input data files are available in the read-only \"../input/\" directory\n",
    "# For example, running this (by clicking run or pressing Shift+Enter) will list all files under the input directory\n",
    "\n",
    "import os\n",
    "for dirname, _, filenames in os.walk('/kaggle/input'):\n",
    "    for filename in filenames:\n",
    "        print(os.path.join(dirname, filename))\n",
    "\n",
    "# You can write up to 20GB to the current directory (/kaggle/working/) that gets preserved as output when you create a version using \"Save & Run All\" \n",
    "# You can also write temporary files to /kaggle/temp/, but they won't be saved outside of the current session"
   ]
  },
  {
   "cell_type": "code",
   "execution_count": 2,
   "id": "be624334",
   "metadata": {
    "execution": {
     "iopub.execute_input": "2023-04-16T08:31:32.409902Z",
     "iopub.status.busy": "2023-04-16T08:31:32.409213Z",
     "iopub.status.idle": "2023-04-16T08:31:33.897925Z",
     "shell.execute_reply": "2023-04-16T08:31:33.896732Z"
    },
    "papermill": {
     "duration": 1.499197,
     "end_time": "2023-04-16T08:31:33.900735",
     "exception": false,
     "start_time": "2023-04-16T08:31:32.401538",
     "status": "completed"
    },
    "tags": []
   },
   "outputs": [],
   "source": [
    "import pandas as pd\n",
    "from statsmodels.tsa.statespace.sarimax import SARIMAX\n",
    "from statsmodels.tsa.holtwinters import ExponentialSmoothing\n",
    "from statsmodels.tsa.stattools import adfuller\n",
    "import matplotlib.pyplot as plt\n",
    "from tqdm import tqdm_notebook\n",
    "import numpy as np\n",
    "from itertools import product\n",
    "import warnings\n",
    "warnings.filterwarnings('ignore')\n",
    "%matplotlib inline"
   ]
  },
  {
   "cell_type": "code",
   "execution_count": 3,
   "id": "6029457a",
   "metadata": {
    "execution": {
     "iopub.execute_input": "2023-04-16T08:31:33.915426Z",
     "iopub.status.busy": "2023-04-16T08:31:33.915042Z",
     "iopub.status.idle": "2023-04-16T08:31:34.021566Z",
     "shell.execute_reply": "2023-04-16T08:31:34.020309Z"
    },
    "papermill": {
     "duration": 0.116955,
     "end_time": "2023-04-16T08:31:34.024160",
     "exception": false,
     "start_time": "2023-04-16T08:31:33.907205",
     "status": "completed"
    },
    "tags": []
   },
   "outputs": [
    {
     "data": {
      "text/html": [
       "<div>\n",
       "<style scoped>\n",
       "    .dataframe tbody tr th:only-of-type {\n",
       "        vertical-align: middle;\n",
       "    }\n",
       "\n",
       "    .dataframe tbody tr th {\n",
       "        vertical-align: top;\n",
       "    }\n",
       "\n",
       "    .dataframe thead th {\n",
       "        text-align: right;\n",
       "    }\n",
       "</style>\n",
       "<table border=\"1\" class=\"dataframe\">\n",
       "  <thead>\n",
       "    <tr style=\"text-align: right;\">\n",
       "      <th></th>\n",
       "      <th>Dağıtılan Enerji (MWh)</th>\n",
       "    </tr>\n",
       "    <tr>\n",
       "      <th>Tarih</th>\n",
       "      <th></th>\n",
       "    </tr>\n",
       "  </thead>\n",
       "  <tbody>\n",
       "    <tr>\n",
       "      <th>2018-01-01 00:00:00</th>\n",
       "      <td>1593.944216</td>\n",
       "    </tr>\n",
       "    <tr>\n",
       "      <th>2018-01-01 01:00:00</th>\n",
       "      <td>1513.933887</td>\n",
       "    </tr>\n",
       "    <tr>\n",
       "      <th>2018-01-01 02:00:00</th>\n",
       "      <td>1402.612637</td>\n",
       "    </tr>\n",
       "    <tr>\n",
       "      <th>2018-01-01 03:00:00</th>\n",
       "      <td>1278.527266</td>\n",
       "    </tr>\n",
       "    <tr>\n",
       "      <th>2018-01-01 04:00:00</th>\n",
       "      <td>1220.697701</td>\n",
       "    </tr>\n",
       "    <tr>\n",
       "      <th>...</th>\n",
       "      <td>...</td>\n",
       "    </tr>\n",
       "    <tr>\n",
       "      <th>2022-07-31 19:00:00</th>\n",
       "      <td>2492.489498</td>\n",
       "    </tr>\n",
       "    <tr>\n",
       "      <th>2022-07-31 20:00:00</th>\n",
       "      <td>2479.958245</td>\n",
       "    </tr>\n",
       "    <tr>\n",
       "      <th>2022-07-31 21:00:00</th>\n",
       "      <td>2485.016884</td>\n",
       "    </tr>\n",
       "    <tr>\n",
       "      <th>2022-07-31 22:00:00</th>\n",
       "      <td>2396.574255</td>\n",
       "    </tr>\n",
       "    <tr>\n",
       "      <th>2022-07-31 23:00:00</th>\n",
       "      <td>2285.252844</td>\n",
       "    </tr>\n",
       "  </tbody>\n",
       "</table>\n",
       "<p>40152 rows × 1 columns</p>\n",
       "</div>"
      ],
      "text/plain": [
       "                     Dağıtılan Enerji (MWh)\n",
       "Tarih                                      \n",
       "2018-01-01 00:00:00             1593.944216\n",
       "2018-01-01 01:00:00             1513.933887\n",
       "2018-01-01 02:00:00             1402.612637\n",
       "2018-01-01 03:00:00             1278.527266\n",
       "2018-01-01 04:00:00             1220.697701\n",
       "...                                     ...\n",
       "2022-07-31 19:00:00             2492.489498\n",
       "2022-07-31 20:00:00             2479.958245\n",
       "2022-07-31 21:00:00             2485.016884\n",
       "2022-07-31 22:00:00             2396.574255\n",
       "2022-07-31 23:00:00             2285.252844\n",
       "\n",
       "[40152 rows x 1 columns]"
      ]
     },
     "execution_count": 3,
     "metadata": {},
     "output_type": "execute_result"
    }
   ],
   "source": [
    "dftrain = pd.read_csv(\"/kaggle/input/gdz-elektrik-datathon-2023/train.csv\",parse_dates=True)\n",
    "dfmed = pd.read_csv(\"/kaggle/input/gdz-elektrik-datathon-2023/med.csv\")\n",
    "dfsubmiss = pd.read_csv(\"/kaggle/input/gdz-elektrik-datathon-2023/sample_submission.csv\")\n",
    "dftrain.set_index(\"Tarih\",inplace=True)\n",
    "dftrain                 "
   ]
  },
  {
   "cell_type": "code",
   "execution_count": 4,
   "id": "b9b0c5c4",
   "metadata": {
    "execution": {
     "iopub.execute_input": "2023-04-16T08:31:34.039125Z",
     "iopub.status.busy": "2023-04-16T08:31:34.038711Z",
     "iopub.status.idle": "2023-04-16T08:31:34.057268Z",
     "shell.execute_reply": "2023-04-16T08:31:34.056132Z"
    },
    "papermill": {
     "duration": 0.029232,
     "end_time": "2023-04-16T08:31:34.059920",
     "exception": false,
     "start_time": "2023-04-16T08:31:34.030688",
     "status": "completed"
    },
    "tags": []
   },
   "outputs": [],
   "source": [
    "dftrain.index = pd.to_datetime(dftrain.index)\n",
    "dftrain.reset_index(inplace=True)"
   ]
  },
  {
   "cell_type": "code",
   "execution_count": 5,
   "id": "4638dbb3",
   "metadata": {
    "execution": {
     "iopub.execute_input": "2023-04-16T08:31:34.074468Z",
     "iopub.status.busy": "2023-04-16T08:31:34.074054Z",
     "iopub.status.idle": "2023-04-16T08:31:34.096031Z",
     "shell.execute_reply": "2023-04-16T08:31:34.094751Z"
    },
    "papermill": {
     "duration": 0.032356,
     "end_time": "2023-04-16T08:31:34.098642",
     "exception": false,
     "start_time": "2023-04-16T08:31:34.066286",
     "status": "completed"
    },
    "tags": []
   },
   "outputs": [
    {
     "data": {
      "text/html": [
       "<div>\n",
       "<style scoped>\n",
       "    .dataframe tbody tr th:only-of-type {\n",
       "        vertical-align: middle;\n",
       "    }\n",
       "\n",
       "    .dataframe tbody tr th {\n",
       "        vertical-align: top;\n",
       "    }\n",
       "\n",
       "    .dataframe thead th {\n",
       "        text-align: right;\n",
       "    }\n",
       "</style>\n",
       "<table border=\"1\" class=\"dataframe\">\n",
       "  <thead>\n",
       "    <tr style=\"text-align: right;\">\n",
       "      <th></th>\n",
       "      <th>Tarih</th>\n",
       "      <th>Dağıtılan Enerji (MWh)</th>\n",
       "    </tr>\n",
       "  </thead>\n",
       "  <tbody>\n",
       "    <tr>\n",
       "      <th>0</th>\n",
       "      <td>2018-01</td>\n",
       "      <td>1593.944216</td>\n",
       "    </tr>\n",
       "    <tr>\n",
       "      <th>1</th>\n",
       "      <td>2018-01</td>\n",
       "      <td>1513.933887</td>\n",
       "    </tr>\n",
       "    <tr>\n",
       "      <th>2</th>\n",
       "      <td>2018-01</td>\n",
       "      <td>1402.612637</td>\n",
       "    </tr>\n",
       "    <tr>\n",
       "      <th>3</th>\n",
       "      <td>2018-01</td>\n",
       "      <td>1278.527266</td>\n",
       "    </tr>\n",
       "    <tr>\n",
       "      <th>4</th>\n",
       "      <td>2018-01</td>\n",
       "      <td>1220.697701</td>\n",
       "    </tr>\n",
       "    <tr>\n",
       "      <th>...</th>\n",
       "      <td>...</td>\n",
       "      <td>...</td>\n",
       "    </tr>\n",
       "    <tr>\n",
       "      <th>40147</th>\n",
       "      <td>2022-07</td>\n",
       "      <td>2492.489498</td>\n",
       "    </tr>\n",
       "    <tr>\n",
       "      <th>40148</th>\n",
       "      <td>2022-07</td>\n",
       "      <td>2479.958245</td>\n",
       "    </tr>\n",
       "    <tr>\n",
       "      <th>40149</th>\n",
       "      <td>2022-07</td>\n",
       "      <td>2485.016884</td>\n",
       "    </tr>\n",
       "    <tr>\n",
       "      <th>40150</th>\n",
       "      <td>2022-07</td>\n",
       "      <td>2396.574255</td>\n",
       "    </tr>\n",
       "    <tr>\n",
       "      <th>40151</th>\n",
       "      <td>2022-07</td>\n",
       "      <td>2285.252844</td>\n",
       "    </tr>\n",
       "  </tbody>\n",
       "</table>\n",
       "<p>40152 rows × 2 columns</p>\n",
       "</div>"
      ],
      "text/plain": [
       "         Tarih  Dağıtılan Enerji (MWh)\n",
       "0      2018-01             1593.944216\n",
       "1      2018-01             1513.933887\n",
       "2      2018-01             1402.612637\n",
       "3      2018-01             1278.527266\n",
       "4      2018-01             1220.697701\n",
       "...        ...                     ...\n",
       "40147  2022-07             2492.489498\n",
       "40148  2022-07             2479.958245\n",
       "40149  2022-07             2485.016884\n",
       "40150  2022-07             2396.574255\n",
       "40151  2022-07             2285.252844\n",
       "\n",
       "[40152 rows x 2 columns]"
      ]
     },
     "execution_count": 5,
     "metadata": {},
     "output_type": "execute_result"
    }
   ],
   "source": [
    "dftrain['Tarih'] = dftrain['Tarih'].dt.to_period('M')\n",
    "dftrain"
   ]
  },
  {
   "cell_type": "code",
   "execution_count": 6,
   "id": "daedd1a1",
   "metadata": {
    "execution": {
     "iopub.execute_input": "2023-04-16T08:31:34.114085Z",
     "iopub.status.busy": "2023-04-16T08:31:34.113656Z",
     "iopub.status.idle": "2023-04-16T08:31:34.137391Z",
     "shell.execute_reply": "2023-04-16T08:31:34.136059Z"
    },
    "papermill": {
     "duration": 0.034429,
     "end_time": "2023-04-16T08:31:34.139834",
     "exception": false,
     "start_time": "2023-04-16T08:31:34.105405",
     "status": "completed"
    },
    "tags": []
   },
   "outputs": [
    {
     "data": {
      "text/html": [
       "<div>\n",
       "<style scoped>\n",
       "    .dataframe tbody tr th:only-of-type {\n",
       "        vertical-align: middle;\n",
       "    }\n",
       "\n",
       "    .dataframe tbody tr th {\n",
       "        vertical-align: top;\n",
       "    }\n",
       "\n",
       "    .dataframe thead th {\n",
       "        text-align: right;\n",
       "    }\n",
       "</style>\n",
       "<table border=\"1\" class=\"dataframe\">\n",
       "  <thead>\n",
       "    <tr style=\"text-align: right;\">\n",
       "      <th></th>\n",
       "      <th>Dağıtılan Enerji (MWh)</th>\n",
       "    </tr>\n",
       "    <tr>\n",
       "      <th>Tarih</th>\n",
       "      <th></th>\n",
       "    </tr>\n",
       "  </thead>\n",
       "  <tbody>\n",
       "    <tr>\n",
       "      <th>2018-01</th>\n",
       "      <td>1.426880e+06</td>\n",
       "    </tr>\n",
       "    <tr>\n",
       "      <th>2018-02</th>\n",
       "      <td>1.198419e+06</td>\n",
       "    </tr>\n",
       "    <tr>\n",
       "      <th>2018-03</th>\n",
       "      <td>1.199236e+06</td>\n",
       "    </tr>\n",
       "    <tr>\n",
       "      <th>2018-04</th>\n",
       "      <td>1.077336e+06</td>\n",
       "    </tr>\n",
       "    <tr>\n",
       "      <th>2018-05</th>\n",
       "      <td>1.191347e+06</td>\n",
       "    </tr>\n",
       "    <tr>\n",
       "      <th>2018-06</th>\n",
       "      <td>1.288838e+06</td>\n",
       "    </tr>\n",
       "    <tr>\n",
       "      <th>2018-07</th>\n",
       "      <td>1.614309e+06</td>\n",
       "    </tr>\n",
       "    <tr>\n",
       "      <th>2018-08</th>\n",
       "      <td>1.577075e+06</td>\n",
       "    </tr>\n",
       "    <tr>\n",
       "      <th>2018-09</th>\n",
       "      <td>1.289557e+06</td>\n",
       "    </tr>\n",
       "    <tr>\n",
       "      <th>2018-10</th>\n",
       "      <td>1.140141e+06</td>\n",
       "    </tr>\n",
       "    <tr>\n",
       "      <th>2018-11</th>\n",
       "      <td>1.204900e+06</td>\n",
       "    </tr>\n",
       "    <tr>\n",
       "      <th>2018-12</th>\n",
       "      <td>1.468905e+06</td>\n",
       "    </tr>\n",
       "    <tr>\n",
       "      <th>2019-01</th>\n",
       "      <td>1.445652e+06</td>\n",
       "    </tr>\n",
       "    <tr>\n",
       "      <th>2019-02</th>\n",
       "      <td>1.226965e+06</td>\n",
       "    </tr>\n",
       "    <tr>\n",
       "      <th>2019-03</th>\n",
       "      <td>1.247573e+06</td>\n",
       "    </tr>\n",
       "    <tr>\n",
       "      <th>2019-04</th>\n",
       "      <td>1.147666e+06</td>\n",
       "    </tr>\n",
       "    <tr>\n",
       "      <th>2019-05</th>\n",
       "      <td>1.160237e+06</td>\n",
       "    </tr>\n",
       "    <tr>\n",
       "      <th>2019-06</th>\n",
       "      <td>1.307687e+06</td>\n",
       "    </tr>\n",
       "    <tr>\n",
       "      <th>2019-07</th>\n",
       "      <td>1.552376e+06</td>\n",
       "    </tr>\n",
       "    <tr>\n",
       "      <th>2019-08</th>\n",
       "      <td>1.571683e+06</td>\n",
       "    </tr>\n",
       "    <tr>\n",
       "      <th>2019-09</th>\n",
       "      <td>1.257185e+06</td>\n",
       "    </tr>\n",
       "    <tr>\n",
       "      <th>2019-10</th>\n",
       "      <td>1.147302e+06</td>\n",
       "    </tr>\n",
       "    <tr>\n",
       "      <th>2019-11</th>\n",
       "      <td>1.155714e+06</td>\n",
       "    </tr>\n",
       "    <tr>\n",
       "      <th>2019-12</th>\n",
       "      <td>1.361817e+06</td>\n",
       "    </tr>\n",
       "    <tr>\n",
       "      <th>2020-01</th>\n",
       "      <td>1.486627e+06</td>\n",
       "    </tr>\n",
       "    <tr>\n",
       "      <th>2020-02</th>\n",
       "      <td>1.310078e+06</td>\n",
       "    </tr>\n",
       "    <tr>\n",
       "      <th>2020-03</th>\n",
       "      <td>1.270846e+06</td>\n",
       "    </tr>\n",
       "    <tr>\n",
       "      <th>2020-04</th>\n",
       "      <td>1.060817e+06</td>\n",
       "    </tr>\n",
       "    <tr>\n",
       "      <th>2020-05</th>\n",
       "      <td>1.087497e+06</td>\n",
       "    </tr>\n",
       "    <tr>\n",
       "      <th>2020-06</th>\n",
       "      <td>1.260168e+06</td>\n",
       "    </tr>\n",
       "    <tr>\n",
       "      <th>2020-07</th>\n",
       "      <td>1.671291e+06</td>\n",
       "    </tr>\n",
       "    <tr>\n",
       "      <th>2020-08</th>\n",
       "      <td>1.633215e+06</td>\n",
       "    </tr>\n",
       "    <tr>\n",
       "      <th>2020-09</th>\n",
       "      <td>1.465794e+06</td>\n",
       "    </tr>\n",
       "    <tr>\n",
       "      <th>2020-10</th>\n",
       "      <td>1.245186e+06</td>\n",
       "    </tr>\n",
       "    <tr>\n",
       "      <th>2020-11</th>\n",
       "      <td>1.295480e+06</td>\n",
       "    </tr>\n",
       "    <tr>\n",
       "      <th>2020-12</th>\n",
       "      <td>1.393790e+06</td>\n",
       "    </tr>\n",
       "    <tr>\n",
       "      <th>2021-01</th>\n",
       "      <td>1.415441e+06</td>\n",
       "    </tr>\n",
       "    <tr>\n",
       "      <th>2021-02</th>\n",
       "      <td>1.273913e+06</td>\n",
       "    </tr>\n",
       "    <tr>\n",
       "      <th>2021-03</th>\n",
       "      <td>1.419972e+06</td>\n",
       "    </tr>\n",
       "    <tr>\n",
       "      <th>2021-04</th>\n",
       "      <td>1.223137e+06</td>\n",
       "    </tr>\n",
       "    <tr>\n",
       "      <th>2021-05</th>\n",
       "      <td>1.205472e+06</td>\n",
       "    </tr>\n",
       "    <tr>\n",
       "      <th>2021-06</th>\n",
       "      <td>1.369862e+06</td>\n",
       "    </tr>\n",
       "    <tr>\n",
       "      <th>2021-07</th>\n",
       "      <td>1.728500e+06</td>\n",
       "    </tr>\n",
       "    <tr>\n",
       "      <th>2021-08</th>\n",
       "      <td>1.793768e+06</td>\n",
       "    </tr>\n",
       "    <tr>\n",
       "      <th>2021-09</th>\n",
       "      <td>1.356352e+06</td>\n",
       "    </tr>\n",
       "    <tr>\n",
       "      <th>2021-10</th>\n",
       "      <td>1.236394e+06</td>\n",
       "    </tr>\n",
       "    <tr>\n",
       "      <th>2021-11</th>\n",
       "      <td>1.282836e+06</td>\n",
       "    </tr>\n",
       "    <tr>\n",
       "      <th>2021-12</th>\n",
       "      <td>1.473376e+06</td>\n",
       "    </tr>\n",
       "    <tr>\n",
       "      <th>2022-01</th>\n",
       "      <td>1.508527e+06</td>\n",
       "    </tr>\n",
       "    <tr>\n",
       "      <th>2022-02</th>\n",
       "      <td>1.278182e+06</td>\n",
       "    </tr>\n",
       "    <tr>\n",
       "      <th>2022-03</th>\n",
       "      <td>1.450718e+06</td>\n",
       "    </tr>\n",
       "    <tr>\n",
       "      <th>2022-04</th>\n",
       "      <td>1.143702e+06</td>\n",
       "    </tr>\n",
       "    <tr>\n",
       "      <th>2022-05</th>\n",
       "      <td>1.178572e+06</td>\n",
       "    </tr>\n",
       "    <tr>\n",
       "      <th>2022-06</th>\n",
       "      <td>1.377149e+06</td>\n",
       "    </tr>\n",
       "    <tr>\n",
       "      <th>2022-07</th>\n",
       "      <td>1.595943e+06</td>\n",
       "    </tr>\n",
       "  </tbody>\n",
       "</table>\n",
       "</div>"
      ],
      "text/plain": [
       "         Dağıtılan Enerji (MWh)\n",
       "Tarih                          \n",
       "2018-01            1.426880e+06\n",
       "2018-02            1.198419e+06\n",
       "2018-03            1.199236e+06\n",
       "2018-04            1.077336e+06\n",
       "2018-05            1.191347e+06\n",
       "2018-06            1.288838e+06\n",
       "2018-07            1.614309e+06\n",
       "2018-08            1.577075e+06\n",
       "2018-09            1.289557e+06\n",
       "2018-10            1.140141e+06\n",
       "2018-11            1.204900e+06\n",
       "2018-12            1.468905e+06\n",
       "2019-01            1.445652e+06\n",
       "2019-02            1.226965e+06\n",
       "2019-03            1.247573e+06\n",
       "2019-04            1.147666e+06\n",
       "2019-05            1.160237e+06\n",
       "2019-06            1.307687e+06\n",
       "2019-07            1.552376e+06\n",
       "2019-08            1.571683e+06\n",
       "2019-09            1.257185e+06\n",
       "2019-10            1.147302e+06\n",
       "2019-11            1.155714e+06\n",
       "2019-12            1.361817e+06\n",
       "2020-01            1.486627e+06\n",
       "2020-02            1.310078e+06\n",
       "2020-03            1.270846e+06\n",
       "2020-04            1.060817e+06\n",
       "2020-05            1.087497e+06\n",
       "2020-06            1.260168e+06\n",
       "2020-07            1.671291e+06\n",
       "2020-08            1.633215e+06\n",
       "2020-09            1.465794e+06\n",
       "2020-10            1.245186e+06\n",
       "2020-11            1.295480e+06\n",
       "2020-12            1.393790e+06\n",
       "2021-01            1.415441e+06\n",
       "2021-02            1.273913e+06\n",
       "2021-03            1.419972e+06\n",
       "2021-04            1.223137e+06\n",
       "2021-05            1.205472e+06\n",
       "2021-06            1.369862e+06\n",
       "2021-07            1.728500e+06\n",
       "2021-08            1.793768e+06\n",
       "2021-09            1.356352e+06\n",
       "2021-10            1.236394e+06\n",
       "2021-11            1.282836e+06\n",
       "2021-12            1.473376e+06\n",
       "2022-01            1.508527e+06\n",
       "2022-02            1.278182e+06\n",
       "2022-03            1.450718e+06\n",
       "2022-04            1.143702e+06\n",
       "2022-05            1.178572e+06\n",
       "2022-06            1.377149e+06\n",
       "2022-07            1.595943e+06"
      ]
     },
     "execution_count": 6,
     "metadata": {},
     "output_type": "execute_result"
    }
   ],
   "source": [
    "dfMonth = dftrain.groupby(\"Tarih\")['Dağıtılan Enerji (MWh)'].sum().reset_index().set_index(\"Tarih\")\n",
    "dfMonth"
   ]
  },
  {
   "cell_type": "code",
   "execution_count": 7,
   "id": "b0f17a83",
   "metadata": {
    "execution": {
     "iopub.execute_input": "2023-04-16T08:31:34.155772Z",
     "iopub.status.busy": "2023-04-16T08:31:34.155324Z",
     "iopub.status.idle": "2023-04-16T08:31:34.578084Z",
     "shell.execute_reply": "2023-04-16T08:31:34.576906Z"
    },
    "papermill": {
     "duration": 0.433405,
     "end_time": "2023-04-16T08:31:34.580434",
     "exception": false,
     "start_time": "2023-04-16T08:31:34.147029",
     "status": "completed"
    },
    "tags": []
   },
   "outputs": [
    {
     "data": {
      "text/plain": [
       "<AxesSubplot:xlabel='Tarih'>"
      ]
     },
     "execution_count": 7,
     "metadata": {},
     "output_type": "execute_result"
    },
    {
     "data": {
      "image/png": "[encoded data removed]",
      "text/plain": [
       "<Figure size 1400x800 with 1 Axes>"
      ]
     },
     "metadata": {},
     "output_type": "display_data"
    }
   ],
   "source": [
    "dfMonth.plot(figsize=(14,8),marker=\"o\",markersize=8)"
   ]
  },
  {
   "cell_type": "markdown",
   "id": "0f3ae738",
   "metadata": {
    "papermill": {
     "duration": 0.008276,
     "end_time": "2023-04-16T08:31:34.597454",
     "exception": false,
     "start_time": "2023-04-16T08:31:34.589178",
     "status": "completed"
    },
    "tags": []
   },
   "source": [
    "Adfuller durağanlık testi zaman serilerinde trend olup olmadığını kontrol etmektedir.<br>\n",
    "Eğer p-value değeri 0.05 ten küçükse verinin durağan olduğunu söyleyebiliriz.<br>\n"
   ]
  },
  {
   "cell_type": "code",
   "execution_count": 8,
   "id": "f3e4cf2c",
   "metadata": {
    "execution": {
     "iopub.execute_input": "2023-04-16T08:31:34.616165Z",
     "iopub.status.busy": "2023-04-16T08:31:34.615741Z",
     "iopub.status.idle": "2023-04-16T08:31:34.641012Z",
     "shell.execute_reply": "2023-04-16T08:31:34.639536Z"
    },
    "papermill": {
     "duration": 0.037596,
     "end_time": "2023-04-16T08:31:34.643511",
     "exception": false,
     "start_time": "2023-04-16T08:31:34.605915",
     "status": "completed"
    },
    "tags": []
   },
   "outputs": [
    {
     "name": "stdout",
     "output_type": "stream",
     "text": [
      "ADF Statistic: -0.336503\n",
      "p-value: 0.920173\n",
      "Critical Values:\n",
      "\t1%: -3.593\n",
      "\t5%: -2.932\n",
      "\t10%: -2.604\n"
     ]
    }
   ],
   "source": [
    "df = dfMonth\n",
    "\n",
    "\n",
    "from statsmodels.tsa.stattools import adfuller\n",
    "result = adfuller(df)\n",
    "\n",
    "print('ADF Statistic: %f' % result[0])\n",
    "print('p-value: %f' % result[1])\n",
    "print('Critical Values:')\n",
    "for key, value in result[4].items():\n",
    "    print('\\t%s: %.3f' % (key, value))\n",
    "\n"
   ]
  },
  {
   "cell_type": "code",
   "execution_count": 9,
   "id": "247fbd74",
   "metadata": {
    "execution": {
     "iopub.execute_input": "2023-04-16T08:31:34.663096Z",
     "iopub.status.busy": "2023-04-16T08:31:34.662644Z",
     "iopub.status.idle": "2023-04-16T08:31:35.007622Z",
     "shell.execute_reply": "2023-04-16T08:31:35.006376Z"
    },
    "papermill": {
     "duration": 0.358488,
     "end_time": "2023-04-16T08:31:35.010768",
     "exception": false,
     "start_time": "2023-04-16T08:31:34.652280",
     "status": "completed"
    },
    "tags": []
   },
   "outputs": [
    {
     "data": {
      "text/plain": [
       "<AxesSubplot:xlabel='Tarih'>"
      ]
     },
     "execution_count": 9,
     "metadata": {},
     "output_type": "execute_result"
    },
    {
     "data": {
      "image/png": "[encoded data removed]",
      "text/plain": [
       "<Figure size 1400x800 with 1 Axes>"
      ]
     },
     "metadata": {},
     "output_type": "display_data"
    }
   ],
   "source": [
    "dfMonth.diff().plot(figsize=(14,8),marker=\"o\",markersize=8)"
   ]
  },
  {
   "cell_type": "code",
   "execution_count": 10,
   "id": "bfd92e85",
   "metadata": {
    "execution": {
     "iopub.execute_input": "2023-04-16T08:31:35.035390Z",
     "iopub.status.busy": "2023-04-16T08:31:35.034542Z",
     "iopub.status.idle": "2023-04-16T08:31:35.052510Z",
     "shell.execute_reply": "2023-04-16T08:31:35.051322Z"
    },
    "papermill": {
     "duration": 0.032101,
     "end_time": "2023-04-16T08:31:35.054941",
     "exception": false,
     "start_time": "2023-04-16T08:31:35.022840",
     "status": "completed"
    },
    "tags": []
   },
   "outputs": [
    {
     "name": "stdout",
     "output_type": "stream",
     "text": [
      "ADF Statistic: -3.164486\n",
      "p-value: 0.022135\n",
      "Critical Values:\n",
      "\t1%: -3.597\n",
      "\t5%: -2.933\n",
      "\t10%: -2.605\n"
     ]
    }
   ],
   "source": [
    "#Birinci dereceden fark alındığında verinin p-value değeri 0.02 olarak bulunmuştur.\n",
    "#Modele d = 1 değeri eklenmelidir.\n",
    "\n",
    "from statsmodels.tsa.stattools import adfuller\n",
    "\n",
    "result = adfuller(dfMonth.diff().dropna())\n",
    "\n",
    "print('ADF Statistic: %f' % result[0])\n",
    "print('p-value: %f' % result[1])\n",
    "print('Critical Values:')\n",
    "for key, value in result[4].items():\n",
    "    print('\\t%s: %.3f' % (key, value))"
   ]
  },
  {
   "cell_type": "code",
   "execution_count": 11,
   "id": "7f19436a",
   "metadata": {
    "execution": {
     "iopub.execute_input": "2023-04-16T08:31:35.078654Z",
     "iopub.status.busy": "2023-04-16T08:31:35.078224Z",
     "iopub.status.idle": "2023-04-16T08:31:36.012660Z",
     "shell.execute_reply": "2023-04-16T08:31:36.011313Z"
    },
    "papermill": {
     "duration": 0.949455,
     "end_time": "2023-04-16T08:31:36.015809",
     "exception": false,
     "start_time": "2023-04-16T08:31:35.066354",
     "status": "completed"
    },
    "tags": []
   },
   "outputs": [
    {
     "name": "stdout",
     "output_type": "stream",
     "text": [
      "RUNNING THE L-BFGS-B CODE\n",
      "\n",
      "           * * *\n",
      "\n",
      "Machine precision = 2.220D-16\n",
      " N =            6     M =           10\n",
      "\n",
      "At X0         0 variables are exactly at the bounds\n",
      "\n",
      "At iterate    0    f=  1.22789D+01    |proj g|=  5.17834D+00\n",
      "\n",
      "At iterate    5    f=  9.73499D+00    |proj g|=  8.12206D-02\n",
      "\n",
      "At iterate   10    f=  9.72936D+00    |proj g|=  1.12103D-02\n"
     ]
    },
    {
     "name": "stderr",
     "output_type": "stream",
     "text": [
      " This problem is unconstrained.\n"
     ]
    },
    {
     "name": "stdout",
     "output_type": "stream",
     "text": [
      "\n",
      "At iterate   15    f=  9.72604D+00    |proj g|=  3.91943D-03\n",
      "\n",
      "At iterate   20    f=  9.72603D+00    |proj g|=  1.56145D-04\n",
      "\n",
      "At iterate   25    f=  9.72592D+00    |proj g|=  5.91107D-03\n",
      "\n",
      "At iterate   30    f=  9.72586D+00    |proj g|=  7.21064D-04\n",
      "\n",
      "At iterate   35    f=  9.72577D+00    |proj g|=  2.85824D-03\n",
      "\n",
      "At iterate   40    f=  9.72570D+00    |proj g|=  9.41381D-04\n",
      "\n",
      "At iterate   45    f=  9.72569D+00    |proj g|=  6.12026D-05\n",
      "\n",
      "           * * *\n",
      "\n",
      "Tit   = total number of iterations\n",
      "Tnf   = total number of function evaluations\n",
      "Tnint = total number of segments explored during Cauchy searches\n",
      "Skip  = number of BFGS updates skipped\n",
      "Nact  = number of active bounds at final generalized Cauchy point\n",
      "Projg = norm of the final projected gradient\n",
      "F     = final function value\n",
      "\n",
      "           * * *\n",
      "\n",
      "   N    Tit     Tnf  Tnint  Skip  Nact     Projg        F\n",
      "    6     46     54      1     0     0   5.458D-06   9.726D+00\n",
      "  F =   9.7256937188143393     \n",
      "\n",
      "CONVERGENCE: NORM_OF_PROJECTED_GRADIENT_<=_PGTOL            \n"
     ]
    },
    {
     "data": {
      "text/html": [
       "<table class=\"simpletable\">\n",
       "<caption>SARIMAX Results</caption>\n",
       "<tr>\n",
       "  <th>Dep. Variable:</th>       <td>Dağıtılan Enerji (MWh)</td>      <th>  No. Observations:  </th>    <td>55</td>   \n",
       "</tr>\n",
       "<tr>\n",
       "  <th>Model:</th>           <td>SARIMAX(2, 1, 2)x(1, 1, [], 12)</td> <th>  Log Likelihood     </th> <td>-534.913</td>\n",
       "</tr>\n",
       "<tr>\n",
       "  <th>Date:</th>                   <td>Sun, 16 Apr 2023</td>         <th>  AIC                </th> <td>1081.826</td>\n",
       "</tr>\n",
       "<tr>\n",
       "  <th>Time:</th>                       <td>08:31:35</td>             <th>  BIC                </th> <td>1092.252</td>\n",
       "</tr>\n",
       "<tr>\n",
       "  <th>Sample:</th>                    <td>01-31-2018</td>            <th>  HQIC               </th> <td>1085.648</td>\n",
       "</tr>\n",
       "<tr>\n",
       "  <th></th>                          <td>- 07-31-2022</td>           <th>                     </th>     <td> </td>   \n",
       "</tr>\n",
       "<tr>\n",
       "  <th>Covariance Type:</th>               <td>opg</td>               <th>                     </th>     <td> </td>   \n",
       "</tr>\n",
       "</table>\n",
       "<table class=\"simpletable\">\n",
       "<tr>\n",
       "      <td></td>        <th>coef</th>     <th>std err</th>      <th>z</th>      <th>P>|z|</th>  <th>[0.025</th>    <th>0.975]</th>  \n",
       "</tr>\n",
       "<tr>\n",
       "  <th>ar.L1</th>    <td>    0.1763</td> <td>    0.579</td> <td>    0.305</td> <td> 0.761</td> <td>   -0.958</td> <td>    1.311</td>\n",
       "</tr>\n",
       "<tr>\n",
       "  <th>ar.L2</th>    <td>    0.8025</td> <td>    0.653</td> <td>    1.230</td> <td> 0.219</td> <td>   -0.477</td> <td>    2.081</td>\n",
       "</tr>\n",
       "<tr>\n",
       "  <th>ma.L1</th>    <td>   -0.2210</td> <td>    0.689</td> <td>   -0.321</td> <td> 0.748</td> <td>   -1.572</td> <td>    1.130</td>\n",
       "</tr>\n",
       "<tr>\n",
       "  <th>ma.L2</th>    <td>   -0.7727</td> <td>    0.766</td> <td>   -1.009</td> <td> 0.313</td> <td>   -2.274</td> <td>    0.729</td>\n",
       "</tr>\n",
       "<tr>\n",
       "  <th>ar.S.L12</th> <td>   -0.1406</td> <td>    0.096</td> <td>   -1.459</td> <td> 0.144</td> <td>   -0.329</td> <td>    0.048</td>\n",
       "</tr>\n",
       "<tr>\n",
       "  <th>sigma2</th>   <td> 7.398e+09</td> <td> 2.85e-10</td> <td> 2.59e+19</td> <td> 0.000</td> <td>  7.4e+09</td> <td>  7.4e+09</td>\n",
       "</tr>\n",
       "</table>\n",
       "<table class=\"simpletable\">\n",
       "<tr>\n",
       "  <th>Ljung-Box (L1) (Q):</th>     <td>3.94</td> <th>  Jarque-Bera (JB):  </th> <td>0.97</td> \n",
       "</tr>\n",
       "<tr>\n",
       "  <th>Prob(Q):</th>                <td>0.05</td> <th>  Prob(JB):          </th> <td>0.62</td> \n",
       "</tr>\n",
       "<tr>\n",
       "  <th>Heteroskedasticity (H):</th> <td>4.71</td> <th>  Skew:              </th> <td>-0.20</td>\n",
       "</tr>\n",
       "<tr>\n",
       "  <th>Prob(H) (two-sided):</th>    <td>0.01</td> <th>  Kurtosis:          </th> <td>3.63</td> \n",
       "</tr>\n",
       "</table><br/><br/>Warnings:<br/>[1] Covariance matrix calculated using the outer product of gradients (complex-step).<br/>[2] Covariance matrix is singular or near-singular, with condition number 1.22e+36. Standard errors may be unstable."
      ],
      "text/plain": [
       "<class 'statsmodels.iolib.summary.Summary'>\n",
       "\"\"\"\n",
       "                                      SARIMAX Results                                      \n",
       "===========================================================================================\n",
       "Dep. Variable:              Dağıtılan Enerji (MWh)   No. Observations:                   55\n",
       "Model:             SARIMAX(2, 1, 2)x(1, 1, [], 12)   Log Likelihood                -534.913\n",
       "Date:                             Sun, 16 Apr 2023   AIC                           1081.826\n",
       "Time:                                     08:31:35   BIC                           1092.252\n",
       "Sample:                                 01-31-2018   HQIC                          1085.648\n",
       "                                      - 07-31-2022                                         \n",
       "Covariance Type:                               opg                                         \n",
       "==============================================================================\n",
       "                 coef    std err          z      P>|z|      [0.025      0.975]\n",
       "------------------------------------------------------------------------------\n",
       "ar.L1          0.1763      0.579      0.305      0.761      -0.958       1.311\n",
       "ar.L2          0.8025      0.653      1.230      0.219      -0.477       2.081\n",
       "ma.L1         -0.2210      0.689     -0.321      0.748      -1.572       1.130\n",
       "ma.L2         -0.7727      0.766     -1.009      0.313      -2.274       0.729\n",
       "ar.S.L12      -0.1406      0.096     -1.459      0.144      -0.329       0.048\n",
       "sigma2      7.398e+09   2.85e-10   2.59e+19      0.000     7.4e+09     7.4e+09\n",
       "===================================================================================\n",
       "Ljung-Box (L1) (Q):                   3.94   Jarque-Bera (JB):                 0.97\n",
       "Prob(Q):                              0.05   Prob(JB):                         0.62\n",
       "Heteroskedasticity (H):               4.71   Skew:                            -0.20\n",
       "Prob(H) (two-sided):                  0.01   Kurtosis:                         3.63\n",
       "===================================================================================\n",
       "\n",
       "Warnings:\n",
       "[1] Covariance matrix calculated using the outer product of gradients (complex-step).\n",
       "[2] Covariance matrix is singular or near-singular, with condition number 1.22e+36. Standard errors may be unstable.\n",
       "\"\"\""
      ]
     },
     "execution_count": 11,
     "metadata": {},
     "output_type": "execute_result"
    }
   ],
   "source": [
    "#model = SARIMAX(df,order=(2,1,2) ,seasonal_order = (1,1,0,12) ) mape = 5,17\n",
    "\n",
    "model = SARIMAX(df,order=(2,1,2) ,seasonal_order = (1,1,0,12) )\n",
    "model_f = model.fit()\n",
    "\n",
    "model_f.summary()"
   ]
  },
  {
   "cell_type": "code",
   "execution_count": 12,
   "id": "d655e8d1",
   "metadata": {
    "execution": {
     "iopub.execute_input": "2023-04-16T08:31:36.056285Z",
     "iopub.status.busy": "2023-04-16T08:31:36.055722Z",
     "iopub.status.idle": "2023-04-16T08:31:36.067906Z",
     "shell.execute_reply": "2023-04-16T08:31:36.066886Z"
    },
    "papermill": {
     "duration": 0.035837,
     "end_time": "2023-04-16T08:31:36.070746",
     "exception": false,
     "start_time": "2023-04-16T08:31:36.034909",
     "status": "completed"
    },
    "tags": []
   },
   "outputs": [],
   "source": [
    "\n",
    "df = dfMonth\n",
    "\n",
    "Egitim = df[:40]\n",
    "Test = df[40:]\n",
    "\n",
    "start = len(Egitim)\n",
    "end = len(Egitim) + len(Test)-1\n",
    "predict = model_f.predict(start=start,end = end,typ='levels').rename('Test_Data').astype('int')\n",
    "predict = pd.DataFrame(predict)"
   ]
  },
  {
   "cell_type": "code",
   "execution_count": 13,
   "id": "e51083f1",
   "metadata": {
    "execution": {
     "iopub.execute_input": "2023-04-16T08:31:36.095475Z",
     "iopub.status.busy": "2023-04-16T08:31:36.095065Z",
     "iopub.status.idle": "2023-04-16T08:31:36.103144Z",
     "shell.execute_reply": "2023-04-16T08:31:36.102015Z"
    },
    "papermill": {
     "duration": 0.023138,
     "end_time": "2023-04-16T08:31:36.105517",
     "exception": false,
     "start_time": "2023-04-16T08:31:36.082379",
     "status": "completed"
    },
    "tags": []
   },
   "outputs": [
    {
     "data": {
      "text/plain": [
       "0.9856583166381719"
      ]
     },
     "execution_count": 13,
     "metadata": {},
     "output_type": "execute_result"
    }
   ],
   "source": [
    "Test['Dağıtılan Enerji (MWh)'].sum()/predict['Test_Data'].sum()"
   ]
  },
  {
   "cell_type": "code",
   "execution_count": 14,
   "id": "465be4b2",
   "metadata": {
    "execution": {
     "iopub.execute_input": "2023-04-16T08:31:36.130320Z",
     "iopub.status.busy": "2023-04-16T08:31:36.129938Z",
     "iopub.status.idle": "2023-04-16T08:31:36.137090Z",
     "shell.execute_reply": "2023-04-16T08:31:36.135883Z"
    },
    "papermill": {
     "duration": 0.023327,
     "end_time": "2023-04-16T08:31:36.140263",
     "exception": false,
     "start_time": "2023-04-16T08:31:36.116936",
     "status": "completed"
    },
    "tags": []
   },
   "outputs": [
    {
     "name": "stdout",
     "output_type": "stream",
     "text": [
      "MAPE değeri 5.17 olarak bulunmuştur. \n"
     ]
    }
   ],
   "source": [
    "\n",
    "def Mape_Degeri(tahmin, test):\n",
    "    mape = np.mean(np.abs(tahmin - test)/np.abs(test))*100  # MAPE\n",
    "            # ACF1\n",
    "    return mape\n",
    "mape = Mape_Degeri(np.array(list(predict['Test_Data'])), np.array(list(Test['Dağıtılan Enerji (MWh)'])))\n",
    "print(\"MAPE değeri {} olarak bulunmuştur. \".format(round(mape,2)))"
   ]
  },
  {
   "cell_type": "code",
   "execution_count": 15,
   "id": "78c86340",
   "metadata": {
    "execution": {
     "iopub.execute_input": "2023-04-16T08:31:36.165236Z",
     "iopub.status.busy": "2023-04-16T08:31:36.164861Z",
     "iopub.status.idle": "2023-04-16T08:31:36.415038Z",
     "shell.execute_reply": "2023-04-16T08:31:36.414097Z"
    },
    "papermill": {
     "duration": 0.266209,
     "end_time": "2023-04-16T08:31:36.418126",
     "exception": false,
     "start_time": "2023-04-16T08:31:36.151917",
     "status": "completed"
    },
    "tags": []
   },
   "outputs": [
    {
     "data": {
      "image/png": "[encoded data removed]",
      "text/plain": [
       "<Figure size 1600x800 with 1 Axes>"
      ]
     },
     "metadata": {},
     "output_type": "display_data"
    }
   ],
   "source": [
    "fig, ax = plt.subplots(figsize=(16,8))\n",
    "\n",
    "ax.plot(list(Test[\"Dağıtılan Enerji (MWh)\"]),marker='o',color='red')\n",
    "ax.plot(list(predict[\"Test_Data\"]),marker='o',color='green')\n",
    "\n",
    "ax.set(xlabel='Dönem', ylabel='Mwh',\n",
    "       title='Test ve Tahmin Değerleri')\n",
    "ax.grid()\n",
    "\n",
    "plt.xticks(rotation = 90)\n",
    "plt.show()"
   ]
  },
  {
   "cell_type": "code",
   "execution_count": 16,
   "id": "83f55d67",
   "metadata": {
    "execution": {
     "iopub.execute_input": "2023-04-16T08:31:36.447964Z",
     "iopub.status.busy": "2023-04-16T08:31:36.446504Z",
     "iopub.status.idle": "2023-04-16T08:31:36.464406Z",
     "shell.execute_reply": "2023-04-16T08:31:36.463165Z"
    },
    "papermill": {
     "duration": 0.035324,
     "end_time": "2023-04-16T08:31:36.466982",
     "exception": false,
     "start_time": "2023-04-16T08:31:36.431658",
     "status": "completed"
    },
    "tags": []
   },
   "outputs": [
    {
     "data": {
      "text/html": [
       "<div>\n",
       "<style scoped>\n",
       "    .dataframe tbody tr th:only-of-type {\n",
       "        vertical-align: middle;\n",
       "    }\n",
       "\n",
       "    .dataframe tbody tr th {\n",
       "        vertical-align: top;\n",
       "    }\n",
       "\n",
       "    .dataframe thead th {\n",
       "        text-align: right;\n",
       "    }\n",
       "</style>\n",
       "<table border=\"1\" class=\"dataframe\">\n",
       "  <thead>\n",
       "    <tr style=\"text-align: right;\">\n",
       "      <th></th>\n",
       "      <th>Mwh</th>\n",
       "    </tr>\n",
       "  </thead>\n",
       "  <tbody>\n",
       "    <tr>\n",
       "      <th>2022-08</th>\n",
       "      <td>1652809</td>\n",
       "    </tr>\n",
       "  </tbody>\n",
       "</table>\n",
       "</div>"
      ],
      "text/plain": [
       "             Mwh\n",
       "2022-08  1652809"
      ]
     },
     "execution_count": 16,
     "metadata": {},
     "output_type": "execute_result"
    }
   ],
   "source": [
    "tahminx = model_f.forecast(steps=1).rename('Mwh').astype('int')\n",
    "tahmin = pd.DataFrame(tahminx)\n",
    "tahmin"
   ]
  },
  {
   "cell_type": "code",
   "execution_count": 17,
   "id": "efb746eb",
   "metadata": {
    "execution": {
     "iopub.execute_input": "2023-04-16T08:31:36.495579Z",
     "iopub.status.busy": "2023-04-16T08:31:36.495140Z",
     "iopub.status.idle": "2023-04-16T08:31:36.540844Z",
     "shell.execute_reply": "2023-04-16T08:31:36.539677Z"
    },
    "papermill": {
     "duration": 0.062907,
     "end_time": "2023-04-16T08:31:36.543449",
     "exception": false,
     "start_time": "2023-04-16T08:31:36.480542",
     "status": "completed"
    },
    "tags": []
   },
   "outputs": [
    {
     "data": {
      "text/html": [
       "<div>\n",
       "<style scoped>\n",
       "    .dataframe tbody tr th:only-of-type {\n",
       "        vertical-align: middle;\n",
       "    }\n",
       "\n",
       "    .dataframe tbody tr th {\n",
       "        vertical-align: top;\n",
       "    }\n",
       "\n",
       "    .dataframe thead th {\n",
       "        text-align: right;\n",
       "    }\n",
       "</style>\n",
       "<table border=\"1\" class=\"dataframe\">\n",
       "  <thead>\n",
       "    <tr style=\"text-align: right;\">\n",
       "      <th></th>\n",
       "      <th>Tarih</th>\n",
       "      <th>Dağıtılan Enerji (MWh)</th>\n",
       "    </tr>\n",
       "  </thead>\n",
       "  <tbody>\n",
       "    <tr>\n",
       "      <th>0</th>\n",
       "      <td>2018-01-01 00:00:00</td>\n",
       "      <td>1593.944216</td>\n",
       "    </tr>\n",
       "    <tr>\n",
       "      <th>1</th>\n",
       "      <td>2018-01-01 01:00:00</td>\n",
       "      <td>1513.933887</td>\n",
       "    </tr>\n",
       "    <tr>\n",
       "      <th>2</th>\n",
       "      <td>2018-01-01 02:00:00</td>\n",
       "      <td>1402.612637</td>\n",
       "    </tr>\n",
       "    <tr>\n",
       "      <th>3</th>\n",
       "      <td>2018-01-01 03:00:00</td>\n",
       "      <td>1278.527266</td>\n",
       "    </tr>\n",
       "    <tr>\n",
       "      <th>4</th>\n",
       "      <td>2018-01-01 04:00:00</td>\n",
       "      <td>1220.697701</td>\n",
       "    </tr>\n",
       "    <tr>\n",
       "      <th>...</th>\n",
       "      <td>...</td>\n",
       "      <td>...</td>\n",
       "    </tr>\n",
       "    <tr>\n",
       "      <th>40147</th>\n",
       "      <td>2022-07-31 19:00:00</td>\n",
       "      <td>2492.489498</td>\n",
       "    </tr>\n",
       "    <tr>\n",
       "      <th>40148</th>\n",
       "      <td>2022-07-31 20:00:00</td>\n",
       "      <td>2479.958245</td>\n",
       "    </tr>\n",
       "    <tr>\n",
       "      <th>40149</th>\n",
       "      <td>2022-07-31 21:00:00</td>\n",
       "      <td>2485.016884</td>\n",
       "    </tr>\n",
       "    <tr>\n",
       "      <th>40150</th>\n",
       "      <td>2022-07-31 22:00:00</td>\n",
       "      <td>2396.574255</td>\n",
       "    </tr>\n",
       "    <tr>\n",
       "      <th>40151</th>\n",
       "      <td>2022-07-31 23:00:00</td>\n",
       "      <td>2285.252844</td>\n",
       "    </tr>\n",
       "  </tbody>\n",
       "</table>\n",
       "<p>40152 rows × 2 columns</p>\n",
       "</div>"
      ],
      "text/plain": [
       "                     Tarih  Dağıtılan Enerji (MWh)\n",
       "0      2018-01-01 00:00:00             1593.944216\n",
       "1      2018-01-01 01:00:00             1513.933887\n",
       "2      2018-01-01 02:00:00             1402.612637\n",
       "3      2018-01-01 03:00:00             1278.527266\n",
       "4      2018-01-01 04:00:00             1220.697701\n",
       "...                    ...                     ...\n",
       "40147  2022-07-31 19:00:00             2492.489498\n",
       "40148  2022-07-31 20:00:00             2479.958245\n",
       "40149  2022-07-31 21:00:00             2485.016884\n",
       "40150  2022-07-31 22:00:00             2396.574255\n",
       "40151  2022-07-31 23:00:00             2285.252844\n",
       "\n",
       "[40152 rows x 2 columns]"
      ]
     },
     "execution_count": 17,
     "metadata": {},
     "output_type": "execute_result"
    }
   ],
   "source": [
    "df = pd.read_csv(\"/kaggle/input/gdz-elektrik-datathon-2023/train.csv\",parse_dates=True)\n",
    "df"
   ]
  },
  {
   "cell_type": "code",
   "execution_count": 18,
   "id": "78007856",
   "metadata": {
    "execution": {
     "iopub.execute_input": "2023-04-16T08:31:36.572452Z",
     "iopub.status.busy": "2023-04-16T08:31:36.572055Z",
     "iopub.status.idle": "2023-04-16T08:31:36.591760Z",
     "shell.execute_reply": "2023-04-16T08:31:36.590440Z"
    },
    "papermill": {
     "duration": 0.037056,
     "end_time": "2023-04-16T08:31:36.594360",
     "exception": false,
     "start_time": "2023-04-16T08:31:36.557304",
     "status": "completed"
    },
    "tags": []
   },
   "outputs": [
    {
     "data": {
      "text/html": [
       "<div>\n",
       "<style scoped>\n",
       "    .dataframe tbody tr th:only-of-type {\n",
       "        vertical-align: middle;\n",
       "    }\n",
       "\n",
       "    .dataframe tbody tr th {\n",
       "        vertical-align: top;\n",
       "    }\n",
       "\n",
       "    .dataframe thead th {\n",
       "        text-align: right;\n",
       "    }\n",
       "</style>\n",
       "<table border=\"1\" class=\"dataframe\">\n",
       "  <thead>\n",
       "    <tr style=\"text-align: right;\">\n",
       "      <th></th>\n",
       "      <th>Tarih</th>\n",
       "      <th>Dağıtılan Enerji (MWh)</th>\n",
       "    </tr>\n",
       "  </thead>\n",
       "  <tbody>\n",
       "    <tr>\n",
       "      <th>31392</th>\n",
       "      <td>2021-08-01 00:00:00</td>\n",
       "      <td>2571.230740</td>\n",
       "    </tr>\n",
       "    <tr>\n",
       "      <th>31393</th>\n",
       "      <td>2021-08-01 01:00:00</td>\n",
       "      <td>2422.247527</td>\n",
       "    </tr>\n",
       "    <tr>\n",
       "      <th>31394</th>\n",
       "      <td>2021-08-01 02:00:00</td>\n",
       "      <td>2286.023672</td>\n",
       "    </tr>\n",
       "    <tr>\n",
       "      <th>31395</th>\n",
       "      <td>2021-08-01 03:00:00</td>\n",
       "      <td>2173.951400</td>\n",
       "    </tr>\n",
       "    <tr>\n",
       "      <th>31396</th>\n",
       "      <td>2021-08-01 04:00:00</td>\n",
       "      <td>2085.294765</td>\n",
       "    </tr>\n",
       "    <tr>\n",
       "      <th>...</th>\n",
       "      <td>...</td>\n",
       "      <td>...</td>\n",
       "    </tr>\n",
       "    <tr>\n",
       "      <th>32131</th>\n",
       "      <td>2021-08-31 19:00:00</td>\n",
       "      <td>2538.809761</td>\n",
       "    </tr>\n",
       "    <tr>\n",
       "      <th>32132</th>\n",
       "      <td>2021-08-31 20:00:00</td>\n",
       "      <td>2572.939106</td>\n",
       "    </tr>\n",
       "    <tr>\n",
       "      <th>32133</th>\n",
       "      <td>2021-08-31 21:00:00</td>\n",
       "      <td>2484.682803</td>\n",
       "    </tr>\n",
       "    <tr>\n",
       "      <th>32134</th>\n",
       "      <td>2021-08-31 22:00:00</td>\n",
       "      <td>2348.579241</td>\n",
       "    </tr>\n",
       "    <tr>\n",
       "      <th>32135</th>\n",
       "      <td>2021-08-31 23:00:00</td>\n",
       "      <td>2208.864855</td>\n",
       "    </tr>\n",
       "  </tbody>\n",
       "</table>\n",
       "<p>744 rows × 2 columns</p>\n",
       "</div>"
      ],
      "text/plain": [
       "                     Tarih  Dağıtılan Enerji (MWh)\n",
       "31392  2021-08-01 00:00:00             2571.230740\n",
       "31393  2021-08-01 01:00:00             2422.247527\n",
       "31394  2021-08-01 02:00:00             2286.023672\n",
       "31395  2021-08-01 03:00:00             2173.951400\n",
       "31396  2021-08-01 04:00:00             2085.294765\n",
       "...                    ...                     ...\n",
       "32131  2021-08-31 19:00:00             2538.809761\n",
       "32132  2021-08-31 20:00:00             2572.939106\n",
       "32133  2021-08-31 21:00:00             2484.682803\n",
       "32134  2021-08-31 22:00:00             2348.579241\n",
       "32135  2021-08-31 23:00:00             2208.864855\n",
       "\n",
       "[744 rows x 2 columns]"
      ]
     },
     "execution_count": 18,
     "metadata": {},
     "output_type": "execute_result"
    }
   ],
   "source": [
    "df08 = df[(df['Tarih'] > \"2021-08-01\") & (df['Tarih'] < \"2021-09-01\")]\n",
    "df08"
   ]
  },
  {
   "cell_type": "code",
   "execution_count": 19,
   "id": "f80169c2",
   "metadata": {
    "execution": {
     "iopub.execute_input": "2023-04-16T08:31:36.624475Z",
     "iopub.status.busy": "2023-04-16T08:31:36.624053Z",
     "iopub.status.idle": "2023-04-16T08:31:36.631774Z",
     "shell.execute_reply": "2023-04-16T08:31:36.630557Z"
    },
    "papermill": {
     "duration": 0.025571,
     "end_time": "2023-04-16T08:31:36.634179",
     "exception": false,
     "start_time": "2023-04-16T08:31:36.608608",
     "status": "completed"
    },
    "tags": []
   },
   "outputs": [
    {
     "data": {
      "text/plain": [
       "1793768.2071000002"
      ]
     },
     "execution_count": 19,
     "metadata": {},
     "output_type": "execute_result"
    }
   ],
   "source": [
    "df08[\"Dağıtılan Enerji (MWh)\"].sum()"
   ]
  },
  {
   "cell_type": "code",
   "execution_count": 20,
   "id": "d62fe835",
   "metadata": {
    "execution": {
     "iopub.execute_input": "2023-04-16T08:31:36.663931Z",
     "iopub.status.busy": "2023-04-16T08:31:36.662965Z",
     "iopub.status.idle": "2023-04-16T08:31:36.683172Z",
     "shell.execute_reply": "2023-04-16T08:31:36.681948Z"
    },
    "papermill": {
     "duration": 0.037807,
     "end_time": "2023-04-16T08:31:36.685708",
     "exception": false,
     "start_time": "2023-04-16T08:31:36.647901",
     "status": "completed"
    },
    "tags": []
   },
   "outputs": [
    {
     "data": {
      "text/html": [
       "<div>\n",
       "<style scoped>\n",
       "    .dataframe tbody tr th:only-of-type {\n",
       "        vertical-align: middle;\n",
       "    }\n",
       "\n",
       "    .dataframe tbody tr th {\n",
       "        vertical-align: top;\n",
       "    }\n",
       "\n",
       "    .dataframe thead th {\n",
       "        text-align: right;\n",
       "    }\n",
       "</style>\n",
       "<table border=\"1\" class=\"dataframe\">\n",
       "  <thead>\n",
       "    <tr style=\"text-align: right;\">\n",
       "      <th></th>\n",
       "      <th>Tarih</th>\n",
       "      <th>Dağıtılan Enerji (MWh)</th>\n",
       "      <th>Saatlik%</th>\n",
       "      <th>Tahmin</th>\n",
       "      <th>Sonuc</th>\n",
       "    </tr>\n",
       "  </thead>\n",
       "  <tbody>\n",
       "    <tr>\n",
       "      <th>31392</th>\n",
       "      <td>2021-08-01 00:00:00</td>\n",
       "      <td>2571.230740</td>\n",
       "      <td>0.001433</td>\n",
       "      <td>1652809</td>\n",
       "      <td>2369.176403</td>\n",
       "    </tr>\n",
       "    <tr>\n",
       "      <th>31393</th>\n",
       "      <td>2021-08-01 01:00:00</td>\n",
       "      <td>2422.247527</td>\n",
       "      <td>0.001350</td>\n",
       "      <td>1652809</td>\n",
       "      <td>2231.900698</td>\n",
       "    </tr>\n",
       "    <tr>\n",
       "      <th>31394</th>\n",
       "      <td>2021-08-01 02:00:00</td>\n",
       "      <td>2286.023672</td>\n",
       "      <td>0.001274</td>\n",
       "      <td>1652809</td>\n",
       "      <td>2106.381686</td>\n",
       "    </tr>\n",
       "    <tr>\n",
       "      <th>31395</th>\n",
       "      <td>2021-08-01 03:00:00</td>\n",
       "      <td>2173.951400</td>\n",
       "      <td>0.001212</td>\n",
       "      <td>1652809</td>\n",
       "      <td>2003.116359</td>\n",
       "    </tr>\n",
       "    <tr>\n",
       "      <th>31396</th>\n",
       "      <td>2021-08-01 04:00:00</td>\n",
       "      <td>2085.294765</td>\n",
       "      <td>0.001163</td>\n",
       "      <td>1652809</td>\n",
       "      <td>1921.426604</td>\n",
       "    </tr>\n",
       "    <tr>\n",
       "      <th>...</th>\n",
       "      <td>...</td>\n",
       "      <td>...</td>\n",
       "      <td>...</td>\n",
       "      <td>...</td>\n",
       "      <td>...</td>\n",
       "    </tr>\n",
       "    <tr>\n",
       "      <th>32131</th>\n",
       "      <td>2021-08-31 19:00:00</td>\n",
       "      <td>2538.809761</td>\n",
       "      <td>0.001415</td>\n",
       "      <td>1652809</td>\n",
       "      <td>2339.303153</td>\n",
       "    </tr>\n",
       "    <tr>\n",
       "      <th>32132</th>\n",
       "      <td>2021-08-31 20:00:00</td>\n",
       "      <td>2572.939106</td>\n",
       "      <td>0.001434</td>\n",
       "      <td>1652809</td>\n",
       "      <td>2370.750521</td>\n",
       "    </tr>\n",
       "    <tr>\n",
       "      <th>32133</th>\n",
       "      <td>2021-08-31 21:00:00</td>\n",
       "      <td>2484.682803</td>\n",
       "      <td>0.001385</td>\n",
       "      <td>1652809</td>\n",
       "      <td>2289.429639</td>\n",
       "    </tr>\n",
       "    <tr>\n",
       "      <th>32134</th>\n",
       "      <td>2021-08-31 22:00:00</td>\n",
       "      <td>2348.579241</td>\n",
       "      <td>0.001309</td>\n",
       "      <td>1652809</td>\n",
       "      <td>2164.021467</td>\n",
       "    </tr>\n",
       "    <tr>\n",
       "      <th>32135</th>\n",
       "      <td>2021-08-31 23:00:00</td>\n",
       "      <td>2208.864855</td>\n",
       "      <td>0.001231</td>\n",
       "      <td>1652809</td>\n",
       "      <td>2035.286219</td>\n",
       "    </tr>\n",
       "  </tbody>\n",
       "</table>\n",
       "<p>744 rows × 5 columns</p>\n",
       "</div>"
      ],
      "text/plain": [
       "                     Tarih  Dağıtılan Enerji (MWh)  Saatlik%   Tahmin  \\\n",
       "31392  2021-08-01 00:00:00             2571.230740  0.001433  1652809   \n",
       "31393  2021-08-01 01:00:00             2422.247527  0.001350  1652809   \n",
       "31394  2021-08-01 02:00:00             2286.023672  0.001274  1652809   \n",
       "31395  2021-08-01 03:00:00             2173.951400  0.001212  1652809   \n",
       "31396  2021-08-01 04:00:00             2085.294765  0.001163  1652809   \n",
       "...                    ...                     ...       ...      ...   \n",
       "32131  2021-08-31 19:00:00             2538.809761  0.001415  1652809   \n",
       "32132  2021-08-31 20:00:00             2572.939106  0.001434  1652809   \n",
       "32133  2021-08-31 21:00:00             2484.682803  0.001385  1652809   \n",
       "32134  2021-08-31 22:00:00             2348.579241  0.001309  1652809   \n",
       "32135  2021-08-31 23:00:00             2208.864855  0.001231  1652809   \n",
       "\n",
       "             Sonuc  \n",
       "31392  2369.176403  \n",
       "31393  2231.900698  \n",
       "31394  2106.381686  \n",
       "31395  2003.116359  \n",
       "31396  1921.426604  \n",
       "...            ...  \n",
       "32131  2339.303153  \n",
       "32132  2370.750521  \n",
       "32133  2289.429639  \n",
       "32134  2164.021467  \n",
       "32135  2035.286219  \n",
       "\n",
       "[744 rows x 5 columns]"
      ]
     },
     "execution_count": 20,
     "metadata": {},
     "output_type": "execute_result"
    }
   ],
   "source": [
    "df08['Saatlik%'] = df08['Dağıtılan Enerji (MWh)']/df08[\"Dağıtılan Enerji (MWh)\"].sum()\n",
    "df08['Tahmin'] = tahmin['Mwh'][0]\n",
    "df08['Sonuc'] = df08['Saatlik%']*df08['Tahmin']\n",
    "df08"
   ]
  },
  {
   "cell_type": "code",
   "execution_count": 21,
   "id": "1e7e71dc",
   "metadata": {
    "execution": {
     "iopub.execute_input": "2023-04-16T08:31:36.715770Z",
     "iopub.status.busy": "2023-04-16T08:31:36.715350Z",
     "iopub.status.idle": "2023-04-16T08:31:36.730085Z",
     "shell.execute_reply": "2023-04-16T08:31:36.728940Z"
    },
    "papermill": {
     "duration": 0.032526,
     "end_time": "2023-04-16T08:31:36.732494",
     "exception": false,
     "start_time": "2023-04-16T08:31:36.699968",
     "status": "completed"
    },
    "tags": []
   },
   "outputs": [
    {
     "data": {
      "text/html": [
       "<div>\n",
       "<style scoped>\n",
       "    .dataframe tbody tr th:only-of-type {\n",
       "        vertical-align: middle;\n",
       "    }\n",
       "\n",
       "    .dataframe tbody tr th {\n",
       "        vertical-align: top;\n",
       "    }\n",
       "\n",
       "    .dataframe thead th {\n",
       "        text-align: right;\n",
       "    }\n",
       "</style>\n",
       "<table border=\"1\" class=\"dataframe\">\n",
       "  <thead>\n",
       "    <tr style=\"text-align: right;\">\n",
       "      <th></th>\n",
       "      <th>Tarih</th>\n",
       "      <th>Dağıtılan Enerji (MWh)</th>\n",
       "    </tr>\n",
       "  </thead>\n",
       "  <tbody>\n",
       "    <tr>\n",
       "      <th>0</th>\n",
       "      <td>2022-08-01 00:00:00</td>\n",
       "      <td>2369.176403</td>\n",
       "    </tr>\n",
       "    <tr>\n",
       "      <th>1</th>\n",
       "      <td>2022-08-01 01:00:00</td>\n",
       "      <td>2231.900698</td>\n",
       "    </tr>\n",
       "    <tr>\n",
       "      <th>2</th>\n",
       "      <td>2022-08-01 02:00:00</td>\n",
       "      <td>2106.381686</td>\n",
       "    </tr>\n",
       "    <tr>\n",
       "      <th>3</th>\n",
       "      <td>2022-08-01 03:00:00</td>\n",
       "      <td>2003.116359</td>\n",
       "    </tr>\n",
       "    <tr>\n",
       "      <th>4</th>\n",
       "      <td>2022-08-01 04:00:00</td>\n",
       "      <td>1921.426604</td>\n",
       "    </tr>\n",
       "    <tr>\n",
       "      <th>...</th>\n",
       "      <td>...</td>\n",
       "      <td>...</td>\n",
       "    </tr>\n",
       "    <tr>\n",
       "      <th>739</th>\n",
       "      <td>2022-08-31 19:00:00</td>\n",
       "      <td>2339.303153</td>\n",
       "    </tr>\n",
       "    <tr>\n",
       "      <th>740</th>\n",
       "      <td>2022-08-31 20:00:00</td>\n",
       "      <td>2370.750521</td>\n",
       "    </tr>\n",
       "    <tr>\n",
       "      <th>741</th>\n",
       "      <td>2022-08-31 21:00:00</td>\n",
       "      <td>2289.429639</td>\n",
       "    </tr>\n",
       "    <tr>\n",
       "      <th>742</th>\n",
       "      <td>2022-08-31 22:00:00</td>\n",
       "      <td>2164.021467</td>\n",
       "    </tr>\n",
       "    <tr>\n",
       "      <th>743</th>\n",
       "      <td>2022-08-31 23:00:00</td>\n",
       "      <td>2035.286219</td>\n",
       "    </tr>\n",
       "  </tbody>\n",
       "</table>\n",
       "<p>744 rows × 2 columns</p>\n",
       "</div>"
      ],
      "text/plain": [
       "                   Tarih  Dağıtılan Enerji (MWh)\n",
       "0    2022-08-01 00:00:00             2369.176403\n",
       "1    2022-08-01 01:00:00             2231.900698\n",
       "2    2022-08-01 02:00:00             2106.381686\n",
       "3    2022-08-01 03:00:00             2003.116359\n",
       "4    2022-08-01 04:00:00             1921.426604\n",
       "..                   ...                     ...\n",
       "739  2022-08-31 19:00:00             2339.303153\n",
       "740  2022-08-31 20:00:00             2370.750521\n",
       "741  2022-08-31 21:00:00             2289.429639\n",
       "742  2022-08-31 22:00:00             2164.021467\n",
       "743  2022-08-31 23:00:00             2035.286219\n",
       "\n",
       "[744 rows x 2 columns]"
      ]
     },
     "execution_count": 21,
     "metadata": {},
     "output_type": "execute_result"
    }
   ],
   "source": [
    "dfsubmiss['Dağıtılan Enerji (MWh)']=list(df08['Sonuc'])\n",
    "dfsubmiss"
   ]
  },
  {
   "cell_type": "code",
   "execution_count": 22,
   "id": "cb455ab7",
   "metadata": {
    "execution": {
     "iopub.execute_input": "2023-04-16T08:31:36.763354Z",
     "iopub.status.busy": "2023-04-16T08:31:36.762512Z",
     "iopub.status.idle": "2023-04-16T08:31:36.774687Z",
     "shell.execute_reply": "2023-04-16T08:31:36.773671Z"
    },
    "papermill": {
     "duration": 0.030438,
     "end_time": "2023-04-16T08:31:36.777236",
     "exception": false,
     "start_time": "2023-04-16T08:31:36.746798",
     "status": "completed"
    },
    "tags": []
   },
   "outputs": [],
   "source": [
    "dfsubmiss.to_csv('submission.csv', index = False)"
   ]
  }
 ],
 "metadata": {
  "kernelspec": {
   "display_name": "Python 3",
   "language": "python",
   "name": "python3"
  },
  "language_info": {
   "codemirror_mode": {
    "name": "ipython",
    "version": 3
   },
   "file_extension": ".py",
   "mimetype": "text/x-python",
   "name": "python",
   "nbconvert_exporter": "python",
   "pygments_lexer": "ipython3",
   "version": "3.7.12"
  },
  "papermill": {
   "default_parameters": {},
   "duration": 15.314627,
   "end_time": "2023-04-16T08:31:37.513969",
   "environment_variables": {},
   "exception": null,
   "input_path": "__notebook__.ipynb",
   "output_path": "__notebook__.ipynb",
   "parameters": {},
   "start_time": "2023-04-16T08:31:22.199342",
   "version": "2.4.0"
  }
 },
 "nbformat": 4,
 "nbformat_minor": 5
}
