{
 "cells": [
  {
   "cell_type": "markdown",
   "metadata": {
    "executionInfo": {
     "elapsed": 1704,
     "status": "ok",
     "timestamp": 1606731504328,
     "user": {
      "displayName": "Richard C",
      "photoUrl": "",
      "userId": "08040814671867660929"
     },
     "user_tz": -180
    },
    "id": "sy5EcZ65lzy-"
   },
   "source": [
    "<a href=\"https://clarusway.com/contact-us/\"><img align=\"center\" src=\"https://i.ibb.co/B43qn24/officially-licensed-logo.png\" alt=\"Open in Clarusway LMS\" width=\"110\" height=\"200\" title=\"This notebook is licensed by Clarusway IT training school. Please contact the authorized persons about the conditions under which you can use or share.\"></a>"
   ]
  },
  {
   "cell_type": "markdown",
   "metadata": {},
   "source": [
    "# TRAINING AND MODEL/ENDPOINT CREATION FROM NOTEBOOK"
   ]
  },
  {
   "cell_type": "code",
   "execution_count": 1,
   "metadata": {},
   "outputs": [],
   "source": [
    "import pandas as pd      \n",
    "import numpy as np \n",
    "from sklearn.metrics import mean_squared_error, mean_absolute_error, r2_score\n",
    "from sklearn.model_selection import train_test_split\n",
    "import warnings\n",
    "warnings.filterwarnings('ignore')"
   ]
  },
  {
   "cell_type": "code",
   "execution_count": 2,
   "metadata": {
    "executionInfo": {
     "elapsed": 825,
     "status": "ok",
     "timestamp": 1606731524112,
     "user": {
      "displayName": "Richard C",
      "photoUrl": "",
      "userId": "08040814671867660929"
     },
     "user_tz": -180
    },
    "id": "-AJL3lU-lzzA"
   },
   "outputs": [],
   "source": [
    "def eval_metrics(actual, pred):\n",
    "    rmse = np.sqrt(mean_squared_error(actual, pred))\n",
    "    mae = mean_absolute_error(actual, pred)\n",
    "    mse = mean_squared_error(actual, pred)\n",
    "    score = r2_score(actual, pred)\n",
    "    return print(\" r2_score:\", score, \"\\n\",\"mae:\", mae, \"\\n\",\"mse:\",mse, \"\\n\",\"rmse:\",rmse)"
   ]
  },
  {
   "cell_type": "code",
   "execution_count": 3,
   "metadata": {},
   "outputs": [],
   "source": [
    "train_data = pd.read_csv(\"train_data.csv\")\n",
    "test_data = pd.read_csv(\"test_data.csv\")"
   ]
  },
  {
   "cell_type": "code",
   "execution_count": 4,
   "metadata": {},
   "outputs": [
    {
     "data": {
      "text/plain": [
       "(12731, 6)"
      ]
     },
     "execution_count": 4,
     "metadata": {},
     "output_type": "execute_result"
    }
   ],
   "source": [
    "train_data.shape"
   ]
  },
  {
   "cell_type": "code",
   "execution_count": 5,
   "metadata": {},
   "outputs": [
    {
     "data": {
      "text/plain": [
       "(3183, 6)"
      ]
     },
     "execution_count": 5,
     "metadata": {},
     "output_type": "execute_result"
    }
   ],
   "source": [
    "test_data.shape"
   ]
  },
  {
   "cell_type": "code",
   "execution_count": 6,
   "metadata": {},
   "outputs": [
    {
     "data": {
      "text/html": [
       "<div>\n",
       "<style scoped>\n",
       "    .dataframe tbody tr th:only-of-type {\n",
       "        vertical-align: middle;\n",
       "    }\n",
       "\n",
       "    .dataframe tbody tr th {\n",
       "        vertical-align: top;\n",
       "    }\n",
       "\n",
       "    .dataframe thead th {\n",
       "        text-align: right;\n",
       "    }\n",
       "</style>\n",
       "<table border=\"1\" class=\"dataframe\">\n",
       "  <thead>\n",
       "    <tr style=\"text-align: right;\">\n",
       "      <th></th>\n",
       "      <th>price</th>\n",
       "      <th>age</th>\n",
       "      <th>hp_kW</th>\n",
       "      <th>km</th>\n",
       "      <th>Gearing_Type</th>\n",
       "      <th>make_model</th>\n",
       "    </tr>\n",
       "  </thead>\n",
       "  <tbody>\n",
       "    <tr>\n",
       "      <th>0</th>\n",
       "      <td>26379</td>\n",
       "      <td>0.0</td>\n",
       "      <td>100.0</td>\n",
       "      <td>5900.0</td>\n",
       "      <td>Manual</td>\n",
       "      <td>Opel Insignia</td>\n",
       "    </tr>\n",
       "    <tr>\n",
       "      <th>1</th>\n",
       "      <td>18990</td>\n",
       "      <td>0.0</td>\n",
       "      <td>66.0</td>\n",
       "      <td>1900.0</td>\n",
       "      <td>Manual</td>\n",
       "      <td>Opel Astra</td>\n",
       "    </tr>\n",
       "    <tr>\n",
       "      <th>2</th>\n",
       "      <td>12480</td>\n",
       "      <td>2.0</td>\n",
       "      <td>81.0</td>\n",
       "      <td>39792.0</td>\n",
       "      <td>Manual</td>\n",
       "      <td>Opel Astra</td>\n",
       "    </tr>\n",
       "    <tr>\n",
       "      <th>3</th>\n",
       "      <td>34490</td>\n",
       "      <td>0.0</td>\n",
       "      <td>154.0</td>\n",
       "      <td>10.0</td>\n",
       "      <td>Automatic</td>\n",
       "      <td>Opel Insignia</td>\n",
       "    </tr>\n",
       "    <tr>\n",
       "      <th>4</th>\n",
       "      <td>15888</td>\n",
       "      <td>2.0</td>\n",
       "      <td>60.0</td>\n",
       "      <td>11903.0</td>\n",
       "      <td>Manual</td>\n",
       "      <td>Audi A1</td>\n",
       "    </tr>\n",
       "  </tbody>\n",
       "</table>\n",
       "</div>"
      ],
      "text/plain": [
       "   price  age  hp_kW       km Gearing_Type     make_model\n",
       "0  26379  0.0  100.0   5900.0       Manual  Opel Insignia\n",
       "1  18990  0.0   66.0   1900.0       Manual     Opel Astra\n",
       "2  12480  2.0   81.0  39792.0       Manual     Opel Astra\n",
       "3  34490  0.0  154.0     10.0    Automatic  Opel Insignia\n",
       "4  15888  2.0   60.0  11903.0       Manual        Audi A1"
      ]
     },
     "execution_count": 6,
     "metadata": {},
     "output_type": "execute_result"
    }
   ],
   "source": [
    "train_data.head()"
   ]
  },
  {
   "cell_type": "code",
   "execution_count": 7,
   "metadata": {},
   "outputs": [
    {
     "data": {
      "text/html": [
       "<div>\n",
       "<style scoped>\n",
       "    .dataframe tbody tr th:only-of-type {\n",
       "        vertical-align: middle;\n",
       "    }\n",
       "\n",
       "    .dataframe tbody tr th {\n",
       "        vertical-align: top;\n",
       "    }\n",
       "\n",
       "    .dataframe thead th {\n",
       "        text-align: right;\n",
       "    }\n",
       "</style>\n",
       "<table border=\"1\" class=\"dataframe\">\n",
       "  <thead>\n",
       "    <tr style=\"text-align: right;\">\n",
       "      <th></th>\n",
       "      <th>price</th>\n",
       "      <th>age</th>\n",
       "      <th>hp_kW</th>\n",
       "      <th>km</th>\n",
       "      <th>Gearing_Type</th>\n",
       "      <th>make_model</th>\n",
       "    </tr>\n",
       "  </thead>\n",
       "  <tbody>\n",
       "    <tr>\n",
       "      <th>0</th>\n",
       "      <td>14500</td>\n",
       "      <td>2.0</td>\n",
       "      <td>141.0</td>\n",
       "      <td>80000.0</td>\n",
       "      <td>Automatic</td>\n",
       "      <td>Audi A1</td>\n",
       "    </tr>\n",
       "    <tr>\n",
       "      <th>1</th>\n",
       "      <td>16790</td>\n",
       "      <td>3.0</td>\n",
       "      <td>66.0</td>\n",
       "      <td>16200.0</td>\n",
       "      <td>Automatic</td>\n",
       "      <td>Audi A1</td>\n",
       "    </tr>\n",
       "    <tr>\n",
       "      <th>2</th>\n",
       "      <td>15090</td>\n",
       "      <td>3.0</td>\n",
       "      <td>85.0</td>\n",
       "      <td>63668.0</td>\n",
       "      <td>Automatic</td>\n",
       "      <td>Audi A1</td>\n",
       "    </tr>\n",
       "    <tr>\n",
       "      <th>3</th>\n",
       "      <td>17990</td>\n",
       "      <td>2.0</td>\n",
       "      <td>70.0</td>\n",
       "      <td>16103.0</td>\n",
       "      <td>Automatic</td>\n",
       "      <td>Audi A1</td>\n",
       "    </tr>\n",
       "    <tr>\n",
       "      <th>4</th>\n",
       "      <td>17990</td>\n",
       "      <td>3.0</td>\n",
       "      <td>92.0</td>\n",
       "      <td>26415.0</td>\n",
       "      <td>Automatic</td>\n",
       "      <td>Audi A1</td>\n",
       "    </tr>\n",
       "  </tbody>\n",
       "</table>\n",
       "</div>"
      ],
      "text/plain": [
       "   price  age  hp_kW       km Gearing_Type make_model\n",
       "0  14500  2.0  141.0  80000.0    Automatic    Audi A1\n",
       "1  16790  3.0   66.0  16200.0    Automatic    Audi A1\n",
       "2  15090  3.0   85.0  63668.0    Automatic    Audi A1\n",
       "3  17990  2.0   70.0  16103.0    Automatic    Audi A1\n",
       "4  17990  3.0   92.0  26415.0    Automatic    Audi A1"
      ]
     },
     "execution_count": 7,
     "metadata": {},
     "output_type": "execute_result"
    }
   ],
   "source": [
    "test_data.head()"
   ]
  },
  {
   "cell_type": "code",
   "execution_count": 8,
   "metadata": {},
   "outputs": [
    {
     "data": {
      "text/html": [
       "<div>\n",
       "<style scoped>\n",
       "    .dataframe tbody tr th:only-of-type {\n",
       "        vertical-align: middle;\n",
       "    }\n",
       "\n",
       "    .dataframe tbody tr th {\n",
       "        vertical-align: top;\n",
       "    }\n",
       "\n",
       "    .dataframe thead th {\n",
       "        text-align: right;\n",
       "    }\n",
       "</style>\n",
       "<table border=\"1\" class=\"dataframe\">\n",
       "  <thead>\n",
       "    <tr style=\"text-align: right;\">\n",
       "      <th></th>\n",
       "      <th>price</th>\n",
       "      <th>age</th>\n",
       "      <th>hp_kW</th>\n",
       "      <th>km</th>\n",
       "    </tr>\n",
       "  </thead>\n",
       "  <tbody>\n",
       "    <tr>\n",
       "      <th>count</th>\n",
       "      <td>12731.000000</td>\n",
       "      <td>12731.000000</td>\n",
       "      <td>12731.000000</td>\n",
       "      <td>12731.000000</td>\n",
       "    </tr>\n",
       "    <tr>\n",
       "      <th>mean</th>\n",
       "      <td>17996.286702</td>\n",
       "      <td>1.387244</td>\n",
       "      <td>88.382374</td>\n",
       "      <td>32002.454174</td>\n",
       "    </tr>\n",
       "    <tr>\n",
       "      <th>std</th>\n",
       "      <td>7349.138624</td>\n",
       "      <td>1.121765</td>\n",
       "      <td>26.693078</td>\n",
       "      <td>37081.360187</td>\n",
       "    </tr>\n",
       "    <tr>\n",
       "      <th>min</th>\n",
       "      <td>4950.000000</td>\n",
       "      <td>0.000000</td>\n",
       "      <td>40.000000</td>\n",
       "      <td>0.000000</td>\n",
       "    </tr>\n",
       "    <tr>\n",
       "      <th>25%</th>\n",
       "      <td>12850.000000</td>\n",
       "      <td>0.000000</td>\n",
       "      <td>66.000000</td>\n",
       "      <td>1699.500000</td>\n",
       "    </tr>\n",
       "    <tr>\n",
       "      <th>50%</th>\n",
       "      <td>16890.000000</td>\n",
       "      <td>1.000000</td>\n",
       "      <td>85.000000</td>\n",
       "      <td>20321.000000</td>\n",
       "    </tr>\n",
       "    <tr>\n",
       "      <th>75%</th>\n",
       "      <td>21910.000000</td>\n",
       "      <td>2.000000</td>\n",
       "      <td>101.000000</td>\n",
       "      <td>46375.000000</td>\n",
       "    </tr>\n",
       "    <tr>\n",
       "      <th>max</th>\n",
       "      <td>74600.000000</td>\n",
       "      <td>3.000000</td>\n",
       "      <td>294.000000</td>\n",
       "      <td>291800.000000</td>\n",
       "    </tr>\n",
       "  </tbody>\n",
       "</table>\n",
       "</div>"
      ],
      "text/plain": [
       "              price           age         hp_kW             km\n",
       "count  12731.000000  12731.000000  12731.000000   12731.000000\n",
       "mean   17996.286702      1.387244     88.382374   32002.454174\n",
       "std     7349.138624      1.121765     26.693078   37081.360187\n",
       "min     4950.000000      0.000000     40.000000       0.000000\n",
       "25%    12850.000000      0.000000     66.000000    1699.500000\n",
       "50%    16890.000000      1.000000     85.000000   20321.000000\n",
       "75%    21910.000000      2.000000    101.000000   46375.000000\n",
       "max    74600.000000      3.000000    294.000000  291800.000000"
      ]
     },
     "execution_count": 8,
     "metadata": {},
     "output_type": "execute_result"
    }
   ],
   "source": [
    "train_data.describe()"
   ]
  },
  {
   "cell_type": "code",
   "execution_count": 9,
   "metadata": {},
   "outputs": [
    {
     "data": {
      "text/html": [
       "<div>\n",
       "<style scoped>\n",
       "    .dataframe tbody tr th:only-of-type {\n",
       "        vertical-align: middle;\n",
       "    }\n",
       "\n",
       "    .dataframe tbody tr th {\n",
       "        vertical-align: top;\n",
       "    }\n",
       "\n",
       "    .dataframe thead th {\n",
       "        text-align: right;\n",
       "    }\n",
       "</style>\n",
       "<table border=\"1\" class=\"dataframe\">\n",
       "  <thead>\n",
       "    <tr style=\"text-align: right;\">\n",
       "      <th></th>\n",
       "      <th>price</th>\n",
       "      <th>age</th>\n",
       "      <th>hp_kW</th>\n",
       "      <th>km</th>\n",
       "    </tr>\n",
       "  </thead>\n",
       "  <tbody>\n",
       "    <tr>\n",
       "      <th>count</th>\n",
       "      <td>3183.000000</td>\n",
       "      <td>3183.000000</td>\n",
       "      <td>3183.000000</td>\n",
       "      <td>3183.000000</td>\n",
       "    </tr>\n",
       "    <tr>\n",
       "      <th>mean</th>\n",
       "      <td>18133.550424</td>\n",
       "      <td>1.399623</td>\n",
       "      <td>88.968269</td>\n",
       "      <td>32441.995475</td>\n",
       "    </tr>\n",
       "    <tr>\n",
       "      <th>std</th>\n",
       "      <td>7509.562135</td>\n",
       "      <td>1.119744</td>\n",
       "      <td>26.602421</td>\n",
       "      <td>36567.088540</td>\n",
       "    </tr>\n",
       "    <tr>\n",
       "      <th>min</th>\n",
       "      <td>5450.000000</td>\n",
       "      <td>0.000000</td>\n",
       "      <td>51.000000</td>\n",
       "      <td>0.000000</td>\n",
       "    </tr>\n",
       "    <tr>\n",
       "      <th>25%</th>\n",
       "      <td>12880.000000</td>\n",
       "      <td>0.000000</td>\n",
       "      <td>66.000000</td>\n",
       "      <td>2970.500000</td>\n",
       "    </tr>\n",
       "    <tr>\n",
       "      <th>50%</th>\n",
       "      <td>16990.000000</td>\n",
       "      <td>1.000000</td>\n",
       "      <td>85.000000</td>\n",
       "      <td>20900.000000</td>\n",
       "    </tr>\n",
       "    <tr>\n",
       "      <th>75%</th>\n",
       "      <td>21900.000000</td>\n",
       "      <td>2.000000</td>\n",
       "      <td>103.000000</td>\n",
       "      <td>48000.000000</td>\n",
       "    </tr>\n",
       "    <tr>\n",
       "      <th>max</th>\n",
       "      <td>68320.000000</td>\n",
       "      <td>3.000000</td>\n",
       "      <td>294.000000</td>\n",
       "      <td>317000.000000</td>\n",
       "    </tr>\n",
       "  </tbody>\n",
       "</table>\n",
       "</div>"
      ],
      "text/plain": [
       "              price          age        hp_kW             km\n",
       "count   3183.000000  3183.000000  3183.000000    3183.000000\n",
       "mean   18133.550424     1.399623    88.968269   32441.995475\n",
       "std     7509.562135     1.119744    26.602421   36567.088540\n",
       "min     5450.000000     0.000000    51.000000       0.000000\n",
       "25%    12880.000000     0.000000    66.000000    2970.500000\n",
       "50%    16990.000000     1.000000    85.000000   20900.000000\n",
       "75%    21900.000000     2.000000   103.000000   48000.000000\n",
       "max    68320.000000     3.000000   294.000000  317000.000000"
      ]
     },
     "execution_count": 9,
     "metadata": {},
     "output_type": "execute_result"
    }
   ],
   "source": [
    "test_data.describe()"
   ]
  },
  {
   "cell_type": "code",
   "execution_count": 10,
   "metadata": {},
   "outputs": [
    {
     "data": {
      "text/plain": [
       "Audi A3           2488\n",
       "Audi A1           2111\n",
       "Opel Insignia     2044\n",
       "Opel Astra        1995\n",
       "Opel Corsa        1791\n",
       "Renault Clio      1488\n",
       "Renault Espace     786\n",
       "Renault Duster      28\n",
       "Name: make_model, dtype: int64"
      ]
     },
     "execution_count": 10,
     "metadata": {},
     "output_type": "execute_result"
    }
   ],
   "source": [
    "train_data.make_model.value_counts()"
   ]
  },
  {
   "cell_type": "code",
   "execution_count": 11,
   "metadata": {},
   "outputs": [
    {
     "data": {
      "text/plain": [
       "Audi A3           609\n",
       "Opel Insignia     554\n",
       "Opel Astra        530\n",
       "Audi A1           503\n",
       "Opel Corsa        425\n",
       "Renault Clio      351\n",
       "Renault Espace    205\n",
       "Renault Duster      6\n",
       "Name: make_model, dtype: int64"
      ]
     },
     "execution_count": 11,
     "metadata": {},
     "output_type": "execute_result"
    }
   ],
   "source": [
    "test_data.make_model.value_counts()"
   ]
  },
  {
   "cell_type": "code",
   "execution_count": 12,
   "metadata": {},
   "outputs": [
    {
     "data": {
      "text/plain": [
       "Manual            6496\n",
       "Automatic         5861\n",
       "Semi-automatic     374\n",
       "Name: Gearing_Type, dtype: int64"
      ]
     },
     "execution_count": 12,
     "metadata": {},
     "output_type": "execute_result"
    }
   ],
   "source": [
    "train_data.Gearing_Type.value_counts()"
   ]
  },
  {
   "cell_type": "markdown",
   "metadata": {},
   "source": [
    "# Split train_data into train and validation"
   ]
  },
  {
   "cell_type": "code",
   "execution_count": 13,
   "metadata": {},
   "outputs": [],
   "source": [
    "X=train_data.drop([\"price\"], axis = 1)\n",
    "y=train_data['price']"
   ]
  },
  {
   "cell_type": "code",
   "execution_count": 14,
   "metadata": {},
   "outputs": [],
   "source": [
    "X_train, X_val, y_train, y_val = train_test_split(X, y, test_size=0.25, random_state=1)"
   ]
  },
  {
   "cell_type": "code",
   "execution_count": 15,
   "metadata": {},
   "outputs": [
    {
     "data": {
      "text/html": [
       "<div>\n",
       "<style scoped>\n",
       "    .dataframe tbody tr th:only-of-type {\n",
       "        vertical-align: middle;\n",
       "    }\n",
       "\n",
       "    .dataframe tbody tr th {\n",
       "        vertical-align: top;\n",
       "    }\n",
       "\n",
       "    .dataframe thead th {\n",
       "        text-align: right;\n",
       "    }\n",
       "</style>\n",
       "<table border=\"1\" class=\"dataframe\">\n",
       "  <thead>\n",
       "    <tr style=\"text-align: right;\">\n",
       "      <th></th>\n",
       "      <th>age</th>\n",
       "      <th>hp_kW</th>\n",
       "      <th>km</th>\n",
       "      <th>Gearing_Type</th>\n",
       "      <th>make_model</th>\n",
       "    </tr>\n",
       "  </thead>\n",
       "  <tbody>\n",
       "    <tr>\n",
       "      <th>8699</th>\n",
       "      <td>2.0</td>\n",
       "      <td>51.0</td>\n",
       "      <td>40000.0</td>\n",
       "      <td>Manual</td>\n",
       "      <td>Opel Corsa</td>\n",
       "    </tr>\n",
       "    <tr>\n",
       "      <th>5137</th>\n",
       "      <td>3.0</td>\n",
       "      <td>70.0</td>\n",
       "      <td>97976.0</td>\n",
       "      <td>Manual</td>\n",
       "      <td>Audi A1</td>\n",
       "    </tr>\n",
       "    <tr>\n",
       "      <th>536</th>\n",
       "      <td>1.0</td>\n",
       "      <td>66.0</td>\n",
       "      <td>14500.0</td>\n",
       "      <td>Manual</td>\n",
       "      <td>Audi A1</td>\n",
       "    </tr>\n",
       "    <tr>\n",
       "      <th>876</th>\n",
       "      <td>3.0</td>\n",
       "      <td>55.0</td>\n",
       "      <td>25329.0</td>\n",
       "      <td>Manual</td>\n",
       "      <td>Opel Corsa</td>\n",
       "    </tr>\n",
       "    <tr>\n",
       "      <th>8690</th>\n",
       "      <td>2.0</td>\n",
       "      <td>125.0</td>\n",
       "      <td>37125.0</td>\n",
       "      <td>Automatic</td>\n",
       "      <td>Opel Insignia</td>\n",
       "    </tr>\n",
       "  </tbody>\n",
       "</table>\n",
       "</div>"
      ],
      "text/plain": [
       "      age  hp_kW       km Gearing_Type     make_model\n",
       "8699  2.0   51.0  40000.0       Manual     Opel Corsa\n",
       "5137  3.0   70.0  97976.0       Manual        Audi A1\n",
       "536   1.0   66.0  14500.0       Manual        Audi A1\n",
       "876   3.0   55.0  25329.0       Manual     Opel Corsa\n",
       "8690  2.0  125.0  37125.0    Automatic  Opel Insignia"
      ]
     },
     "execution_count": 15,
     "metadata": {},
     "output_type": "execute_result"
    }
   ],
   "source": [
    "X_train.head()"
   ]
  },
  {
   "cell_type": "code",
   "execution_count": 16,
   "metadata": {},
   "outputs": [
    {
     "data": {
      "text/plain": [
       "8699     8900\n",
       "5137    11490\n",
       "536     16800\n",
       "876      7899\n",
       "8690    19499\n",
       "Name: price, dtype: int64"
      ]
     },
     "execution_count": 16,
     "metadata": {},
     "output_type": "execute_result"
    }
   ],
   "source": [
    "y_train.head()"
   ]
  },
  {
   "cell_type": "code",
   "execution_count": 17,
   "metadata": {},
   "outputs": [],
   "source": [
    "from sklearn.compose import make_column_transformer\n",
    "from sklearn.preprocessing import OrdinalEncoder"
   ]
  },
  {
   "cell_type": "code",
   "execution_count": 18,
   "metadata": {},
   "outputs": [
    {
     "data": {
      "text/plain": [
       "Index(['Gearing_Type', 'make_model'], dtype='object')"
      ]
     },
     "execution_count": 18,
     "metadata": {},
     "output_type": "execute_result"
    }
   ],
   "source": [
    "cat = X_train.select_dtypes(\"object\").columns\n",
    "cat"
   ]
  },
  {
   "cell_type": "code",
   "execution_count": 19,
   "metadata": {},
   "outputs": [],
   "source": [
    "ord_enc = OrdinalEncoder()\n",
    "column_trans = make_column_transformer((ord_enc, cat), remainder='passthrough') # remainder: # Keep other columns rather than cat in original form.\n",
    "                                                                                # remainder: # if you want to scale rest of cat columns use \"minmax\" istead passthroug\n",
    "    \n",
    "    # Apply ord_enc to categoric variables and remain in original form rest of them.\n",
    "    # ord_enc for DT based algorithms\n",
    "    # For Linear reg, log reg vs. use one hot encoder "
   ]
  },
  {
   "cell_type": "code",
   "execution_count": 20,
   "metadata": {},
   "outputs": [],
   "source": [
    "train_numpy=column_trans.fit_transform(X_train)\n",
    "validation_numpy=column_trans.transform(X_val)"
   ]
  },
  {
   "cell_type": "code",
   "execution_count": 21,
   "metadata": {},
   "outputs": [
    {
     "data": {
      "text/plain": [
       "array([[1.00000000e+00, 3.00000000e+00, 2.00000000e+00, 5.10000000e+01,\n",
       "        4.00000000e+04],\n",
       "       [1.00000000e+00, 0.00000000e+00, 3.00000000e+00, 7.00000000e+01,\n",
       "        9.79760000e+04],\n",
       "       [1.00000000e+00, 0.00000000e+00, 1.00000000e+00, 6.60000000e+01,\n",
       "        1.45000000e+04],\n",
       "       ...,\n",
       "       [1.00000000e+00, 2.00000000e+00, 0.00000000e+00, 6.60000000e+01,\n",
       "        1.00000000e+01],\n",
       "       [0.00000000e+00, 1.00000000e+00, 1.00000000e+00, 8.50000000e+01,\n",
       "        1.90000000e+04],\n",
       "       [1.00000000e+00, 4.00000000e+00, 0.00000000e+00, 1.03000000e+02,\n",
       "        1.64736261e+03]])"
      ]
     },
     "execution_count": 21,
     "metadata": {},
     "output_type": "execute_result"
    }
   ],
   "source": [
    "train_numpy"
   ]
  },
  {
   "cell_type": "code",
   "execution_count": 22,
   "metadata": {},
   "outputs": [],
   "source": [
    "# let's fix the orders, categorical features are shifted to the begining\n",
    "train = pd.DataFrame(train_numpy, columns = [\"Gearing_Type\", 'make_model', \"age\", \"hp_kW\", \"km\"], index = X_train.index)\n",
    "validation = pd.DataFrame(validation_numpy, columns = [\"Gearing_Type\", 'make_model', \"age\", \"hp_kW\", \"km\"], index = X_val.index)"
   ]
  },
  {
   "cell_type": "code",
   "execution_count": 23,
   "metadata": {},
   "outputs": [
    {
     "data": {
      "text/html": [
       "<div>\n",
       "<style scoped>\n",
       "    .dataframe tbody tr th:only-of-type {\n",
       "        vertical-align: middle;\n",
       "    }\n",
       "\n",
       "    .dataframe tbody tr th {\n",
       "        vertical-align: top;\n",
       "    }\n",
       "\n",
       "    .dataframe thead th {\n",
       "        text-align: right;\n",
       "    }\n",
       "</style>\n",
       "<table border=\"1\" class=\"dataframe\">\n",
       "  <thead>\n",
       "    <tr style=\"text-align: right;\">\n",
       "      <th></th>\n",
       "      <th>Gearing_Type</th>\n",
       "      <th>make_model</th>\n",
       "      <th>age</th>\n",
       "      <th>hp_kW</th>\n",
       "      <th>km</th>\n",
       "    </tr>\n",
       "  </thead>\n",
       "  <tbody>\n",
       "    <tr>\n",
       "      <th>8699</th>\n",
       "      <td>1.0</td>\n",
       "      <td>3.0</td>\n",
       "      <td>2.0</td>\n",
       "      <td>51.0</td>\n",
       "      <td>40000.0</td>\n",
       "    </tr>\n",
       "    <tr>\n",
       "      <th>5137</th>\n",
       "      <td>1.0</td>\n",
       "      <td>0.0</td>\n",
       "      <td>3.0</td>\n",
       "      <td>70.0</td>\n",
       "      <td>97976.0</td>\n",
       "    </tr>\n",
       "    <tr>\n",
       "      <th>536</th>\n",
       "      <td>1.0</td>\n",
       "      <td>0.0</td>\n",
       "      <td>1.0</td>\n",
       "      <td>66.0</td>\n",
       "      <td>14500.0</td>\n",
       "    </tr>\n",
       "    <tr>\n",
       "      <th>876</th>\n",
       "      <td>1.0</td>\n",
       "      <td>3.0</td>\n",
       "      <td>3.0</td>\n",
       "      <td>55.0</td>\n",
       "      <td>25329.0</td>\n",
       "    </tr>\n",
       "    <tr>\n",
       "      <th>8690</th>\n",
       "      <td>0.0</td>\n",
       "      <td>4.0</td>\n",
       "      <td>2.0</td>\n",
       "      <td>125.0</td>\n",
       "      <td>37125.0</td>\n",
       "    </tr>\n",
       "  </tbody>\n",
       "</table>\n",
       "</div>"
      ],
      "text/plain": [
       "      Gearing_Type  make_model  age  hp_kW       km\n",
       "8699           1.0         3.0  2.0   51.0  40000.0\n",
       "5137           1.0         0.0  3.0   70.0  97976.0\n",
       "536            1.0         0.0  1.0   66.0  14500.0\n",
       "876            1.0         3.0  3.0   55.0  25329.0\n",
       "8690           0.0         4.0  2.0  125.0  37125.0"
      ]
     },
     "execution_count": 23,
     "metadata": {},
     "output_type": "execute_result"
    }
   ],
   "source": [
    "train.head()"
   ]
  },
  {
   "cell_type": "code",
   "execution_count": 24,
   "metadata": {},
   "outputs": [],
   "source": [
    "train = pd.concat([pd.Series(y_train, index = X_train.index, name=\"price\", dtype=int), train], axis=1)\n",
    "validation = pd.concat([pd.Series(y_val, index = X_val.index, name=\"price\", dtype=int), validation], axis=1)"
   ]
  },
  {
   "cell_type": "code",
   "execution_count": 25,
   "metadata": {},
   "outputs": [
    {
     "data": {
      "text/html": [
       "<div>\n",
       "<style scoped>\n",
       "    .dataframe tbody tr th:only-of-type {\n",
       "        vertical-align: middle;\n",
       "    }\n",
       "\n",
       "    .dataframe tbody tr th {\n",
       "        vertical-align: top;\n",
       "    }\n",
       "\n",
       "    .dataframe thead th {\n",
       "        text-align: right;\n",
       "    }\n",
       "</style>\n",
       "<table border=\"1\" class=\"dataframe\">\n",
       "  <thead>\n",
       "    <tr style=\"text-align: right;\">\n",
       "      <th></th>\n",
       "      <th>price</th>\n",
       "      <th>Gearing_Type</th>\n",
       "      <th>make_model</th>\n",
       "      <th>age</th>\n",
       "      <th>hp_kW</th>\n",
       "      <th>km</th>\n",
       "    </tr>\n",
       "  </thead>\n",
       "  <tbody>\n",
       "    <tr>\n",
       "      <th>8699</th>\n",
       "      <td>8900</td>\n",
       "      <td>1.0</td>\n",
       "      <td>3.0</td>\n",
       "      <td>2.0</td>\n",
       "      <td>51.0</td>\n",
       "      <td>40000.0</td>\n",
       "    </tr>\n",
       "    <tr>\n",
       "      <th>5137</th>\n",
       "      <td>11490</td>\n",
       "      <td>1.0</td>\n",
       "      <td>0.0</td>\n",
       "      <td>3.0</td>\n",
       "      <td>70.0</td>\n",
       "      <td>97976.0</td>\n",
       "    </tr>\n",
       "    <tr>\n",
       "      <th>536</th>\n",
       "      <td>16800</td>\n",
       "      <td>1.0</td>\n",
       "      <td>0.0</td>\n",
       "      <td>1.0</td>\n",
       "      <td>66.0</td>\n",
       "      <td>14500.0</td>\n",
       "    </tr>\n",
       "    <tr>\n",
       "      <th>876</th>\n",
       "      <td>7899</td>\n",
       "      <td>1.0</td>\n",
       "      <td>3.0</td>\n",
       "      <td>3.0</td>\n",
       "      <td>55.0</td>\n",
       "      <td>25329.0</td>\n",
       "    </tr>\n",
       "    <tr>\n",
       "      <th>8690</th>\n",
       "      <td>19499</td>\n",
       "      <td>0.0</td>\n",
       "      <td>4.0</td>\n",
       "      <td>2.0</td>\n",
       "      <td>125.0</td>\n",
       "      <td>37125.0</td>\n",
       "    </tr>\n",
       "  </tbody>\n",
       "</table>\n",
       "</div>"
      ],
      "text/plain": [
       "      price  Gearing_Type  make_model  age  hp_kW       km\n",
       "8699   8900           1.0         3.0  2.0   51.0  40000.0\n",
       "5137  11490           1.0         0.0  3.0   70.0  97976.0\n",
       "536   16800           1.0         0.0  1.0   66.0  14500.0\n",
       "876    7899           1.0         3.0  3.0   55.0  25329.0\n",
       "8690  19499           0.0         4.0  2.0  125.0  37125.0"
      ]
     },
     "execution_count": 25,
     "metadata": {},
     "output_type": "execute_result"
    }
   ],
   "source": [
    "train.head()"
   ]
  },
  {
   "cell_type": "code",
   "execution_count": 26,
   "metadata": {},
   "outputs": [
    {
     "data": {
      "text/html": [
       "<div>\n",
       "<style scoped>\n",
       "    .dataframe tbody tr th:only-of-type {\n",
       "        vertical-align: middle;\n",
       "    }\n",
       "\n",
       "    .dataframe tbody tr th {\n",
       "        vertical-align: top;\n",
       "    }\n",
       "\n",
       "    .dataframe thead th {\n",
       "        text-align: right;\n",
       "    }\n",
       "</style>\n",
       "<table border=\"1\" class=\"dataframe\">\n",
       "  <thead>\n",
       "    <tr style=\"text-align: right;\">\n",
       "      <th></th>\n",
       "      <th>price</th>\n",
       "      <th>Gearing_Type</th>\n",
       "      <th>make_model</th>\n",
       "      <th>age</th>\n",
       "      <th>hp_kW</th>\n",
       "      <th>km</th>\n",
       "    </tr>\n",
       "  </thead>\n",
       "  <tbody>\n",
       "    <tr>\n",
       "      <th>3132</th>\n",
       "      <td>15480</td>\n",
       "      <td>0.0</td>\n",
       "      <td>2.0</td>\n",
       "      <td>3.0</td>\n",
       "      <td>100.0</td>\n",
       "      <td>56587.0</td>\n",
       "    </tr>\n",
       "    <tr>\n",
       "      <th>8123</th>\n",
       "      <td>24900</td>\n",
       "      <td>1.0</td>\n",
       "      <td>7.0</td>\n",
       "      <td>1.0</td>\n",
       "      <td>96.0</td>\n",
       "      <td>20000.0</td>\n",
       "    </tr>\n",
       "    <tr>\n",
       "      <th>10948</th>\n",
       "      <td>27400</td>\n",
       "      <td>0.0</td>\n",
       "      <td>0.0</td>\n",
       "      <td>0.0</td>\n",
       "      <td>85.0</td>\n",
       "      <td>10.0</td>\n",
       "    </tr>\n",
       "    <tr>\n",
       "      <th>1986</th>\n",
       "      <td>11975</td>\n",
       "      <td>1.0</td>\n",
       "      <td>2.0</td>\n",
       "      <td>2.0</td>\n",
       "      <td>74.0</td>\n",
       "      <td>38500.0</td>\n",
       "    </tr>\n",
       "    <tr>\n",
       "      <th>7487</th>\n",
       "      <td>12450</td>\n",
       "      <td>1.0</td>\n",
       "      <td>4.0</td>\n",
       "      <td>3.0</td>\n",
       "      <td>103.0</td>\n",
       "      <td>45000.0</td>\n",
       "    </tr>\n",
       "  </tbody>\n",
       "</table>\n",
       "</div>"
      ],
      "text/plain": [
       "       price  Gearing_Type  make_model  age  hp_kW       km\n",
       "3132   15480           0.0         2.0  3.0  100.0  56587.0\n",
       "8123   24900           1.0         7.0  1.0   96.0  20000.0\n",
       "10948  27400           0.0         0.0  0.0   85.0     10.0\n",
       "1986   11975           1.0         2.0  2.0   74.0  38500.0\n",
       "7487   12450           1.0         4.0  3.0  103.0  45000.0"
      ]
     },
     "execution_count": 26,
     "metadata": {},
     "output_type": "execute_result"
    }
   ],
   "source": [
    "validation.head()"
   ]
  },
  {
   "cell_type": "code",
   "execution_count": 27,
   "metadata": {},
   "outputs": [],
   "source": [
    "train.to_csv('train.csv', index=False, header=False)\n",
    "validation.to_csv('validation.csv', index=False, header=False)"
   ]
  },
  {
   "cell_type": "code",
   "execution_count": 28,
   "metadata": {},
   "outputs": [],
   "source": [
    "import sagemaker, boto3, os\n",
    "bucket = 'richard-eu12'\n",
    "prefix = 'sagemaker-autoscout'"
   ]
  },
  {
   "cell_type": "code",
   "execution_count": 29,
   "metadata": {},
   "outputs": [],
   "source": [
    "# write datasets to the s3 bucket\n",
    "boto3.Session().resource('s3').Bucket(bucket).Object(prefix + '/data/train.csv').upload_file('train.csv')\n",
    "boto3.Session().resource('s3').Bucket(bucket).Object(prefix + '/data/validation.csv').upload_file('validation.csv')"
   ]
  },
  {
   "cell_type": "code",
   "execution_count": 30,
   "metadata": {},
   "outputs": [
    {
     "name": "stdout",
     "output_type": "stream",
     "text": [
      "2023-01-11 09:08:17     298744 sagemaker-autoscout/data/train.csv\r\n",
      "2023-01-11 09:08:17      99546 sagemaker-autoscout/data/validation.csv\r\n"
     ]
    }
   ],
   "source": [
    "! aws s3 ls {bucket}/{prefix}/data --recursive"
   ]
  },
  {
   "cell_type": "markdown",
   "metadata": {},
   "source": [
    "# Train Model"
   ]
  },
  {
   "cell_type": "code",
   "execution_count": 31,
   "metadata": {},
   "outputs": [
    {
     "name": "stdout",
     "output_type": "stream",
     "text": [
      "AWS Region: us-east-1\n",
      "RoleArn:arn:aws:iam::046402772087:role/service-role/AmazonSageMaker-ExecutionRole-20230102T122328\n"
     ]
    }
   ],
   "source": [
    "import sagemaker\n",
    "region = sagemaker.Session().boto_region_name\n",
    "print(\"AWS Region: {}\".format(region))\n",
    "\n",
    "role = sagemaker.get_execution_role()\n",
    "print(\"RoleArn:{}\".format(role))"
   ]
  },
  {
   "cell_type": "code",
   "execution_count": 32,
   "metadata": {},
   "outputs": [
    {
     "data": {
      "text/plain": [
       "'2.117.0'"
      ]
     },
     "execution_count": 32,
     "metadata": {},
     "output_type": "execute_result"
    }
   ],
   "source": [
    "sagemaker.__version__"
   ]
  },
  {
   "cell_type": "code",
   "execution_count": 33,
   "metadata": {},
   "outputs": [],
   "source": [
    "from sagemaker.debugger import Rule, rule_configs\n",
    "from sagemaker.session import TrainingInput"
   ]
  },
  {
   "cell_type": "code",
   "execution_count": 34,
   "metadata": {},
   "outputs": [],
   "source": [
    "s3_output_location = 's3://{}/{}/{}'.format(bucket, prefix, 'output')"
   ]
  },
  {
   "cell_type": "code",
   "execution_count": 36,
   "metadata": {},
   "outputs": [
    {
     "name": "stdout",
     "output_type": "stream",
     "text": [
      "683313688378.dkr.ecr.us-east-1.amazonaws.com/sagemaker-xgboost:1.2-2\n"
     ]
    }
   ],
   "source": [
    "container = sagemaker.image_uris.retrieve(\"xgboost\",region, version=\"1.2-2\")\n",
    "print(container)"
   ]
  },
  {
   "cell_type": "code",
   "execution_count": 38,
   "metadata": {},
   "outputs": [
    {
     "name": "stdout",
     "output_type": "stream",
     "text": [
      "811284229777.dkr.ecr.us-east-1.amazonaws.com/xgboost:latest\n"
     ]
    }
   ],
   "source": [
    "#container2 = sagemaker.image_uris.retrieve(\"xgboost\",region, version=\"latest\")\n",
    "#print(container2)"
   ]
  },
  {
   "cell_type": "code",
   "execution_count": 55,
   "metadata": {},
   "outputs": [],
   "source": [
    "#help(sagemaker.image_uris.retrieve)"
   ]
  },
  {
   "cell_type": "code",
   "execution_count": 37,
   "metadata": {},
   "outputs": [],
   "source": [
    "xgb_model = sagemaker.estimator.Estimator(\n",
    "    container,\n",
    "    role,\n",
    "    instance_count=1,\n",
    "    instance_type='ml.m4.xlarge',\n",
    "    volume_size = 1,\n",
    "    output_path = s3_output_location,\n",
    "    sagemaker_session=sagemaker.Session(),\n",
    "    rules = [Rule.sagemaker(rule_configs.create_xgboost_report())]\n",
    "    )"
   ]
  },
  {
   "cell_type": "code",
   "execution_count": 57,
   "metadata": {},
   "outputs": [],
   "source": [
    "#help(xgb_model.set_hyperparameters)"
   ]
  },
  {
   "cell_type": "code",
   "execution_count": 38,
   "metadata": {},
   "outputs": [],
   "source": [
    "xgb_model.set_hyperparameters(max_depth=4,\n",
    "                              eta=0.5,\n",
    "                              num_round=200,\n",
    "                              objective = \"reg:squarederror\", \n",
    "                              early_stopping_rounds=10)  #objective = \"reg:squarederror\", \"reg:linear\" for latest xgboost!\n",
    "                                                               "
   ]
  },
  {
   "cell_type": "code",
   "execution_count": 39,
   "metadata": {},
   "outputs": [],
   "source": [
    "from sagemaker.session import TrainingInput\n",
    "\n",
    "train_input = TrainingInput(\n",
    "'s3://{}/{}/{}'.format(bucket, prefix, 'data/train.csv'), content_type='csv'\n",
    ")\n",
    "\n",
    "validation_input = TrainingInput(\n",
    "'s3://{}/{}/{}'.format(bucket, prefix, 'data/validation.csv'), content_type='csv'\n",
    ")"
   ]
  },
  {
   "cell_type": "code",
   "execution_count": 40,
   "metadata": {},
   "outputs": [],
   "source": [
    "data_channels = {'train': train_input, 'validation': validation_input}"
   ]
  },
  {
   "cell_type": "code",
   "execution_count": 41,
   "metadata": {},
   "outputs": [
    {
     "name": "stdout",
     "output_type": "stream",
     "text": [
      "2023-01-11 09:10:17 Starting - Starting the training job...CreateXgboostReport: InProgress\n",
      "ProfilerReport-1673428217: InProgress\n",
      "...\n",
      "2023-01-11 09:11:05 Starting - Preparing the instances for training............\n",
      "2023-01-11 09:13:06 Downloading - Downloading input data...\n",
      "2023-01-11 09:13:46 Training - Downloading the training image......\n",
      "2023-01-11 09:14:48 Uploading - Uploading generated training model.\u001b[34m[2023-01-11 09:14:43.119 ip-10-2-176-163.ec2.internal:7 INFO utils.py:27] RULE_JOB_STOP_SIGNAL_FILENAME: None\u001b[0m\n",
      "\u001b[34m[2023-01-11:09:14:43:INFO] Imported framework sagemaker_xgboost_container.training\u001b[0m\n",
      "\u001b[34m[2023-01-11:09:14:43:INFO] Failed to parse hyperparameter objective value reg:squarederror to Json.\u001b[0m\n",
      "\u001b[34mReturning the value itself\u001b[0m\n",
      "\u001b[34m[2023-01-11:09:14:43:INFO] No GPUs detected (normal if no gpus installed)\u001b[0m\n",
      "\u001b[34m[2023-01-11:09:14:43:INFO] Running XGBoost Sagemaker in algorithm mode\u001b[0m\n",
      "\u001b[34m[2023-01-11:09:14:43:INFO] Determined delimiter of CSV input is ','\u001b[0m\n",
      "\u001b[34m[2023-01-11:09:14:43:INFO] Determined delimiter of CSV input is ','\u001b[0m\n",
      "\u001b[34m[2023-01-11:09:14:43:INFO] Determined delimiter of CSV input is ','\u001b[0m\n",
      "\u001b[34m[2023-01-11:09:14:43:INFO] Determined delimiter of CSV input is ','\u001b[0m\n",
      "\u001b[34m[2023-01-11:09:14:43:INFO] Single node training.\u001b[0m\n",
      "\u001b[34m[2023-01-11:09:14:43:INFO] Train matrix has 9548 rows and 5 columns\u001b[0m\n",
      "\u001b[34m[2023-01-11:09:14:43:INFO] Validation matrix has 3183 rows\u001b[0m\n",
      "\u001b[34m[2023-01-11 09:14:43.219 ip-10-2-176-163.ec2.internal:7 INFO json_config.py:91] Creating hook from json_config at /opt/ml/input/config/debughookconfig.json.\u001b[0m\n",
      "\u001b[34m[2023-01-11 09:14:43.220 ip-10-2-176-163.ec2.internal:7 INFO hook.py:201] tensorboard_dir has not been set for the hook. SMDebug will not be exporting tensorboard summaries.\u001b[0m\n",
      "\u001b[34m[2023-01-11 09:14:43.220 ip-10-2-176-163.ec2.internal:7 INFO profiler_config_parser.py:102] User has disabled profiler.\u001b[0m\n",
      "\u001b[34m[2023-01-11 09:14:43.221 ip-10-2-176-163.ec2.internal:7 INFO hook.py:255] Saving to /opt/ml/output/tensors\u001b[0m\n",
      "\u001b[34m[2023-01-11 09:14:43.221 ip-10-2-176-163.ec2.internal:7 INFO state_store.py:77] The checkpoint config file /opt/ml/input/config/checkpointconfig.json does not exist.\u001b[0m\n",
      "\u001b[34m[2023-01-11:09:14:43:INFO] Debug hook created from config\u001b[0m\n",
      "\u001b[34m[0]#011train-rmse:10154.40234#011validation-rmse:10283.54199\u001b[0m\n",
      "\u001b[34m[2023-01-11 09:14:43.229 ip-10-2-176-163.ec2.internal:7 INFO hook.py:423] Monitoring the collections: hyperparameters, labels, feature_importance, predictions, metrics\u001b[0m\n",
      "\u001b[34m[2023-01-11 09:14:43.232 ip-10-2-176-163.ec2.internal:7 INFO hook.py:486] Hook is writing from the hook with pid: 7\u001b[0m\n",
      "\u001b[34m[1]#011train-rmse:5674.18701#011validation-rmse:5860.34033\u001b[0m\n",
      "\u001b[34m[2]#011train-rmse:3668.94946#011validation-rmse:3888.59082\u001b[0m\n",
      "\u001b[34m[3]#011train-rmse:2797.02759#011validation-rmse:3010.14575\u001b[0m\n",
      "\u001b[34m[4]#011train-rmse:2455.24048#011validation-rmse:2664.59302\u001b[0m\n",
      "\u001b[34m[5]#011train-rmse:2319.00073#011validation-rmse:2515.17895\u001b[0m\n",
      "\u001b[34m[6]#011train-rmse:2257.98511#011validation-rmse:2453.76782\u001b[0m\n",
      "\u001b[34m[7]#011train-rmse:2214.22900#011validation-rmse:2416.46973\u001b[0m\n",
      "\u001b[34m[8]#011train-rmse:2130.13477#011validation-rmse:2304.48584\u001b[0m\n",
      "\u001b[34m[9]#011train-rmse:2085.41943#011validation-rmse:2272.25855\u001b[0m\n",
      "\u001b[34m[10]#011train-rmse:2069.24048#011validation-rmse:2261.18896\u001b[0m\n",
      "\u001b[34m[11]#011train-rmse:2042.95679#011validation-rmse:2260.69141\u001b[0m\n",
      "\u001b[34m[12]#011train-rmse:2022.67590#011validation-rmse:2243.85522\u001b[0m\n",
      "\u001b[34m[13]#011train-rmse:2007.31763#011validation-rmse:2241.09058\u001b[0m\n",
      "\u001b[34m[14]#011train-rmse:1978.45618#011validation-rmse:2220.67432\u001b[0m\n",
      "\u001b[34m[15]#011train-rmse:1956.61291#011validation-rmse:2194.70386\u001b[0m\n",
      "\u001b[34m[16]#011train-rmse:1935.72424#011validation-rmse:2181.12695\u001b[0m\n",
      "\u001b[34m[17]#011train-rmse:1930.54126#011validation-rmse:2176.23193\u001b[0m\n",
      "\u001b[34m[18]#011train-rmse:1919.91663#011validation-rmse:2169.10547\u001b[0m\n",
      "\u001b[34m[19]#011train-rmse:1901.01733#011validation-rmse:2155.89990\u001b[0m\n",
      "\u001b[34m[20]#011train-rmse:1885.27478#011validation-rmse:2139.49561\u001b[0m\n",
      "\u001b[34m[21]#011train-rmse:1873.67236#011validation-rmse:2137.49683\u001b[0m\n",
      "\u001b[34m[22]#011train-rmse:1866.47888#011validation-rmse:2132.40796\u001b[0m\n",
      "\u001b[34m[23]#011train-rmse:1862.16882#011validation-rmse:2128.78687\u001b[0m\n",
      "\u001b[34m[24]#011train-rmse:1856.19092#011validation-rmse:2120.71924\u001b[0m\n",
      "\u001b[34m[25]#011train-rmse:1840.53699#011validation-rmse:2110.86401\u001b[0m\n",
      "\u001b[34m[26]#011train-rmse:1831.05701#011validation-rmse:2100.48438\u001b[0m\n",
      "\u001b[34m[27]#011train-rmse:1822.05676#011validation-rmse:2101.39722\u001b[0m\n",
      "\u001b[34m[28]#011train-rmse:1819.87134#011validation-rmse:2103.47754\u001b[0m\n",
      "\u001b[34m[29]#011train-rmse:1812.34583#011validation-rmse:2100.88232\u001b[0m\n",
      "\u001b[34m[30]#011train-rmse:1807.35632#011validation-rmse:2094.83081\u001b[0m\n",
      "\u001b[34m[31]#011train-rmse:1798.76379#011validation-rmse:2084.50171\u001b[0m\n",
      "\u001b[34m[32]#011train-rmse:1795.68591#011validation-rmse:2081.92773\u001b[0m\n",
      "\u001b[34m[33]#011train-rmse:1788.16040#011validation-rmse:2075.97656\u001b[0m\n",
      "\u001b[34m[34]#011train-rmse:1777.23975#011validation-rmse:2072.42358\u001b[0m\n",
      "\u001b[34m[35]#011train-rmse:1770.39673#011validation-rmse:2070.54053\u001b[0m\n",
      "\u001b[34m[36]#011train-rmse:1767.95606#011validation-rmse:2070.34546\u001b[0m\n",
      "\u001b[34m[37]#011train-rmse:1764.89868#011validation-rmse:2069.15430\u001b[0m\n",
      "\u001b[34m[38]#011train-rmse:1756.74011#011validation-rmse:2065.52759\u001b[0m\n",
      "\u001b[34m[39]#011train-rmse:1753.22412#011validation-rmse:2064.67163\u001b[0m\n",
      "\u001b[34m[40]#011train-rmse:1746.25659#011validation-rmse:2061.54443\u001b[0m\n",
      "\u001b[34m[41]#011train-rmse:1739.73193#011validation-rmse:2058.72852\u001b[0m\n",
      "\u001b[34m[42]#011train-rmse:1735.16467#011validation-rmse:2054.04394\u001b[0m\n",
      "\u001b[34m[43]#011train-rmse:1728.16589#011validation-rmse:2051.59692\u001b[0m\n",
      "\u001b[34m[44]#011train-rmse:1725.47388#011validation-rmse:2049.95557\u001b[0m\n",
      "\u001b[34m[45]#011train-rmse:1723.76831#011validation-rmse:2048.51440\u001b[0m\n",
      "\u001b[34m[46]#011train-rmse:1719.85547#011validation-rmse:2048.48779\u001b[0m\n",
      "\u001b[34m[47]#011train-rmse:1717.27368#011validation-rmse:2046.33813\u001b[0m\n",
      "\u001b[34m[48]#011train-rmse:1714.75818#011validation-rmse:2048.18286\u001b[0m\n",
      "\u001b[34m[49]#011train-rmse:1708.92578#011validation-rmse:2043.43079\u001b[0m\n",
      "\u001b[34m[50]#011train-rmse:1706.92029#011validation-rmse:2041.23389\u001b[0m\n",
      "\u001b[34m[51]#011train-rmse:1701.94250#011validation-rmse:2030.75098\u001b[0m\n",
      "\u001b[34m[52]#011train-rmse:1699.71399#011validation-rmse:2030.39001\u001b[0m\n",
      "\u001b[34m[53]#011train-rmse:1697.44519#011validation-rmse:2030.01868\u001b[0m\n",
      "\u001b[34m[54]#011train-rmse:1693.76721#011validation-rmse:2028.58130\u001b[0m\n",
      "\u001b[34m[55]#011train-rmse:1689.60803#011validation-rmse:2027.66028\u001b[0m\n",
      "\u001b[34m[56]#011train-rmse:1684.40503#011validation-rmse:2027.23279\u001b[0m\n",
      "\u001b[34m[57]#011train-rmse:1680.72498#011validation-rmse:2025.23254\u001b[0m\n",
      "\u001b[34m[58]#011train-rmse:1677.68384#011validation-rmse:2021.46533\u001b[0m\n",
      "\u001b[34m[59]#011train-rmse:1675.36096#011validation-rmse:2021.58533\u001b[0m\n",
      "\u001b[34m[60]#011train-rmse:1671.15137#011validation-rmse:2016.65613\u001b[0m\n",
      "\u001b[34m[61]#011train-rmse:1668.69165#011validation-rmse:2018.41919\u001b[0m\n",
      "\u001b[34m[62]#011train-rmse:1666.74390#011validation-rmse:2019.21912\u001b[0m\n",
      "\u001b[34m[63]#011train-rmse:1665.95715#011validation-rmse:2018.52942\u001b[0m\n",
      "\u001b[34m[64]#011train-rmse:1662.45227#011validation-rmse:2015.85498\u001b[0m\n",
      "\u001b[34m[65]#011train-rmse:1659.30554#011validation-rmse:2017.28369\u001b[0m\n",
      "\u001b[34m[66]#011train-rmse:1656.53088#011validation-rmse:2017.67859\u001b[0m\n",
      "\u001b[34m[67]#011train-rmse:1652.52612#011validation-rmse:2017.62695\u001b[0m\n",
      "\u001b[34m[68]#011train-rmse:1648.63440#011validation-rmse:2015.43958\u001b[0m\n",
      "\u001b[34m[69]#011train-rmse:1647.10584#011validation-rmse:2016.62366\u001b[0m\n",
      "\u001b[34m[70]#011train-rmse:1645.24121#011validation-rmse:2015.33838\u001b[0m\n",
      "\u001b[34m[71]#011train-rmse:1642.47327#011validation-rmse:2015.73242\u001b[0m\n",
      "\u001b[34m[72]#011train-rmse:1640.38660#011validation-rmse:2014.00171\u001b[0m\n",
      "\u001b[34m[73]#011train-rmse:1637.62720#011validation-rmse:2013.58460\u001b[0m\n",
      "\u001b[34m[74]#011train-rmse:1636.42017#011validation-rmse:2012.65747\u001b[0m\n",
      "\u001b[34m[75]#011train-rmse:1632.76172#011validation-rmse:2012.93262\u001b[0m\n",
      "\u001b[34m[76]#011train-rmse:1625.25073#011validation-rmse:2006.70142\u001b[0m\n",
      "\u001b[34m[77]#011train-rmse:1624.11401#011validation-rmse:2007.04724\u001b[0m\n",
      "\u001b[34m[78]#011train-rmse:1623.89124#011validation-rmse:2006.63330\u001b[0m\n",
      "\u001b[34m[79]#011train-rmse:1622.07202#011validation-rmse:2007.41419\u001b[0m\n",
      "\u001b[34m[80]#011train-rmse:1621.15649#011validation-rmse:2007.55481\u001b[0m\n",
      "\u001b[34m[81]#011train-rmse:1621.07044#011validation-rmse:2007.60876\u001b[0m\n",
      "\u001b[34m[82]#011train-rmse:1620.13342#011validation-rmse:2007.74487\u001b[0m\n",
      "\u001b[34m[83]#011train-rmse:1618.08887#011validation-rmse:2007.56226\u001b[0m\n",
      "\u001b[34m[84]#011train-rmse:1617.23975#011validation-rmse:2007.25037\u001b[0m\n",
      "\u001b[34m[85]#011train-rmse:1617.02502#011validation-rmse:2007.09924\u001b[0m\n",
      "\u001b[34m[86]#011train-rmse:1610.65430#011validation-rmse:2006.51831\u001b[0m\n",
      "\u001b[34m[87]#011train-rmse:1607.15112#011validation-rmse:2007.68335\u001b[0m\n",
      "\u001b[34m[88]#011train-rmse:1603.65796#011validation-rmse:2004.62903\u001b[0m\n",
      "\u001b[34m[89]#011train-rmse:1598.74255#011validation-rmse:2006.05237\u001b[0m\n",
      "\u001b[34m[90]#011train-rmse:1597.10596#011validation-rmse:2007.24170\u001b[0m\n",
      "\u001b[34m[91]#011train-rmse:1592.26038#011validation-rmse:2006.70715\u001b[0m\n",
      "\u001b[34m[92]#011train-rmse:1588.81116#011validation-rmse:1995.33142\u001b[0m\n",
      "\u001b[34m[93]#011train-rmse:1586.64978#011validation-rmse:1995.14893\u001b[0m\n",
      "\u001b[34m[94]#011train-rmse:1585.50403#011validation-rmse:1995.27478\u001b[0m\n",
      "\u001b[34m[95]#011train-rmse:1583.97705#011validation-rmse:1995.46472\u001b[0m\n",
      "\u001b[34m[96]#011train-rmse:1581.33154#011validation-rmse:1996.08997\u001b[0m\n",
      "\u001b[34m[97]#011train-rmse:1577.42627#011validation-rmse:1996.44250\u001b[0m\n",
      "\u001b[34m[98]#011train-rmse:1574.03711#011validation-rmse:1996.98743\u001b[0m\n",
      "\u001b[34m[99]#011train-rmse:1570.93982#011validation-rmse:1997.71460\u001b[0m\n",
      "\u001b[34m[100]#011train-rmse:1565.33374#011validation-rmse:1988.90417\u001b[0m\n",
      "\u001b[34m[101]#011train-rmse:1562.83789#011validation-rmse:1986.89343\u001b[0m\n",
      "\u001b[34m[102]#011train-rmse:1560.80640#011validation-rmse:1986.81775\u001b[0m\n",
      "\u001b[34m[103]#011train-rmse:1559.32361#011validation-rmse:1985.78516\u001b[0m\n",
      "\u001b[34m[104]#011train-rmse:1557.80603#011validation-rmse:1984.28174\u001b[0m\n",
      "\u001b[34m[105]#011train-rmse:1556.04846#011validation-rmse:1984.10523\u001b[0m\n",
      "\u001b[34m[106]#011train-rmse:1555.52551#011validation-rmse:1984.43408\u001b[0m\n",
      "\u001b[34m[107]#011train-rmse:1554.98877#011validation-rmse:1984.00928\u001b[0m\n",
      "\u001b[34m[108]#011train-rmse:1552.87122#011validation-rmse:1983.03625\u001b[0m\n",
      "\u001b[34m[109]#011train-rmse:1552.28857#011validation-rmse:1983.93958\u001b[0m\n",
      "\u001b[34m[110]#011train-rmse:1551.50610#011validation-rmse:1984.95532\u001b[0m\n",
      "\u001b[34m[111]#011train-rmse:1547.20007#011validation-rmse:1983.42078\u001b[0m\n",
      "\u001b[34m[112]#011train-rmse:1543.17505#011validation-rmse:1984.37158\u001b[0m\n",
      "\u001b[34m[113]#011train-rmse:1539.94531#011validation-rmse:1983.00293\u001b[0m\n",
      "\u001b[34m[114]#011train-rmse:1537.70776#011validation-rmse:1983.20447\u001b[0m\n",
      "\u001b[34m[115]#011train-rmse:1535.05835#011validation-rmse:1982.20325\u001b[0m\n",
      "\u001b[34m[116]#011train-rmse:1534.00635#011validation-rmse:1983.57068\u001b[0m\n",
      "\u001b[34m[117]#011train-rmse:1533.20740#011validation-rmse:1983.16894\u001b[0m\n",
      "\u001b[34m[118]#011train-rmse:1532.88843#011validation-rmse:1983.44885\u001b[0m\n",
      "\u001b[34m[119]#011train-rmse:1532.25305#011validation-rmse:1984.04321\u001b[0m\n",
      "\u001b[34m[120]#011train-rmse:1531.51953#011validation-rmse:1984.19299\u001b[0m\n",
      "\u001b[34m[121]#011train-rmse:1529.71545#011validation-rmse:1984.10535\u001b[0m\n",
      "\u001b[34m[122]#011train-rmse:1527.47534#011validation-rmse:1984.35303\u001b[0m\n",
      "\u001b[34m[123]#011train-rmse:1524.55969#011validation-rmse:1985.56274\u001b[0m\n",
      "\u001b[34m[124]#011train-rmse:1522.55335#011validation-rmse:1984.91138\u001b[0m\n",
      "\u001b[34m[125]#011train-rmse:1521.17981#011validation-rmse:1986.80701\u001b[0m\n"
     ]
    },
    {
     "name": "stdout",
     "output_type": "stream",
     "text": [
      "\n",
      "2023-01-11 09:15:06 Completed - Training job completed\n",
      "Training seconds: 128\n",
      "Billable seconds: 128\n"
     ]
    }
   ],
   "source": [
    "xgb_model.fit(data_channels)"
   ]
  },
  {
   "cell_type": "markdown",
   "metadata": {},
   "source": [
    "# Create Endpoint"
   ]
  },
  {
   "cell_type": "code",
   "execution_count": 42,
   "metadata": {},
   "outputs": [
    {
     "name": "stdout",
     "output_type": "stream",
     "text": [
      "-----!"
     ]
    }
   ],
   "source": [
    "# this code creates an endpoint\n",
    "import sagemaker               \n",
    "from sagemaker.serializers import CSVSerializer\n",
    "predictor = xgb_model.deploy(initial_instance_count=1,\n",
    "                             instance_type='ml.m5.xlarge',\n",
    "                            serializer = CSVSerializer())"
   ]
  },
  {
   "cell_type": "code",
   "execution_count": 43,
   "metadata": {},
   "outputs": [
    {
     "data": {
      "text/plain": [
       "'sagemaker-xgboost-2023-01-11-09-19-03-337'"
      ]
     },
     "execution_count": 43,
     "metadata": {},
     "output_type": "execute_result"
    }
   ],
   "source": [
    "predictor.endpoint_name"
   ]
  },
  {
   "cell_type": "markdown",
   "metadata": {},
   "source": [
    "# Prepare the test data"
   ]
  },
  {
   "cell_type": "code",
   "execution_count": 44,
   "metadata": {},
   "outputs": [
    {
     "data": {
      "text/html": [
       "<div>\n",
       "<style scoped>\n",
       "    .dataframe tbody tr th:only-of-type {\n",
       "        vertical-align: middle;\n",
       "    }\n",
       "\n",
       "    .dataframe tbody tr th {\n",
       "        vertical-align: top;\n",
       "    }\n",
       "\n",
       "    .dataframe thead th {\n",
       "        text-align: right;\n",
       "    }\n",
       "</style>\n",
       "<table border=\"1\" class=\"dataframe\">\n",
       "  <thead>\n",
       "    <tr style=\"text-align: right;\">\n",
       "      <th></th>\n",
       "      <th>price</th>\n",
       "      <th>age</th>\n",
       "      <th>hp_kW</th>\n",
       "      <th>km</th>\n",
       "      <th>Gearing_Type</th>\n",
       "      <th>make_model</th>\n",
       "    </tr>\n",
       "  </thead>\n",
       "  <tbody>\n",
       "    <tr>\n",
       "      <th>0</th>\n",
       "      <td>14500</td>\n",
       "      <td>2.0</td>\n",
       "      <td>141.0</td>\n",
       "      <td>80000.0</td>\n",
       "      <td>Automatic</td>\n",
       "      <td>Audi A1</td>\n",
       "    </tr>\n",
       "    <tr>\n",
       "      <th>1</th>\n",
       "      <td>16790</td>\n",
       "      <td>3.0</td>\n",
       "      <td>66.0</td>\n",
       "      <td>16200.0</td>\n",
       "      <td>Automatic</td>\n",
       "      <td>Audi A1</td>\n",
       "    </tr>\n",
       "    <tr>\n",
       "      <th>2</th>\n",
       "      <td>15090</td>\n",
       "      <td>3.0</td>\n",
       "      <td>85.0</td>\n",
       "      <td>63668.0</td>\n",
       "      <td>Automatic</td>\n",
       "      <td>Audi A1</td>\n",
       "    </tr>\n",
       "    <tr>\n",
       "      <th>3</th>\n",
       "      <td>17990</td>\n",
       "      <td>2.0</td>\n",
       "      <td>70.0</td>\n",
       "      <td>16103.0</td>\n",
       "      <td>Automatic</td>\n",
       "      <td>Audi A1</td>\n",
       "    </tr>\n",
       "    <tr>\n",
       "      <th>4</th>\n",
       "      <td>17990</td>\n",
       "      <td>3.0</td>\n",
       "      <td>92.0</td>\n",
       "      <td>26415.0</td>\n",
       "      <td>Automatic</td>\n",
       "      <td>Audi A1</td>\n",
       "    </tr>\n",
       "  </tbody>\n",
       "</table>\n",
       "</div>"
      ],
      "text/plain": [
       "   price  age  hp_kW       km Gearing_Type make_model\n",
       "0  14500  2.0  141.0  80000.0    Automatic    Audi A1\n",
       "1  16790  3.0   66.0  16200.0    Automatic    Audi A1\n",
       "2  15090  3.0   85.0  63668.0    Automatic    Audi A1\n",
       "3  17990  2.0   70.0  16103.0    Automatic    Audi A1\n",
       "4  17990  3.0   92.0  26415.0    Automatic    Audi A1"
      ]
     },
     "execution_count": 44,
     "metadata": {},
     "output_type": "execute_result"
    }
   ],
   "source": [
    "test_data.head()"
   ]
  },
  {
   "cell_type": "code",
   "execution_count": 45,
   "metadata": {},
   "outputs": [],
   "source": [
    "X=test_data.drop([\"price\"], axis = 1)\n",
    "y=test_data['price']"
   ]
  },
  {
   "cell_type": "code",
   "execution_count": 46,
   "metadata": {},
   "outputs": [],
   "source": [
    "test_numpy=column_trans.transform(X)"
   ]
  },
  {
   "cell_type": "code",
   "execution_count": 47,
   "metadata": {},
   "outputs": [
    {
     "data": {
      "text/plain": [
       "array([[0.0000e+00, 0.0000e+00, 2.0000e+00, 1.4100e+02, 8.0000e+04],\n",
       "       [0.0000e+00, 0.0000e+00, 3.0000e+00, 6.6000e+01, 1.6200e+04],\n",
       "       [0.0000e+00, 0.0000e+00, 3.0000e+00, 8.5000e+01, 6.3668e+04],\n",
       "       ...,\n",
       "       [0.0000e+00, 7.0000e+00, 0.0000e+00, 1.6500e+02, 1.0000e+01],\n",
       "       [0.0000e+00, 7.0000e+00, 0.0000e+00, 1.1800e+02, 1.0000e+01],\n",
       "       [0.0000e+00, 7.0000e+00, 0.0000e+00, 1.6500e+02, 9.9000e+03]])"
      ]
     },
     "execution_count": 47,
     "metadata": {},
     "output_type": "execute_result"
    }
   ],
   "source": [
    "test_numpy"
   ]
  },
  {
   "cell_type": "code",
   "execution_count": 49,
   "metadata": {},
   "outputs": [],
   "source": [
    "test = pd.DataFrame(test_numpy, columns = [\"Gearing_Type\", 'make_model', \"age\", \"hp_kW\", \"km\"], index = X.index)"
   ]
  },
  {
   "cell_type": "code",
   "execution_count": 50,
   "metadata": {},
   "outputs": [
    {
     "data": {
      "text/html": [
       "<div>\n",
       "<style scoped>\n",
       "    .dataframe tbody tr th:only-of-type {\n",
       "        vertical-align: middle;\n",
       "    }\n",
       "\n",
       "    .dataframe tbody tr th {\n",
       "        vertical-align: top;\n",
       "    }\n",
       "\n",
       "    .dataframe thead th {\n",
       "        text-align: right;\n",
       "    }\n",
       "</style>\n",
       "<table border=\"1\" class=\"dataframe\">\n",
       "  <thead>\n",
       "    <tr style=\"text-align: right;\">\n",
       "      <th></th>\n",
       "      <th>Gearing_Type</th>\n",
       "      <th>make_model</th>\n",
       "      <th>age</th>\n",
       "      <th>hp_kW</th>\n",
       "      <th>km</th>\n",
       "    </tr>\n",
       "  </thead>\n",
       "  <tbody>\n",
       "    <tr>\n",
       "      <th>0</th>\n",
       "      <td>0.0</td>\n",
       "      <td>0.0</td>\n",
       "      <td>2.0</td>\n",
       "      <td>141.0</td>\n",
       "      <td>80000.0</td>\n",
       "    </tr>\n",
       "    <tr>\n",
       "      <th>1</th>\n",
       "      <td>0.0</td>\n",
       "      <td>0.0</td>\n",
       "      <td>3.0</td>\n",
       "      <td>66.0</td>\n",
       "      <td>16200.0</td>\n",
       "    </tr>\n",
       "    <tr>\n",
       "      <th>2</th>\n",
       "      <td>0.0</td>\n",
       "      <td>0.0</td>\n",
       "      <td>3.0</td>\n",
       "      <td>85.0</td>\n",
       "      <td>63668.0</td>\n",
       "    </tr>\n",
       "    <tr>\n",
       "      <th>3</th>\n",
       "      <td>0.0</td>\n",
       "      <td>0.0</td>\n",
       "      <td>2.0</td>\n",
       "      <td>70.0</td>\n",
       "      <td>16103.0</td>\n",
       "    </tr>\n",
       "    <tr>\n",
       "      <th>4</th>\n",
       "      <td>0.0</td>\n",
       "      <td>0.0</td>\n",
       "      <td>3.0</td>\n",
       "      <td>92.0</td>\n",
       "      <td>26415.0</td>\n",
       "    </tr>\n",
       "  </tbody>\n",
       "</table>\n",
       "</div>"
      ],
      "text/plain": [
       "   Gearing_Type  make_model  age  hp_kW       km\n",
       "0           0.0         0.0  2.0  141.0  80000.0\n",
       "1           0.0         0.0  3.0   66.0  16200.0\n",
       "2           0.0         0.0  3.0   85.0  63668.0\n",
       "3           0.0         0.0  2.0   70.0  16103.0\n",
       "4           0.0         0.0  3.0   92.0  26415.0"
      ]
     },
     "execution_count": 50,
     "metadata": {},
     "output_type": "execute_result"
    }
   ],
   "source": [
    "test.head()"
   ]
  },
  {
   "cell_type": "code",
   "execution_count": 51,
   "metadata": {},
   "outputs": [
    {
     "data": {
      "text/plain": [
       "(3183, 5)"
      ]
     },
     "execution_count": 51,
     "metadata": {},
     "output_type": "execute_result"
    }
   ],
   "source": [
    "test.shape"
   ]
  },
  {
   "cell_type": "code",
   "execution_count": 52,
   "metadata": {},
   "outputs": [],
   "source": [
    "test.to_csv('test.csv', index=False, header=False)"
   ]
  },
  {
   "cell_type": "markdown",
   "metadata": {},
   "source": [
    "# Run predictions using numpy input using predictor (Method-1)"
   ]
  },
  {
   "cell_type": "code",
   "execution_count": 53,
   "metadata": {},
   "outputs": [
    {
     "data": {
      "text/html": [
       "<div>\n",
       "<style scoped>\n",
       "    .dataframe tbody tr th:only-of-type {\n",
       "        vertical-align: middle;\n",
       "    }\n",
       "\n",
       "    .dataframe tbody tr th {\n",
       "        vertical-align: top;\n",
       "    }\n",
       "\n",
       "    .dataframe thead th {\n",
       "        text-align: right;\n",
       "    }\n",
       "</style>\n",
       "<table border=\"1\" class=\"dataframe\">\n",
       "  <thead>\n",
       "    <tr style=\"text-align: right;\">\n",
       "      <th></th>\n",
       "      <th>Gearing_Type</th>\n",
       "      <th>make_model</th>\n",
       "      <th>age</th>\n",
       "      <th>hp_kW</th>\n",
       "      <th>km</th>\n",
       "    </tr>\n",
       "  </thead>\n",
       "  <tbody>\n",
       "    <tr>\n",
       "      <th>0</th>\n",
       "      <td>0.0</td>\n",
       "      <td>0.0</td>\n",
       "      <td>2.0</td>\n",
       "      <td>141.0</td>\n",
       "      <td>80000.0</td>\n",
       "    </tr>\n",
       "    <tr>\n",
       "      <th>1</th>\n",
       "      <td>0.0</td>\n",
       "      <td>0.0</td>\n",
       "      <td>3.0</td>\n",
       "      <td>66.0</td>\n",
       "      <td>16200.0</td>\n",
       "    </tr>\n",
       "    <tr>\n",
       "      <th>2</th>\n",
       "      <td>0.0</td>\n",
       "      <td>0.0</td>\n",
       "      <td>3.0</td>\n",
       "      <td>85.0</td>\n",
       "      <td>63668.0</td>\n",
       "    </tr>\n",
       "    <tr>\n",
       "      <th>3</th>\n",
       "      <td>0.0</td>\n",
       "      <td>0.0</td>\n",
       "      <td>2.0</td>\n",
       "      <td>70.0</td>\n",
       "      <td>16103.0</td>\n",
       "    </tr>\n",
       "    <tr>\n",
       "      <th>4</th>\n",
       "      <td>0.0</td>\n",
       "      <td>0.0</td>\n",
       "      <td>3.0</td>\n",
       "      <td>92.0</td>\n",
       "      <td>26415.0</td>\n",
       "    </tr>\n",
       "  </tbody>\n",
       "</table>\n",
       "</div>"
      ],
      "text/plain": [
       "   Gearing_Type  make_model  age  hp_kW       km\n",
       "0           0.0         0.0  2.0  141.0  80000.0\n",
       "1           0.0         0.0  3.0   66.0  16200.0\n",
       "2           0.0         0.0  3.0   85.0  63668.0\n",
       "3           0.0         0.0  2.0   70.0  16103.0\n",
       "4           0.0         0.0  3.0   92.0  26415.0"
      ]
     },
     "execution_count": 53,
     "metadata": {},
     "output_type": "execute_result"
    }
   ],
   "source": [
    "test.head()"
   ]
  },
  {
   "cell_type": "code",
   "execution_count": 62,
   "metadata": {},
   "outputs": [
    {
     "data": {
      "text/plain": [
       "b'17277.77734375\\n'"
      ]
     },
     "execution_count": 62,
     "metadata": {},
     "output_type": "execute_result"
    }
   ],
   "source": [
    "result = predictor.predict([0.0,0.0,2.0,141.0,80000.0])\n",
    "result"
   ]
  },
  {
   "cell_type": "code",
   "execution_count": 65,
   "metadata": {},
   "outputs": [],
   "source": [
    "results = predictor.predict(test.to_numpy())"
   ]
  },
  {
   "cell_type": "code",
   "execution_count": 67,
   "metadata": {},
   "outputs": [],
   "source": [
    "#results"
   ]
  },
  {
   "cell_type": "code",
   "execution_count": 68,
   "metadata": {},
   "outputs": [],
   "source": [
    "results = np.fromstring(results, sep='\\n')   #sep='\\n' or sep=','"
   ]
  },
  {
   "cell_type": "code",
   "execution_count": 69,
   "metadata": {},
   "outputs": [
    {
     "data": {
      "text/plain": [
       "array([17277.77734375, 15529.5546875 , 15698.14648438, ...,\n",
       "       35725.3203125 , 33972.03125   , 41680.46875   ])"
      ]
     },
     "execution_count": 69,
     "metadata": {},
     "output_type": "execute_result"
    }
   ],
   "source": [
    "results"
   ]
  },
  {
   "cell_type": "code",
   "execution_count": 70,
   "metadata": {},
   "outputs": [
    {
     "name": "stdout",
     "output_type": "stream",
     "text": [
      " r2_score: 0.9215298241147185 \n",
      " mae: 1258.7995276419651 \n",
      " mse: 4423819.441034105 \n",
      " rmse: 2103.2877694300664\n"
     ]
    }
   ],
   "source": [
    "eval_metrics(y,results)"
   ]
  },
  {
   "cell_type": "code",
   "execution_count": 71,
   "metadata": {},
   "outputs": [],
   "source": [
    "test_data[\"predicted_price\"] = results"
   ]
  },
  {
   "cell_type": "code",
   "execution_count": 73,
   "metadata": {},
   "outputs": [
    {
     "data": {
      "text/html": [
       "<div>\n",
       "<style scoped>\n",
       "    .dataframe tbody tr th:only-of-type {\n",
       "        vertical-align: middle;\n",
       "    }\n",
       "\n",
       "    .dataframe tbody tr th {\n",
       "        vertical-align: top;\n",
       "    }\n",
       "\n",
       "    .dataframe thead th {\n",
       "        text-align: right;\n",
       "    }\n",
       "</style>\n",
       "<table border=\"1\" class=\"dataframe\">\n",
       "  <thead>\n",
       "    <tr style=\"text-align: right;\">\n",
       "      <th></th>\n",
       "      <th>price</th>\n",
       "      <th>age</th>\n",
       "      <th>hp_kW</th>\n",
       "      <th>km</th>\n",
       "      <th>Gearing_Type</th>\n",
       "      <th>make_model</th>\n",
       "      <th>predicted_price</th>\n",
       "    </tr>\n",
       "  </thead>\n",
       "  <tbody>\n",
       "    <tr>\n",
       "      <th>1846</th>\n",
       "      <td>13990</td>\n",
       "      <td>1.0</td>\n",
       "      <td>66.0</td>\n",
       "      <td>12099.0</td>\n",
       "      <td>Automatic</td>\n",
       "      <td>Opel Corsa</td>\n",
       "      <td>13579.380859</td>\n",
       "    </tr>\n",
       "    <tr>\n",
       "      <th>1671</th>\n",
       "      <td>12500</td>\n",
       "      <td>3.0</td>\n",
       "      <td>66.0</td>\n",
       "      <td>52000.0</td>\n",
       "      <td>Automatic</td>\n",
       "      <td>Opel Corsa</td>\n",
       "      <td>10877.949219</td>\n",
       "    </tr>\n",
       "    <tr>\n",
       "      <th>1497</th>\n",
       "      <td>13900</td>\n",
       "      <td>1.0</td>\n",
       "      <td>81.0</td>\n",
       "      <td>13149.0</td>\n",
       "      <td>Manual</td>\n",
       "      <td>Opel Astra</td>\n",
       "      <td>14157.275391</td>\n",
       "    </tr>\n",
       "    <tr>\n",
       "      <th>149</th>\n",
       "      <td>15950</td>\n",
       "      <td>3.0</td>\n",
       "      <td>66.0</td>\n",
       "      <td>53900.0</td>\n",
       "      <td>Semi-automatic</td>\n",
       "      <td>Audi A1</td>\n",
       "      <td>16644.998047</td>\n",
       "    </tr>\n",
       "    <tr>\n",
       "      <th>2352</th>\n",
       "      <td>16800</td>\n",
       "      <td>1.0</td>\n",
       "      <td>103.0</td>\n",
       "      <td>23401.0</td>\n",
       "      <td>Manual</td>\n",
       "      <td>Opel Insignia</td>\n",
       "      <td>19443.669922</td>\n",
       "    </tr>\n",
       "  </tbody>\n",
       "</table>\n",
       "</div>"
      ],
      "text/plain": [
       "      price  age  hp_kW       km    Gearing_Type     make_model  \\\n",
       "1846  13990  1.0   66.0  12099.0       Automatic     Opel Corsa   \n",
       "1671  12500  3.0   66.0  52000.0       Automatic     Opel Corsa   \n",
       "1497  13900  1.0   81.0  13149.0          Manual     Opel Astra   \n",
       "149   15950  3.0   66.0  53900.0  Semi-automatic        Audi A1   \n",
       "2352  16800  1.0  103.0  23401.0          Manual  Opel Insignia   \n",
       "\n",
       "      predicted_price  \n",
       "1846     13579.380859  \n",
       "1671     10877.949219  \n",
       "1497     14157.275391  \n",
       "149      16644.998047  \n",
       "2352     19443.669922  "
      ]
     },
     "execution_count": 73,
     "metadata": {},
     "output_type": "execute_result"
    }
   ],
   "source": [
    "test_data.sample(5, random_state=41)"
   ]
  },
  {
   "cell_type": "markdown",
   "metadata": {},
   "source": [
    "# Run predictions only using the endpoint name (Method-2): "
   ]
  },
  {
   "cell_type": "code",
   "execution_count": 74,
   "metadata": {},
   "outputs": [
    {
     "data": {
      "text/plain": [
       "'sagemaker-xgboost-2023-01-11-09-19-03-337'"
      ]
     },
     "execution_count": 74,
     "metadata": {},
     "output_type": "execute_result"
    }
   ],
   "source": [
    "endpoint_name = predictor.endpoint_name\n",
    "endpoint_name"
   ]
  },
  {
   "cell_type": "code",
   "execution_count": 75,
   "metadata": {},
   "outputs": [],
   "source": [
    "with open('test.csv', 'r') as f:\n",
    "    payload = f.read().strip('\\n')"
   ]
  },
  {
   "cell_type": "code",
   "execution_count": 253,
   "metadata": {},
   "outputs": [],
   "source": [
    "# payload=\"0.0,0.0,2.0,141.0,80000.0\"     # by this one you can try a single value to be predicted"
   ]
  },
  {
   "cell_type": "code",
   "execution_count": 76,
   "metadata": {},
   "outputs": [],
   "source": [
    "import boto3\n",
    "\n",
    "# Create a low-level client representing Amazon SageMaker Runtime\n",
    "sagemaker_runtime = boto3.client(\"sagemaker-runtime\", region_name=boto3.Session().region_name)\n",
    "\n",
    "# The name of the endpoint. The name must be unique within an AWS Region in your AWS account. \n",
    "\n",
    "# After you deploy a model into production using SageMaker hosting \n",
    "# services, your client applications use this API to get inferences \n",
    "# from the model hosted at the specified endpoint.\n",
    "response = sagemaker_runtime.invoke_endpoint(\n",
    "                            EndpointName=endpoint_name, \n",
    "                            Body=payload, # Replace with your own data.\n",
    "                            ContentType = 'text/csv')\n",
    "\n",
    "# Optional - Print the response body and decode it so it is human read-able.\n",
    "#print(response['Body'].read().decode('utf-8'))"
   ]
  },
  {
   "cell_type": "code",
   "execution_count": 80,
   "metadata": {},
   "outputs": [],
   "source": [
    "#response"
   ]
  },
  {
   "cell_type": "code",
   "execution_count": 77,
   "metadata": {},
   "outputs": [],
   "source": [
    "results2 = response['Body'].read()   # results2 = response['Body'].read().decode('utf-8') if required"
   ]
  },
  {
   "cell_type": "code",
   "execution_count": 71,
   "metadata": {},
   "outputs": [],
   "source": [
    "#results2"
   ]
  },
  {
   "cell_type": "code",
   "execution_count": 78,
   "metadata": {},
   "outputs": [],
   "source": [
    "results2 = np.fromstring(results2, sep='\\n')"
   ]
  },
  {
   "cell_type": "code",
   "execution_count": 79,
   "metadata": {},
   "outputs": [
    {
     "data": {
      "text/plain": [
       "array([17277.77734375, 15529.5546875 , 15698.14648438, ...,\n",
       "       35725.3203125 , 33972.03125   , 41680.46875   ])"
      ]
     },
     "execution_count": 79,
     "metadata": {},
     "output_type": "execute_result"
    }
   ],
   "source": [
    "results2"
   ]
  },
  {
   "cell_type": "code",
   "execution_count": 80,
   "metadata": {},
   "outputs": [
    {
     "data": {
      "text/plain": [
       "(3183,)"
      ]
     },
     "execution_count": 80,
     "metadata": {},
     "output_type": "execute_result"
    }
   ],
   "source": [
    "results2.shape"
   ]
  },
  {
   "cell_type": "code",
   "execution_count": 81,
   "metadata": {},
   "outputs": [
    {
     "data": {
      "text/plain": [
       "(3183,)"
      ]
     },
     "execution_count": 81,
     "metadata": {},
     "output_type": "execute_result"
    }
   ],
   "source": [
    "y.shape"
   ]
  },
  {
   "cell_type": "code",
   "execution_count": 82,
   "metadata": {},
   "outputs": [
    {
     "name": "stdout",
     "output_type": "stream",
     "text": [
      " r2_score: 0.9215298241147185 \n",
      " mae: 1258.7995276419651 \n",
      " mse: 4423819.441034105 \n",
      " rmse: 2103.2877694300664\n"
     ]
    }
   ],
   "source": [
    "eval_metrics(y,results2)"
   ]
  },
  {
   "cell_type": "code",
   "execution_count": 83,
   "metadata": {},
   "outputs": [],
   "source": [
    "test_data[\"predicted_price2\"] = results2"
   ]
  },
  {
   "cell_type": "code",
   "execution_count": 84,
   "metadata": {},
   "outputs": [
    {
     "data": {
      "text/html": [
       "<div>\n",
       "<style scoped>\n",
       "    .dataframe tbody tr th:only-of-type {\n",
       "        vertical-align: middle;\n",
       "    }\n",
       "\n",
       "    .dataframe tbody tr th {\n",
       "        vertical-align: top;\n",
       "    }\n",
       "\n",
       "    .dataframe thead th {\n",
       "        text-align: right;\n",
       "    }\n",
       "</style>\n",
       "<table border=\"1\" class=\"dataframe\">\n",
       "  <thead>\n",
       "    <tr style=\"text-align: right;\">\n",
       "      <th></th>\n",
       "      <th>price</th>\n",
       "      <th>age</th>\n",
       "      <th>hp_kW</th>\n",
       "      <th>km</th>\n",
       "      <th>Gearing_Type</th>\n",
       "      <th>make_model</th>\n",
       "      <th>predicted_price</th>\n",
       "      <th>predicted_price2</th>\n",
       "    </tr>\n",
       "  </thead>\n",
       "  <tbody>\n",
       "    <tr>\n",
       "      <th>1846</th>\n",
       "      <td>13990</td>\n",
       "      <td>1.0</td>\n",
       "      <td>66.0</td>\n",
       "      <td>12099.0</td>\n",
       "      <td>Automatic</td>\n",
       "      <td>Opel Corsa</td>\n",
       "      <td>13579.380859</td>\n",
       "      <td>13579.380859</td>\n",
       "    </tr>\n",
       "    <tr>\n",
       "      <th>1671</th>\n",
       "      <td>12500</td>\n",
       "      <td>3.0</td>\n",
       "      <td>66.0</td>\n",
       "      <td>52000.0</td>\n",
       "      <td>Automatic</td>\n",
       "      <td>Opel Corsa</td>\n",
       "      <td>10877.949219</td>\n",
       "      <td>10877.949219</td>\n",
       "    </tr>\n",
       "    <tr>\n",
       "      <th>1497</th>\n",
       "      <td>13900</td>\n",
       "      <td>1.0</td>\n",
       "      <td>81.0</td>\n",
       "      <td>13149.0</td>\n",
       "      <td>Manual</td>\n",
       "      <td>Opel Astra</td>\n",
       "      <td>14157.275391</td>\n",
       "      <td>14157.275391</td>\n",
       "    </tr>\n",
       "    <tr>\n",
       "      <th>149</th>\n",
       "      <td>15950</td>\n",
       "      <td>3.0</td>\n",
       "      <td>66.0</td>\n",
       "      <td>53900.0</td>\n",
       "      <td>Semi-automatic</td>\n",
       "      <td>Audi A1</td>\n",
       "      <td>16644.998047</td>\n",
       "      <td>16644.998047</td>\n",
       "    </tr>\n",
       "    <tr>\n",
       "      <th>2352</th>\n",
       "      <td>16800</td>\n",
       "      <td>1.0</td>\n",
       "      <td>103.0</td>\n",
       "      <td>23401.0</td>\n",
       "      <td>Manual</td>\n",
       "      <td>Opel Insignia</td>\n",
       "      <td>19443.669922</td>\n",
       "      <td>19443.669922</td>\n",
       "    </tr>\n",
       "  </tbody>\n",
       "</table>\n",
       "</div>"
      ],
      "text/plain": [
       "      price  age  hp_kW       km    Gearing_Type     make_model  \\\n",
       "1846  13990  1.0   66.0  12099.0       Automatic     Opel Corsa   \n",
       "1671  12500  3.0   66.0  52000.0       Automatic     Opel Corsa   \n",
       "1497  13900  1.0   81.0  13149.0          Manual     Opel Astra   \n",
       "149   15950  3.0   66.0  53900.0  Semi-automatic        Audi A1   \n",
       "2352  16800  1.0  103.0  23401.0          Manual  Opel Insignia   \n",
       "\n",
       "      predicted_price  predicted_price2  \n",
       "1846     13579.380859      13579.380859  \n",
       "1671     10877.949219      10877.949219  \n",
       "1497     14157.275391      14157.275391  \n",
       "149      16644.998047      16644.998047  \n",
       "2352     19443.669922      19443.669922  "
      ]
     },
     "execution_count": 84,
     "metadata": {},
     "output_type": "execute_result"
    }
   ],
   "source": [
    "test_data.sample(5, random_state=41)"
   ]
  },
  {
   "cell_type": "markdown",
   "metadata": {},
   "source": [
    "# jason info:"
   ]
  },
  {
   "cell_type": "code",
   "execution_count": 94,
   "metadata": {},
   "outputs": [
    {
     "data": {
      "text/plain": [
       "'0.0,0.0,2.0,141.0,80000.0'"
      ]
     },
     "execution_count": 94,
     "metadata": {},
     "output_type": "execute_result"
    }
   ],
   "source": [
    "event = {\n",
    "  \"data\": \"0.0,0.0,2.0,141.0,80000.0\"\n",
    "}\n",
    "\n",
    "data = json.loads(json.dumps(event))\n",
    "\n",
    "payload = data[\"data\"]\n",
    "payload"
   ]
  },
  {
   "cell_type": "code",
   "execution_count": 95,
   "metadata": {},
   "outputs": [
    {
     "data": {
      "text/plain": [
       "dict"
      ]
     },
     "execution_count": 95,
     "metadata": {},
     "output_type": "execute_result"
    }
   ],
   "source": [
    "type(event)"
   ]
  },
  {
   "cell_type": "code",
   "execution_count": 96,
   "metadata": {},
   "outputs": [
    {
     "data": {
      "text/plain": [
       "str"
      ]
     },
     "execution_count": 96,
     "metadata": {},
     "output_type": "execute_result"
    }
   ],
   "source": [
    "type(payload)"
   ]
  },
  {
   "cell_type": "code",
   "execution_count": 97,
   "metadata": {},
   "outputs": [],
   "source": [
    "my_dict = {\n",
    "    \"age\": 2,\n",
    "    \"hp_kW\": 141,\n",
    "    \"km\": 80000,\n",
    "    'Gearing_Type':'Automatic',\n",
    "    \"make_model\": 'Audi A1'}"
   ]
  },
  {
   "cell_type": "code",
   "execution_count": 98,
   "metadata": {},
   "outputs": [],
   "source": [
    "df = pd.DataFrame.from_dict([my_dict])"
   ]
  },
  {
   "cell_type": "code",
   "execution_count": 99,
   "metadata": {},
   "outputs": [],
   "source": [
    "df2 = column_trans.transform(df)"
   ]
  },
  {
   "cell_type": "code",
   "execution_count": 100,
   "metadata": {},
   "outputs": [
    {
     "data": {
      "text/plain": [
       "array([[0.00e+00, 0.00e+00, 2.00e+00, 1.41e+02, 8.00e+04]])"
      ]
     },
     "execution_count": 100,
     "metadata": {},
     "output_type": "execute_result"
    }
   ],
   "source": [
    "df2"
   ]
  },
  {
   "cell_type": "code",
   "execution_count": 101,
   "metadata": {},
   "outputs": [],
   "source": [
    "df2 = pd.DataFrame(df2)"
   ]
  },
  {
   "cell_type": "code",
   "execution_count": 102,
   "metadata": {},
   "outputs": [
    {
     "data": {
      "text/html": [
       "<div>\n",
       "<style scoped>\n",
       "    .dataframe tbody tr th:only-of-type {\n",
       "        vertical-align: middle;\n",
       "    }\n",
       "\n",
       "    .dataframe tbody tr th {\n",
       "        vertical-align: top;\n",
       "    }\n",
       "\n",
       "    .dataframe thead th {\n",
       "        text-align: right;\n",
       "    }\n",
       "</style>\n",
       "<table border=\"1\" class=\"dataframe\">\n",
       "  <thead>\n",
       "    <tr style=\"text-align: right;\">\n",
       "      <th></th>\n",
       "      <th>0</th>\n",
       "      <th>1</th>\n",
       "      <th>2</th>\n",
       "      <th>3</th>\n",
       "      <th>4</th>\n",
       "    </tr>\n",
       "  </thead>\n",
       "  <tbody>\n",
       "    <tr>\n",
       "      <th>0</th>\n",
       "      <td>0.0</td>\n",
       "      <td>0.0</td>\n",
       "      <td>2.0</td>\n",
       "      <td>141.0</td>\n",
       "      <td>80000.0</td>\n",
       "    </tr>\n",
       "  </tbody>\n",
       "</table>\n",
       "</div>"
      ],
      "text/plain": [
       "     0    1    2      3        4\n",
       "0  0.0  0.0  2.0  141.0  80000.0"
      ]
     },
     "execution_count": 102,
     "metadata": {},
     "output_type": "execute_result"
    }
   ],
   "source": [
    "df2"
   ]
  },
  {
   "cell_type": "code",
   "execution_count": 103,
   "metadata": {},
   "outputs": [],
   "source": [
    "df2.to_csv('df2.csv', index=False, header=False)"
   ]
  },
  {
   "cell_type": "code",
   "execution_count": 104,
   "metadata": {},
   "outputs": [],
   "source": [
    "with open('df2.csv', 'r') as f:\n",
    "    payload = f.read().strip('\\n')"
   ]
  },
  {
   "cell_type": "code",
   "execution_count": 105,
   "metadata": {},
   "outputs": [
    {
     "data": {
      "text/plain": [
       "'0.0,0.0,2.0,141.0,80000.0'"
      ]
     },
     "execution_count": 105,
     "metadata": {},
     "output_type": "execute_result"
    }
   ],
   "source": [
    "payload"
   ]
  },
  {
   "cell_type": "code",
   "execution_count": 106,
   "metadata": {},
   "outputs": [],
   "source": [
    "event = {\n",
    "  \"data\": payload\n",
    "  \n",
    "}"
   ]
  },
  {
   "cell_type": "code",
   "execution_count": 107,
   "metadata": {},
   "outputs": [
    {
     "data": {
      "text/plain": [
       "{'data': '0.0,0.0,2.0,141.0,80000.0'}"
      ]
     },
     "execution_count": 107,
     "metadata": {},
     "output_type": "execute_result"
    }
   ],
   "source": [
    "event"
   ]
  }
 ],
 "metadata": {
  "colab": {
   "collapsed_sections": [],
   "name": "modeling_auto_scout.ipynb",
   "provenance": []
  },
  "kernelspec": {
   "display_name": "conda_python3",
   "language": "python",
   "name": "conda_python3"
  },
  "language_info": {
   "codemirror_mode": {
    "name": "ipython",
    "version": 3
   },
   "file_extension": ".py",
   "mimetype": "text/x-python",
   "name": "python",
   "nbconvert_exporter": "python",
   "pygments_lexer": "ipython3",
   "version": "3.6.13"
  },
  "vscode": {
   "interpreter": {
    "hash": "ca11b7385a386c9a87deee64c61933703dff8169172974971cc10f21a8115786"
   }
  }
 },
 "nbformat": 4,
 "nbformat_minor": 4
}
