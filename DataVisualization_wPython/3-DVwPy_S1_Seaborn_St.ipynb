{
 "cells": [
  {
   "cell_type": "markdown",
   "metadata": {
    "id": "2P4Y4_Oy_cHP"
   },
   "source": [
    "___\n",
    "\n",
    "<p style=\"text-align: center;\"><img src=\"https://docs.google.com/uc?id=1lY0Uj5R04yMY3-ZppPWxqCr5pvBLYPnV\" class=\"img-fluid\" \n",
    "alt=\"CLRSWY\"></p>\n",
    "\n",
    "## <p style=\"background-color:#FDFEFE; font-family:newtimeroman; color:#9d4f8c; font-size:100%; text-align:center; border-radius:10px 10px;\">WAY TO REINVENT YOURSELF</p>"
   ]
  },
  {
   "cell_type": "markdown",
   "metadata": {
    "id": "S4jcGMQ0_cHX"
   },
   "source": [
    "![image.png](https://i.ibb.co/hg2Kd1X/seabornlogo.png)\n",
    "\n",
    "Seaborn is a library for making statistical graphics in Python. It builds on top of matplotlib and integrates closely with pandas data structures.\n",
    "\n",
    "Seaborn helps you explore and understand your data. Its plotting functions operate on dataframes and arrays containing whole datasets and internally perform the necessary semantic mapping and statistical aggregation to produce informative plots. Its dataset-oriented, declarative API lets you focus on what the different elements of your plots mean, rather than on the details of how to draw them\n",
    "\n",
    "[Seaborn Source 01](https://seaborn.pydata.org/introduction.html), [Seaborn Source 02](https://seaborn.pydata.org/), [Seaborn Source 03](https://www.youtube.com/watch?v=GcXcSZ0gQps), [Seaborn Source 04](https://www.youtube.com/watch?v=6GUZXDef2U0) & [Seaborn Source 05](https://www.youtube.com/watch?v=Pkvdc2Z6eBg)"
   ]
  },
  {
   "cell_type": "markdown",
   "metadata": {
    "id": "GbKVUDvZ_cHZ"
   },
   "source": [
    "<a id=\"toc\"></a>\n",
    "\n",
    "## <p style=\"background-color:#9d4f8c; font-family:newtimeroman; color:#FFF9ED; font-size:150%; text-align:center; border-radius:10px 10px;\">CONTENT</p>\n",
    "\n",
    "* [MATPLOTLIB VS SEABORN](#0)\n",
    "* [IMPORTING LIBRARIES NEEDED IN THIS NOTEBOOK](#1)\n",
    "* [SEABORN PLOT TYPES](#2)\n",
    "* [Does Seaborn use Matplotlib? Connecting to Figure in Matplotlib.](#3)\n",
    "    * [\"hue\" Parameter](#3.1)\n",
    "    * [\"size\" Parameter](#3.2)\n",
    "    * [\"style\" Parameter](#3.3)\n",
    "    * [\"alpha\" Parameter](#3.4)\n",
    "* [EXPORTING (save) A SEABORN FIGURE](#4)\n",
    "* [RUGPLOT](#5) \n",
    "* [DISPLOT & HISTPLOT](#6)        \n",
    "* [DISPLOT](#7)\n",
    "* [HISTPLOT](#8)\n",
    "    * [The Number of Bins in Histogram](#8.1)\n",
    "    * [Adding in a Grid & Styles](#8.2)\n",
    "    * [Adding in Keywords from Matplotlib](#8.3)\n",
    "* [THE KERNEL DENSITY ESTIMATION (KDE) PLOT](#9)\n",
    "    * [Cut Off KDE](#9.1)\n",
    "    * [Bandwidth](#9.2)\n",
    "* [2-DIMENSIONAL KDE PLOTS](#10)\n",
    "* [BONUS CODE FOR VISUALIZATIONS](#11)\n",
    "    * [What is dpi in Figure?](#11.1)\n",
    "* [THE END OF THE SEABORN SESSION 01](#12)    "
   ]
  },
  {
   "cell_type": "markdown",
   "metadata": {
    "id": "SzpDAOIG_cHa"
   },
   "source": [
    "## <p style=\"background-color:#9d4f8c; font-family:newtimeroman; color:#FFF9ED; font-size:150%; text-align:center; border-radius:10px 10px;\">MATPLOTLIB VS SEABORN</p>\n",
    "\n",
    "<a id=\"0\"></a>\n",
    "<a href=\"#toc\" class=\"btn btn-primary btn-sm\" role=\"button\" aria-pressed=\"true\" \n",
    "style=\"color:blue; background-color:#dfa8e4\" data-toggle=\"popover\">Content</a>\n",
    "\n",
    "### 1.Functionality:\n",
    "\n",
    "**Matplotlib:** Matplotlib is mainly deployed for basic plotting. Visualization using Matplotlib generally consists of bars, pies, lines, scatter plots and so on.\n",
    "\n",
    "**Seaborn:** Seaborn, on the other hand, provides a variety of visualization patterns. It uses fewer syntax and has easily interesting default themes. It specializes in statistics visualization and is used if one has to summarize data in visualizations and also show the distribution in the data.\n",
    "\n",
    "### 2.Handling Multiple Figures:\n",
    "\n",
    "**Matplotlib:** Matplotlib has multiple figures that can be opened, but need to be closed explicitly. plt.close() only closes the current figure. plt.close(‘all’) would close them all.\n",
    "\n",
    "**Seaborn:** Seaborn automates the creation of multiple figures. This sometimes leads to OOM (out of memory) issues.\n",
    "\n",
    "### 3.Visualization:\n",
    "\n",
    "**Matplotlib:** Matplotlib is a graphics package for data visualization in Python. It is well integrated with NumPy and Pandas. The pyplot module mirrors the MATLAB plotting commands closely. Hence, MATLAB users can easily transit to plotting with Python.\n",
    "\n",
    "**Seaborn:** Seaborn is more integrated for working with Pandas data frames. It extends the Matplotlib library for creating beautiful graphics with Python using a more straightforward set of methods.\n",
    "\n",
    "### 4.Data frames and Arrays\n",
    "\n",
    "**Matplotlib:** Matplotlib works with data frames and arrays. It has different stateful APIs for plotting. The figures and axes are represented by the object and therefore plot() like calls without parameters suffices, without having to manage parameters.\n",
    "\n",
    "**Seaborn:** Seaborn works with the dataset as a whole and is much more intuitive than Matplotlib. For Seaborn, replot() is the entry API with ‘kind’ parameter to specify the type of plot which could be line, bar, or many of the other types. Seaborn is not stateful. Hence, plot() would require passing the object.\n",
    "\n",
    "**Now it's all about your choice and the type of requirement.**\n",
    "\n",
    "[SOURCE 01](https://www.kaggle.com/questions-and-answers/149640), [SOURCE 02](https://www.kdnuggets.com/2019/04/data-visualization-python-matplotlib-seaborn.html) & [SOURCE 03](https://analyticsindiamag.com/comparing-python-data-visualization-tools-matplotlib-vs-seaborn/)"
   ]
  },
  {
   "cell_type": "markdown",
   "metadata": {
    "id": "n-T6iiM7_cHc"
   },
   "source": [
    "## <p style=\"background-color:#9d4f8c; font-family:newtimeroman; color:#FFF9ED; font-size:150%; text-align:center; border-radius:10px 10px;\">IMPORTING LIBRARIES NEEDED IN THIS NOTEBOOK</p>\n",
    "\n",
    "<a id=\"1\"></a>\n",
    "<a href=\"#toc\" class=\"btn btn-primary btn-sm\" role=\"button\" aria-pressed=\"true\" \n",
    "style=\"color:blue; background-color:#dfa8e4\" data-toggle=\"popover\">Content</a>\n",
    "\n",
    "**NOTE:** There is NO need to import Matplotlib and seaborn for figures in Pandas. With a DataFrame, pandas creates by default one line plot for each of the columns with numeric data.<br>\n",
    "Seaborn package is a Python data visualization library developed based on the Matplotlib library. Since Seaborn is built on Matplotlib they can be used together. Seaborn is used to create more attractive and informative statistical graphics. While Seaborn is a different package, it can also be used to develop the attractiveness of matplotlib graphics. When we load Seaborn into the session, everytime a Matplotlib is executed, Seaborn's default customizations are added."
   ]
  },
  {
   "cell_type": "code",
   "execution_count": 1,
   "metadata": {
    "colab": {
     "background_save": true
    },
    "id": "-xZUO4xyI5dK"
   },
   "outputs": [],
   "source": [
    "import numpy as np\n",
    "import pandas as pd\n",
    "import matplotlib.pyplot as plt\n",
    "import scipy\n",
    "import seaborn as sns"
   ]
  },
  {
   "cell_type": "markdown",
   "metadata": {
    "id": "-1HAUnn9_cHf"
   },
   "source": [
    "**Behind the scenes, seaborn uses matplotlib to draw its plots.**"
   ]
  },
  {
   "cell_type": "code",
   "execution_count": null,
   "metadata": {
    "id": "k-GXMLOP_cHg",
    "outputId": "b87faaa9-82b6-46a9-b2ad-eca7692fdec5"
   },
   "outputs": [],
   "source": []
  },
  {
   "cell_type": "code",
   "execution_count": null,
   "metadata": {
    "colab": {
     "background_save": true,
     "base_uri": "https://localhost:8080/",
     "height": 203
    },
    "id": "752xtIhqKSKE",
    "outputId": "c32e37d0-4ecf-4ccf-b3c1-8ae982d6b60f"
   },
   "outputs": [],
   "source": []
  },
  {
   "cell_type": "markdown",
   "metadata": {
    "id": "ciezKT-i_cHi"
   },
   "source": [
    "## <p style=\"background-color:#9d4f8c; font-family:newtimeroman; color:#FFF9ED; font-size:150%; text-align:center; border-radius:10px 10px;\">SEABORN PLOT TYPES</p>\n",
    "\n",
    "<a id=\"2\"></a>\n",
    "<a href=\"#toc\" class=\"btn btn-primary btn-sm\" role=\"button\" aria-pressed=\"true\" \n",
    "style=\"color:blue; background-color:#dfa8e4\" data-toggle=\"popover\">Content</a>\n",
    "\n",
    "![Capture12.PNG](https://i.ibb.co/Q9SXCR1/Capture12.png)"
   ]
  },
  {
   "cell_type": "markdown",
   "metadata": {
    "id": "Fj-PXwuw_cHj"
   },
   "source": [
    "#### <p style=\"background-color:#9d4f8c; font-family:newtimeroman; color:#FFF9ED; font-size:150%; text-align:LEFT; border-radius:10px 10px;\">How to change a figure's size in Python Seaborn package</p>\n",
    "\n",
    "[SOURCE](https://stackoverflow.com/questions/33446029/how-to-change-a-figures-size-in-python-seaborn-package)"
   ]
  },
  {
   "cell_type": "code",
   "execution_count": 2,
   "metadata": {
    "id": "6490QPhZ_cHj"
   },
   "outputs": [],
   "source": [
    "# plt.figure(figsize=(12, 8))\n",
    "# plt.rcParams['figure.figsize']=(12, 8)\n",
    "\n",
    "# sns.set(rc={'figure.figsize':(12, 8)})\n",
    "# g=sns.pairplot()\n",
    "# g.fig.set_size_inches(12, 8)"
   ]
  },
  {
   "cell_type": "markdown",
   "metadata": {
    "id": "zMDQYK5z_cHk"
   },
   "source": [
    "**matplotlib.rcParams** contains some properties in matplotlibrc file. We can use it to control the defaults of almost every property in Matplotlib: figure size and DPI, line width, color and style, axes, axis and grid properties, text and font properties and so on. In order to use matplotlib.rcParams, we should know what properties are stored in it, these properties can be foud in matplotlibrc file.\n",
    "\n",
    "Seaborn has default congurations that can be applied with **sns.set()**. It uses the matplotlib rcParam system and will affect how all matplotlib plots look, even if you don’t make them with seaborn. Beyond the default theme, there are several other options, and you can independently control the style."
   ]
  },
  {
   "cell_type": "markdown",
   "metadata": {
    "id": "725PUi0wZFMY"
   },
   "source": [
    "![image-2.png](https://i.ibb.co/n0WsYB1/seaborn-scatterplot.png)\n",
    "\n",
    "Scatter plots can show how different features are related to one another, the main theme between all relational plot types is they display how features are interconnected to each other. There are many different types of plots that can be used to show this, so let's explore the scatterplot() as well as general seaborn parameters applicable to other plot types.\n",
    "\n",
    "[SOURCE 01](https://seaborn.pydata.org/examples/different_scatter_variables.html), [SOURCE 02](https://towardsdatascience.com/7-points-to-create-better-scatter-plots-with-seaborn-9f0202fb2ba4), [SOURCE 03](https://www.python-graph-gallery.com/40-basic-scatterplot-seaborn), [SOURCE 04](https://www.educba.com/seaborn-scatter-plot/), [SOURCE 05](https://www.journaldev.com/39381/seaborn-scatter-plot) & [SOURCE 06](https://medium.com/@nutanbhogendrasharma/data-visualization-with-seaborn-part-1-1f4743274753)"
   ]
  },
  {
   "cell_type": "markdown",
   "metadata": {
    "id": "Y8tgsaJUZcoJ"
   },
   "source": [
    "## <p style=\"background-color:#9d4f8c; font-family:newtimeroman; color:#FFF9ED; font-size:150%; text-align:center; border-radius:10px 10px;\">Does Seaborn use Matplotlib? Connecting to Figure in Matplotlib.</p>\n",
    "\n",
    "<a id=\"3\"></a>\n",
    "<a href=\"#toc\" class=\"btn btn-primary btn-sm\" role=\"button\" aria-pressed=\"true\" \n",
    "style=\"color:blue; background-color:#dfa8e4\" data-toggle=\"popover\">Content</a>\n",
    "\n",
    "**Seaborn is a high-level library. It provides simple codes to visualize complex statistical plots, which also happen to be aesthetically pleasing. But Seaborn was built on top of Matplotlib, meaning it can be further powered up with Matplotlib functionalities.**\n",
    "\n",
    "[SOURCE](https://towardsdatascience.com/seaborn-can-do-the-job-then-why-matplotlib-dac8d2d24a5f)\n",
    "\n",
    "**Note how matplotlib is still connected to seaborn underneath (even without importing matplotlib.pyplot), since seaborn itself is directly making a Figure call with matplotlib. We can import matplotlib.pyplot and make calls to directly effect the seaborn figure.**"
   ]
  },
  {
   "cell_type": "code",
   "execution_count": null,
   "metadata": {
    "colab": {
     "base_uri": "https://localhost:8080/",
     "height": 467
    },
    "id": "8_g1ra92ZNAc",
    "outputId": "15c167a1-25de-40e6-c2ae-63469c58e9cf"
   },
   "outputs": [],
   "source": []
  },
  {
   "cell_type": "code",
   "execution_count": null,
   "metadata": {},
   "outputs": [],
   "source": []
  },
  {
   "cell_type": "markdown",
   "metadata": {
    "id": "519Ba3NsaLDw"
   },
   "source": [
    "### <p style=\"background-color:#9d4f8c; font-family:newtimeroman; color:#FFF9ED; font-size:150%; text-align:LEFT; border-radius:10px 10px;\">\"hue\" Parameter</p>\n",
    "\n",
    "<a id=\"3.1\"></a>\n",
    "<a href=\"#toc\" class=\"btn btn-primary btn-sm\" role=\"button\" aria-pressed=\"true\" \n",
    "style=\"color:blue; background-color:#dfa8e4\" data-toggle=\"popover\">Content</a>\n",
    "\n",
    "Color points based off a categorical feature in the DataFrame\n",
    "\n",
    "[SOURCE 01](https://seaborn.pydata.org/generated/seaborn.scatterplot.html) & [SOURCE 02](https://seaborn.pydata.org/examples/scatter_bubbles.html)"
   ]
  },
  {
   "cell_type": "code",
   "execution_count": null,
   "metadata": {
    "colab": {
     "base_uri": "https://localhost:8080/",
     "height": 297
    },
    "id": "-e2cLd7iKYNq",
    "outputId": "86ba8bd2-dff9-4e8c-f6ab-ad046ab6eaac"
   },
   "outputs": [],
   "source": []
  },
  {
   "cell_type": "code",
   "execution_count": null,
   "metadata": {},
   "outputs": [],
   "source": []
  },
  {
   "cell_type": "markdown",
   "metadata": {
    "id": "OTGrkKpiaow5"
   },
   "source": [
    "### <p style=\"background-color:#9d4f8c; font-family:newtimeroman; color:#FFF9ED; font-size:150%; text-align:LEFT; border-radius:10px 10px;\">\"size\" Parameter</p>\n",
    "\n",
    "<a id=\"3.2\"></a>\n",
    "<a href=\"#toc\" class=\"btn btn-primary btn-sm\" role=\"button\" aria-pressed=\"true\" \n",
    "style=\"color:blue; background-color:#dfa8e4\" data-toggle=\"popover\">Content</a>\n",
    "\n",
    "Allows you to size based on another column \n",
    "\n",
    "[SOURCE 01](https://seaborn.pydata.org/generated/seaborn.scatterplot.html), [SOURCE 02](https://seaborn.pydata.org/examples/scatter_bubbles.html), [SOURCE 03](https://www.delftstack.com/howto/seaborn/scatterplot-marker-size-seaborn/) & [SOURCE 04](https://stackoverflow.com/questions/52785101/seaborn-scatterplot-marker-size-for-all-markers)"
   ]
  },
  {
   "cell_type": "code",
   "execution_count": null,
   "metadata": {
    "colab": {
     "base_uri": "https://localhost:8080/",
     "height": 297
    },
    "id": "AnGHEwl7auxU",
    "outputId": "66a7a9c8-c420-4b62-d3f2-b169965699a8"
   },
   "outputs": [],
   "source": []
  },
  {
   "cell_type": "code",
   "execution_count": null,
   "metadata": {},
   "outputs": [],
   "source": []
  },
  {
   "cell_type": "markdown",
   "metadata": {
    "id": "L8QYsGQWag5Y"
   },
   "source": [
    "### <p style=\"background-color:#9d4f8c; font-family:newtimeroman; color:#FFF9ED; font-size:150%; text-align:LEFT; border-radius:10px 10px;\">\"style\" Parameter</p>\n",
    "\n",
    "<a id=\"3.3\"></a>\n",
    "<a href=\"#toc\" class=\"btn btn-primary btn-sm\" role=\"button\" aria-pressed=\"true\" \n",
    "style=\"color:blue; background-color:#dfa8e4\" data-toggle=\"popover\">Content</a>\n",
    "\n",
    "Automatically choose styles based on another categorical feature in the dataset. Optionally use the **markers=** parameter to pass a list of marker choices based off matplotlib, for example: ['*','+','o']\n",
    "\n",
    "[SOURCE 01](https://seaborn.pydata.org/generated/seaborn.scatterplot.html) & [SOURCE 02](https://www.codecademy.com/article/seaborn-design-i)"
   ]
  },
  {
   "cell_type": "code",
   "execution_count": null,
   "metadata": {
    "id": "it1AcRvN_cHr",
    "outputId": "beebfd8d-cbb2-4faf-8794-fee430b6de9b"
   },
   "outputs": [],
   "source": []
  },
  {
   "cell_type": "code",
   "execution_count": null,
   "metadata": {
    "id": "jbMR5CVh_cHs",
    "outputId": "9d7ba927-4862-4707-8c3d-eaffa15c2f2a"
   },
   "outputs": [],
   "source": []
  },
  {
   "cell_type": "code",
   "execution_count": null,
   "metadata": {
    "colab": {
     "base_uri": "https://localhost:8080/",
     "height": 297
    },
    "id": "to3mg6TTZnLw",
    "outputId": "bdf6d2c2-fb8e-4bb6-aae3-85776a12071a"
   },
   "outputs": [],
   "source": []
  },
  {
   "cell_type": "markdown",
   "metadata": {
    "id": "kHp3k5wV_cHu"
   },
   "source": [
    "### <p style=\"background-color:#9d4f8c; font-family:newtimeroman; color:#FFF9ED; font-size:150%; text-align:LEFT; border-radius:10px 10px;\">\"alpha\" Parameter</p>\n",
    "\n",
    "<a id=\"3.4\"></a>\n",
    "<a href=\"#toc\" class=\"btn btn-primary btn-sm\" role=\"button\" aria-pressed=\"true\" \n",
    "style=\"color:blue; background-color:#dfa8e4\" data-toggle=\"popover\">Content</a>\n",
    "\n",
    "Proportional opacity of the points.\n",
    "\n",
    "To control the transparency of plots, we can use the alpha argument within the plot function. By default, its value is 1. The value of this parameter ranges from 0 to 1, with the plot getting more transparent and invisible as the value reaches 0. It can be used directly in most of the plot functions of the seaborn module.\n",
    "\n",
    "[SOURCE 01](https://seaborn.pydata.org/generated/seaborn.scatterplot.html), [SOURCE 02](https://www.delftstack.com/howto/seaborn/seaborn-plots-transparency/) & [SOURCE 03](https://stackoverflow.com/questions/54389331/adjust-different-transparency-for-different-class-in-seaborn-scatter-plot)"
   ]
  },
  {
   "cell_type": "code",
   "execution_count": null,
   "metadata": {
    "colab": {
     "base_uri": "https://localhost:8080/",
     "height": 297
    },
    "id": "l2xoX9nvZxlh",
    "outputId": "9cbf31bf-2056-4044-cb8d-9ad7b5906c55"
   },
   "outputs": [],
   "source": []
  },
  {
   "cell_type": "markdown",
   "metadata": {
    "id": "oLhHbk7A_cHu"
   },
   "source": [
    "## <p style=\"background-color:#9d4f8c; font-family:newtimeroman; color:#FFF9ED; font-size:150%; text-align:center; border-radius:10px 10px;\">EXPORTING (save) A SEABORN FIGURE</p>\n",
    "\n",
    "<a id=\"4\"></a>\n",
    "<a href=\"#toc\" class=\"btn btn-primary btn-sm\" role=\"button\" aria-pressed=\"true\" \n",
    "style=\"color:blue; background-color:#dfa8e4\" data-toggle=\"popover\">Content</a>"
   ]
  },
  {
   "cell_type": "code",
   "execution_count": null,
   "metadata": {
    "colab": {
     "base_uri": "https://localhost:8080/",
     "height": 467
    },
    "id": "ALrJgPmxZxi5",
    "outputId": "b912a770-95ee-4238-cbed-1f8bf7cf951b"
   },
   "outputs": [],
   "source": []
  },
  {
   "cell_type": "markdown",
   "metadata": {
    "id": "ALzHflEgccX4"
   },
   "source": [
    "![image.png](attachment:image.png)\n",
    "\n",
    "[VIDEO SOURCE](https://www.youtube.com/watch?v=S12WV-NoCNQ)"
   ]
  },
  {
   "cell_type": "markdown",
   "metadata": {
    "id": "e-wAzklS_cHv"
   },
   "source": [
    "## <p style=\"background-color:#9d4f8c; font-family:newtimeroman; color:#FFF9ED; font-size:150%; text-align:center; border-radius:10px 10px;\">RUGPLOT</p>\n",
    "\n",
    "<a id=\"5\"></a>\n",
    "<a href=\"#toc\" class=\"btn btn-primary btn-sm\" role=\"button\" aria-pressed=\"true\" \n",
    "style=\"color:blue; background-color:#dfa8e4\" data-toggle=\"popover\">Content</a>\n",
    "\n",
    "A rugplot is a graph that places a dash horizontally with each occurrence of an item in a dataset. Areas where there is great occurrence of an item see a greater density of these dashes. Areas where there is little occurrence of an item see just occasional dashes. This is the essence of a rugplot.<br>\n",
    "Seaborn already has built-in data sets. A rug plot is a plot of data for a single quantitative variable, displayed as marks along an axis. Rug plots are often used in combination with two-dimensional scatter plots by placing a rug plot of the x values of the data along the x-axis, and similarly for the y values.\n",
    "\n",
    "Plot marginal distributions by drawing ticks along the x and y axes.\n",
    "\n",
    "This function is intended to complement other plots by showing the location of individual observations in an unobstrusive way.\n",
    "\n",
    "[SOURCE 01](https://seaborn.pydata.org/generated/seaborn.rugplot.html) & [SOURCE 02](http://www.learningaboutelectronics.com/Articles/How-to-create-a-rugplot-in-seaborn-with-Python.php)"
   ]
  },
  {
   "cell_type": "code",
   "execution_count": null,
   "metadata": {
    "colab": {
     "base_uri": "https://localhost:8080/",
     "height": 301
    },
    "id": "Gjt1dlGcLGpR",
    "outputId": "c0a73d04-33d1-433c-ff2c-c1399d2cb142"
   },
   "outputs": [],
   "source": []
  },
  {
   "cell_type": "code",
   "execution_count": null,
   "metadata": {
    "id": "jU1B54OX_cHw",
    "outputId": "6c46b27f-31af-4e75-c048-72cb8ed289e9"
   },
   "outputs": [],
   "source": []
  },
  {
   "cell_type": "markdown",
   "metadata": {
    "id": "L1O6SgXmdQG-"
   },
   "source": [
    "## <p style=\"background-color:#9d4f8c; font-family:newtimeroman; color:#FFF9ED; font-size:150%; text-align:center; border-radius:10px 10px;\">DISPLOT & HISTPLOT</p>\n",
    "\n",
    "<a id=\"6\"></a>\n",
    "<a href=\"#toc\" class=\"btn btn-primary btn-sm\" role=\"button\" aria-pressed=\"true\" \n",
    "style=\"color:blue; background-color:#dfa8e4\" data-toggle=\"popover\">Content</a>\n",
    "\n",
    "The rugplot itself is not very informative for larger data sets distribution around the mean since so many ticks makes it hard to distinguish one tick from another. Instead we should count the number of tick marks per some segment of the x axis, then construct a histogram from this.\n",
    "\n",
    "**What is Distplot in Seaborn?**\n",
    "\n",
    "A Distplot or distribution plot, depicts the variation in the data distribution. Seaborn Distplot represents the overall distribution of continuous data variables. The Seaborn module along with the Matplotlib module is used to depict the distplot with different variations in it.\n",
    "\n",
    "**Warning**\n",
    "\n",
    "This function (Distplot) is deprecated and will be removed in a future version. Please adapt your code to use one of two new functions:\n",
    "\n",
    "**displot(),** a figure-level function with a similar flexibility over the kind of plot to draw\n",
    "\n",
    "**histplot(),** an axes-level function for plotting histograms, including with kernel density smoothing\n",
    "\n",
    "Plot univariate or bivariate histograms to show distributions of datasets.\n",
    "\n",
    "A histogram is a classic visualization tool that represents the distribution of one or more variables by counting the number of observations that fall within disrete bins.\n",
    "\n",
    "This function can normalize the statistic computed within each bin to estimate frequency, density or probability mass, and it can add a smooth curve obtained using a kernel density estimate, similar to kdeplot().\n",
    "\n",
    "The displot is a plot type that can show you the distribution of a single feature. It is a histogram with the option of adding a \"KDE\" plot (Kernel Density Estimation) on top of the histogram. Let's explore its use cases and syntax.\n",
    "\n",
    "[SOURCE 01](https://seaborn.pydata.org/generated/seaborn.displot.html#seaborn.displot), [SOURCE 02](https://www.geeksforgeeks.org/how-to-make-histograms-with-density-plots-with-seaborn-histplot/) & [SOURCE 03](https://seaborn.pydata.org/generated/seaborn.histplot.html)"
   ]
  },
  {
   "cell_type": "markdown",
   "metadata": {
    "id": "d34VWgMLdkrO"
   },
   "source": [
    "## <p style=\"background-color:#9d4f8c; font-family:newtimeroman; color:#FFF9ED; font-size:150%; text-align:center; border-radius:10px 10px;\">DISPLOT</p>\n",
    "\n",
    "<a id=\"7\"></a>\n",
    "<a href=\"#toc\" class=\"btn btn-primary btn-sm\" role=\"button\" aria-pressed=\"true\" \n",
    "style=\"color:blue; background-color:#dfa8e4\" data-toggle=\"popover\">Content</a>"
   ]
  },
  {
   "cell_type": "code",
   "execution_count": null,
   "metadata": {
    "colab": {
     "base_uri": "https://localhost:8080/",
     "height": 386
    },
    "id": "7GEA7XkCLRUR",
    "outputId": "b07c5f48-6255-4f18-e49e-0b24dec8d0e5"
   },
   "outputs": [],
   "source": []
  },
  {
   "cell_type": "code",
   "execution_count": null,
   "metadata": {
    "colab": {
     "base_uri": "https://localhost:8080/",
     "height": 386
    },
    "id": "nkQlHCljdjXL",
    "outputId": "1f49b874-fa80-4550-8a6e-eb15b223e80d"
   },
   "outputs": [],
   "source": []
  },
  {
   "cell_type": "markdown",
   "metadata": {
    "id": "gfsrBjfHdtqX"
   },
   "source": [
    "## <p style=\"background-color:#9d4f8c; font-family:newtimeroman; color:#FFF9ED; font-size:150%; text-align:center; border-radius:10px 10px;\">HISTPLOT</p>\n",
    "\n",
    "<a id=\"8\"></a>\n",
    "<a href=\"#toc\" class=\"btn btn-primary btn-sm\" role=\"button\" aria-pressed=\"true\" \n",
    "style=\"color:blue; background-color:#dfa8e4\" data-toggle=\"popover\">Content</a>"
   ]
  },
  {
   "cell_type": "code",
   "execution_count": null,
   "metadata": {
    "colab": {
     "base_uri": "https://localhost:8080/",
     "height": 300
    },
    "id": "pi-6G1_-d46q",
    "outputId": "ee5eb133-d8d0-4204-ca61-fc9aaaafd265"
   },
   "outputs": [],
   "source": []
  },
  {
   "cell_type": "code",
   "execution_count": null,
   "metadata": {
    "colab": {
     "base_uri": "https://localhost:8080/",
     "height": 300
    },
    "id": "n3bryUpyd4MW",
    "outputId": "491b161f-d48d-4751-80a7-0216dd386b7b"
   },
   "outputs": [],
   "source": []
  },
  {
   "cell_type": "code",
   "execution_count": null,
   "metadata": {},
   "outputs": [],
   "source": []
  },
  {
   "cell_type": "code",
   "execution_count": null,
   "metadata": {},
   "outputs": [],
   "source": []
  },
  {
   "cell_type": "markdown",
   "metadata": {
    "id": "J-3bZmv0_cHz"
   },
   "source": [
    "### <p style=\"background-color:#9d4f8c; font-family:newtimeroman; color:#FFF9ED; font-size:150%; text-align:left; border-radius:10px 10px;\">The Number of Bins in Histogram</p>\n",
    "\n",
    "<a id=\"8.1\"></a>\n",
    "<a href=\"#toc\" class=\"btn btn-primary btn-sm\" role=\"button\" aria-pressed=\"true\" \n",
    "style=\"color:blue; background-color:#dfa8e4\" data-toggle=\"popover\">Content</a>"
   ]
  },
  {
   "cell_type": "code",
   "execution_count": null,
   "metadata": {
    "colab": {
     "base_uri": "https://localhost:8080/",
     "height": 297
    },
    "id": "CwosmM1yd4KH",
    "outputId": "86f3cdbf-1053-4334-f48e-313ee494fe17",
    "scrolled": false
   },
   "outputs": [],
   "source": []
  },
  {
   "cell_type": "code",
   "execution_count": null,
   "metadata": {
    "colab": {
     "base_uri": "https://localhost:8080/",
     "height": 297
    },
    "id": "C9k-vklaebw6",
    "outputId": "ec69cee8-7793-4d2b-e217-30c8619bda8b"
   },
   "outputs": [],
   "source": []
  },
  {
   "cell_type": "code",
   "execution_count": null,
   "metadata": {
    "colab": {
     "base_uri": "https://localhost:8080/",
     "height": 297
    },
    "id": "TugWRowpd4Hx",
    "outputId": "acc9a31b-d67b-4094-e0ae-703fb8cfdba7"
   },
   "outputs": [],
   "source": []
  },
  {
   "cell_type": "markdown",
   "metadata": {
    "id": "s-eY2aMQe0Kv"
   },
   "source": [
    "### <p style=\"background-color:#9d4f8c; font-family:newtimeroman; color:#FFF9ED; font-size:150%; text-align:left; border-radius:10px 10px;\">Adding in a Grid & Styles</p>\n",
    "\n",
    "<a id=\"8.2\"></a>\n",
    "<a href=\"#toc\" class=\"btn btn-primary btn-sm\" role=\"button\" aria-pressed=\"true\" \n",
    "style=\"color:blue; background-color:#dfa8e4\" data-toggle=\"popover\">Content</a>\n",
    "\n",
    "sns.set() You can also customize seaborn theme or use one of six variations of the default theme. Which are called deep, muted, pastel, bright, dark, and colorblind.\n",
    "\n",
    "You can reset to a different default style: one of {darkgrid, whitegrid, dark, white, ticks}.\n",
    "\n",
    "In a later notebook and lecture we will cover custom styling in a lot more detail.\n",
    "\n",
    "[SOURCE](https://towardsdatascience.com/matplotlib-seaborn-basics-2bd7b66dbee2)"
   ]
  },
  {
   "cell_type": "code",
   "execution_count": null,
   "metadata": {
    "colab": {
     "base_uri": "https://localhost:8080/",
     "height": 302
    },
    "id": "0JvuJEqld4FS",
    "outputId": "39e92d88-f92e-4e3a-d9a5-8bde1914e863"
   },
   "outputs": [],
   "source": []
  },
  {
   "cell_type": "code",
   "execution_count": null,
   "metadata": {
    "colab": {
     "base_uri": "https://localhost:8080/",
     "height": 302
    },
    "id": "lzyQVmddd4Cj",
    "outputId": "ad0b5162-7ee5-4cff-88a0-873e5be47f54"
   },
   "outputs": [],
   "source": []
  },
  {
   "cell_type": "markdown",
   "metadata": {
    "id": "5bnppctTfmqY"
   },
   "source": [
    "### <p style=\"background-color:#9d4f8c; font-family:newtimeroman; color:#FFF9ED; font-size:150%; text-align:left; border-radius:10px 10px;\">Adding in Keywords from Matplotlib</p>\n",
    "\n",
    "<a id=\"8.3\"></a>\n",
    "<a href=\"#toc\" class=\"btn btn-primary btn-sm\" role=\"button\" aria-pressed=\"true\" \n",
    "style=\"color:blue; background-color:#dfa8e4\" data-toggle=\"popover\">Content</a>\n",
    "\n",
    "Seaborn plots can accept keyword arguments directly from the matplotlib code that seaborn uses. Keep in mind, not every seaborn plot can accept all matplotlib arguments, but the main styling parameters we've discussed are available. "
   ]
  },
  {
   "cell_type": "code",
   "execution_count": null,
   "metadata": {
    "colab": {
     "base_uri": "https://localhost:8080/",
     "height": 382
    },
    "id": "2g_mILQOd3_f",
    "outputId": "659f2560-6230-4219-a7ea-04dcab725b0f"
   },
   "outputs": [],
   "source": []
  },
  {
   "cell_type": "code",
   "execution_count": null,
   "metadata": {},
   "outputs": [],
   "source": []
  },
  {
   "cell_type": "markdown",
   "metadata": {
    "id": "ovsTfckGfxmy"
   },
   "source": [
    "## <p style=\"background-color:#9d4f8c; font-family:newtimeroman; color:#FFF9ED; font-size:150%; text-align:center; border-radius:10px 10px;\">THE KERNEL DENSITY ESTIMATION (KDE) PLOT</p>\n",
    "\n",
    "<a id=\"9\"></a>\n",
    "<a href=\"#toc\" class=\"btn btn-primary btn-sm\" role=\"button\" aria-pressed=\"true\" \n",
    "style=\"color:blue; background-color:#dfa8e4\" data-toggle=\"popover\">Content</a>\n",
    "\n",
    "A kernel density estimate (KDE) plot is a method for visualizing the distribution of observations in a dataset, analagous to a histogram. KDE represents the data using a continuous probability density curve in one or more dimensions. The approach is explained further in the user guide.\n",
    "\n",
    "The KDE plot maps an estimate of a probability *density* function of a random variable. Kernel density estimation is a fundamental data smoothing problem where inferences about the population are made, based on a finite data sample.\n",
    "\n",
    "[SOURCE](https://seaborn.pydata.org/generated/seaborn.kdeplot.html#:~:text=A%20kernel%20density%20estimate%20(KDE,further%20in%20the%20user%20guide.)\n",
    "\n",
    "**How does a Kernel Density Estimation work?**\n",
    "\n",
    "The Kernel Density Estimation works by plotting out the data and beginning to create a curve of the distribution. The curve is calculated by weighing the distance of all the points in each specific location along the distribution. If there are more points grouped locally, the estimation is higher as the probability of seeing a point at that location increases. The kernel function is the specific mechanism used to weigh the points across the data set. The bandwidth of the kernel changes its shape. A lower bandwidth limits the scope of the function and leads to the estimate curve looking rough and jagged. By tweaking the parameters of the kernel function (bandwidth and amplitude), one changes the size and shape of the estimate.\n",
    "\n",
    "[SOURCE](https://deepai.org/machine-learning-glossary-and-terms/kernel-density-estimation)"
   ]
  },
  {
   "cell_type": "code",
   "execution_count": null,
   "metadata": {
    "colab": {
     "base_uri": "https://localhost:8080/",
     "height": 302
    },
    "id": "yEog1-vxUupp",
    "outputId": "a03235bc-6854-46d7-a593-fa00c7314da1"
   },
   "outputs": [],
   "source": []
  },
  {
   "cell_type": "markdown",
   "metadata": {
    "id": "-f04MB3uf8cy"
   },
   "source": [
    "### <p style=\"background-color:#9d4f8c; font-family:newtimeroman; color:#FFF9ED; font-size:150%; text-align:left; border-radius:10px 10px;\">Cut Off KDE</p>\n",
    "\n",
    "<a id=\"9.1\"></a>\n",
    "<a href=\"#toc\" class=\"btn btn-primary btn-sm\" role=\"button\" aria-pressed=\"true\" \n",
    "style=\"color:blue; background-color:#dfa8e4\" data-toggle=\"popover\">Content</a>\n",
    "\n",
    "We could cut off the KDE if we know our data has hard limits (no one can be a negative age and no one in the population can be older than 100 for some reason)\n",
    "\n",
    "For more intiutive knowledge, dive into the discussion at stackoverflow:\n",
    "\n",
    "[SOURCE 01](https://stackoverflow.com/questions/45911709/limit-the-range-of-x-in-seaborn-distplot-kde-estimation), [SOURCE 02](http://man.hubwiz.com/docset/Seaborn.docset/Contents/Resources/Documents/generated/seaborn.kdeplot.html) & [SOURCE 03](https://towardsdatascience.com/all-you-need-to-know-about-seaborn-6678a02f31ff)"
   ]
  },
  {
   "cell_type": "code",
   "execution_count": null,
   "metadata": {
    "colab": {
     "base_uri": "https://localhost:8080/",
     "height": 302
    },
    "id": "yFNxnKbdUwXZ",
    "outputId": "6b8ca6d7-7d1a-4c55-f899-a2b4756dec6e"
   },
   "outputs": [],
   "source": []
  },
  {
   "cell_type": "markdown",
   "metadata": {
    "id": "pXpUPTJEgHqB"
   },
   "source": [
    "### <p style=\"background-color:#9d4f8c; font-family:newtimeroman; color:#FFF9ED; font-size:150%; text-align:left; border-radius:10px 10px;\">Bandwidth</p>\n",
    "\n",
    "<a id=\"9.2\"></a>\n",
    "<a href=\"#toc\" class=\"btn btn-primary btn-sm\" role=\"button\" aria-pressed=\"true\" \n",
    "style=\"color:blue; background-color:#dfa8e4\" data-toggle=\"popover\">Content</a>\n",
    "\n",
    "the KDE is constructed through the summation of the kernel (most commonly Gaussian), we can effect the bandwith of this kernel **to make the KDE more \"sensitive\" to the data.** Notice how with a smaller bandwith, the kernels don't stretch so wide, meaning we don't need the cut-off anymore. This is analagous to increasing the number of bins in a histogram (making the actual bins narrower).\n",
    "\n",
    "In statistics, Kernel Density Estimation is a non-parametric technique that calculates and plots the probability distribution(the probability density) of a continuous random variable. i.e., The calculation does not assume the underlying data to be following the assumptions of a normal distribution or any distribution.\n",
    "In simple terms, Kernel Density Estimate is like a smoothened counterpart of a histogram without the line of histogram intervals and their end-points.\n",
    "\n",
    "Such a smoothened curve for the probability density of a given data is obtained by drawing individual estimates for the data points and summing them up to produce the final contour.\n",
    "The bandwidth 'h' used in the estimation plays a role in the level of smoothness of the estimated curve. The lower the 'h' - more closer to the data and more spiky the curve is. When the value of 'h' is higher the resultant curve is over smoothend.\n",
    "\n",
    "[SOURCE 01](https://pythontic.com/visualization/seaborn/kdeplot) & [SOURCE 01](https://www.youtube.com/watch?v=DCgPRaIDYXA)"
   ]
  },
  {
   "cell_type": "code",
   "execution_count": null,
   "metadata": {
    "id": "rRI8AEsq_cH4",
    "outputId": "52723d35-e77e-4e13-f566-4b11c8598677"
   },
   "outputs": [],
   "source": []
  },
  {
   "cell_type": "code",
   "execution_count": null,
   "metadata": {
    "colab": {
     "base_uri": "https://localhost:8080/",
     "height": 302
    },
    "id": "sxef-6JAgAnQ",
    "outputId": "57f6be1c-df0a-479d-d5f4-765ebcf1e36e"
   },
   "outputs": [],
   "source": []
  },
  {
   "cell_type": "code",
   "execution_count": null,
   "metadata": {
    "colab": {
     "base_uri": "https://localhost:8080/",
     "height": 302
    },
    "id": "SyODVworgOzp",
    "outputId": "d760d898-2bcc-44fc-c2f2-c82da43ab4cb"
   },
   "outputs": [],
   "source": []
  },
  {
   "cell_type": "markdown",
   "metadata": {
    "id": "7CfTcVkS_cH5"
   },
   "source": [
    "An important parameter is the bandwidth: the smaller it is, the closer the curve fits to the data, the wider the better to indicate a general form.\n",
    "\n",
    "It seems seaborn and pandas are using a different approach to estimate a \"good\" bandwidth. With seaborn you could set a fixed bandwidth sns.kdeplot(..., bw=0.5) or so. Or seaborn.distplot(..., kde=True, kde_kws={'bw': 0.5}). With pandas df.plot.kde(bw_method=0.5, ...). Note that the \"perfect\" bandwidth doesn't exist, it depends on the data, the number of samples and about what you already know about the underlying distribution. The default seaborn and pandas choose is just a rule of thumb, that might be useful or not for your data. Future versions will probably use different rules of thumb.\n",
    "\n",
    "[SOURCE](https://stackoverflow.com/questions/62176879/why-are-pandas-and-seaborn-producing-different-kde-plot-for-same-data)"
   ]
  },
  {
   "cell_type": "code",
   "execution_count": null,
   "metadata": {
    "colab": {
     "base_uri": "https://localhost:8080/",
     "height": 302
    },
    "id": "jTmwgtWtgaA5",
    "outputId": "b4fd572a-26dc-4121-f43d-4c1c3b4b8063"
   },
   "outputs": [],
   "source": []
  },
  {
   "cell_type": "markdown",
   "metadata": {
    "id": "4yleQc3sgr0_"
   },
   "source": [
    "## <p style=\"background-color:#9d4f8c; font-family:newtimeroman; color:#FFF9ED; font-size:150%; text-align:CENTER; border-radius:10px 10px;\">2-DIMENSIONAL KDE PLOTS</p>\n",
    "\n",
    "<a id=\"10\"></a>\n",
    "<a href=\"#toc\" class=\"btn btn-primary btn-sm\" role=\"button\" aria-pressed=\"true\" \n",
    "style=\"color:blue; background-color:#dfa8e4\" data-toggle=\"popover\">Content</a>\n",
    "\n",
    "We will cover these in more detail later, but just keep in mind you could compare two continuous features and create a 2d KDE plot showing there distributions with the same kdeplot() call. Don't worry about this now, since we will cover it in more detail later when we talk about comparing 2 features against each other in a plot call.\n",
    "\n",
    "[SOURCE 01](https://seaborn.pydata.org/tutorial/distributions.html) & [SOURCE 02](https://benalexkeen.com/kde-and-violin-plots-using-seaborn/)"
   ]
  },
  {
   "cell_type": "markdown",
   "metadata": {
    "id": "qKNtz6Z5_cH6"
   },
   "source": [
    "**numpy.random.normal()**\n",
    "\n",
    "The NumPy random normal function enables you to create a NumPy array that contains normally distributed data. Normally distributed data is shaped sort of like a bell, so it's often called the “bell curve.”\n",
    "\n",
    "[SOURCE 01](https://numpy.org/doc/stable/reference/random/generated/numpy.random.normal.html) & [SOURCE 01](https://www.sharpsightlabs.com/blog/numpy-random-normal/)"
   ]
  },
  {
   "cell_type": "code",
   "execution_count": null,
   "metadata": {
    "colab": {
     "base_uri": "https://localhost:8080/",
     "height": 417
    },
    "id": "YYP8hFYHglgQ",
    "outputId": "2d363422-6193-40ad-d872-fbbbb7bff66b",
    "scrolled": false
   },
   "outputs": [],
   "source": []
  },
  {
   "cell_type": "code",
   "execution_count": null,
   "metadata": {
    "id": "yT8f8DsJ_cH8",
    "outputId": "ebd22e4f-d695-4253-deff-db96f4960955"
   },
   "outputs": [],
   "source": []
  },
  {
   "cell_type": "code",
   "execution_count": null,
   "metadata": {
    "id": "Ep-POsLY_cH8",
    "outputId": "beda439b-a6b9-46eb-95b4-d5025a8b5f0d"
   },
   "outputs": [],
   "source": []
  },
  {
   "cell_type": "code",
   "execution_count": null,
   "metadata": {
    "colab": {
     "base_uri": "https://localhost:8080/",
     "height": 305
    },
    "id": "sNVVbAbRg6Lo",
    "outputId": "4f8fc997-7fa9-49de-f47f-dd9f6e8706ba"
   },
   "outputs": [],
   "source": []
  },
  {
   "cell_type": "code",
   "execution_count": null,
   "metadata": {},
   "outputs": [],
   "source": []
  },
  {
   "cell_type": "code",
   "execution_count": null,
   "metadata": {},
   "outputs": [],
   "source": []
  },
  {
   "cell_type": "markdown",
   "metadata": {
    "id": "DA5jOrjShjWI"
   },
   "source": [
    "## <p style=\"background-color:#9d4f8c; font-family:newtimeroman; color:#FFF9ED; font-size:150%; text-align:center; border-radius:10px 10px;\">BONUS CODE FOR VISUALIZATIONS</p>\n",
    "\n",
    "<a id=\"11\"></a>\n",
    "<a href=\"#toc\" class=\"btn btn-primary btn-sm\" role=\"button\" aria-pressed=\"true\" \n",
    "style=\"color:blue; background-color:#dfa8e4\" data-toggle=\"popover\">Content</a>\n",
    "\n",
    "Below is the code used to create the visualizations shown in the video lecture for an explanation of a KDE plot. We will not cover this code in further detail, since it was only used for the creation of the slides shown in the video."
   ]
  },
  {
   "cell_type": "code",
   "execution_count": 3,
   "metadata": {
    "id": "z5wj9ReDhYfJ"
   },
   "outputs": [],
   "source": [
    "np.random.seed(101)\n",
    "\n",
    "x = np.random.normal(0, 1, size=20)"
   ]
  },
  {
   "cell_type": "markdown",
   "metadata": {
    "id": "qmxNMtR4_cH-"
   },
   "source": [
    "#### <p style=\"background-color:#9d4f8c; font-family:newtimeroman; color:#FFF9ED; font-size:150%; text-align:left; border-radius:10px 10px;\">What is dpi in Figure?</p>\n",
    "\n",
    "<a id=\"11.1\"></a>\n",
    "<a href=\"#toc\" class=\"btn btn-primary btn-sm\" role=\"button\" aria-pressed=\"true\" \n",
    "style=\"color:blue; background-color:#dfa8e4\" data-toggle=\"popover\">Content</a>\n",
    "\n",
    "Dots per inches (dpi) determines how many pixels the figure comprises. "
   ]
  },
  {
   "cell_type": "code",
   "execution_count": null,
   "metadata": {
    "colab": {
     "base_uri": "https://localhost:8080/",
     "height": 362
    },
    "id": "1sFc73W8h0ww",
    "outputId": "e5cb02d9-622c-49e9-ca6b-c7630eea7f8a"
   },
   "outputs": [],
   "source": []
  },
  {
   "cell_type": "code",
   "execution_count": 4,
   "metadata": {
    "colab": {
     "base_uri": "https://localhost:8080/",
     "height": 358
    },
    "id": "05XDAUS6h2QA",
    "outputId": "e25e0d17-9332-453f-953c-6a3759c3c537",
    "scrolled": false
   },
   "outputs": [
    {
     "data": {
      "text/plain": [
       "<Figure size 1600x800 with 0 Axes>"
      ]
     },
     "metadata": {},
     "output_type": "display_data"
    },
    {
     "data": {
      "image/png": "[encoded data removed]",
      "text/plain": [
       "<Figure size 864x432 with 1 Axes>"
      ]
     },
     "metadata": {
      "needs_background": "light"
     },
     "output_type": "display_data"
    }
   ],
   "source": [
    "from scipy import stats\n",
    "\n",
    "plt.figure(figsize=(8, 4), dpi=200)\n",
    "\n",
    "bandwidth = x.std() * x.size ** (-0.001)\n",
    "support = np.linspace(-5, 5, 100)\n",
    "\n",
    "kernels = []\n",
    "\n",
    "plt.figure(figsize=(12 ,6))\n",
    "\n",
    "for x_i in x:\n",
    "\n",
    "    kernel = stats.norm(x_i, bandwidth).pdf(support)\n",
    "    kernels.append(kernel)\n",
    "    plt.plot(support, kernel, color=\"lightblue\")\n",
    "\n",
    "sns.rugplot(x, color=\"darkblue\", linewidth=4);"
   ]
  },
  {
   "cell_type": "markdown",
   "metadata": {
    "id": "ZmDtLunJ_cH_"
   },
   "source": [
    "**Probability density function (PDF)** is a statistical expression that defines a probability distribution (the likelihood of an outcome) for a discrete random variable (e.g., a stock or ETF) as opposed to a continuous random variable."
   ]
  },
  {
   "cell_type": "code",
   "execution_count": 5,
   "metadata": {
    "colab": {
     "base_uri": "https://localhost:8080/",
     "height": 375
    },
    "id": "cZ0rgdGwh4Gv",
    "outputId": "4dd130fa-940e-463c-cc8f-8013d13b6f4a",
    "scrolled": false
   },
   "outputs": [
    {
     "data": {
      "text/plain": [
       "<Figure size 1600x800 with 0 Axes>"
      ]
     },
     "metadata": {},
     "output_type": "display_data"
    },
    {
     "data": {
      "image/png": "[encoded data removed]",
      "text/plain": [
       "<Figure size 864x432 with 1 Axes>"
      ]
     },
     "metadata": {
      "needs_background": "light"
     },
     "output_type": "display_data"
    }
   ],
   "source": [
    "plt.figure(figsize=(8, 4), dpi=200)\n",
    "\n",
    "from scipy.integrate import trapz\n",
    "\n",
    "plt.figure(figsize=(12, 6))\n",
    "\n",
    "density = np.sum(kernels, axis=0)\n",
    "density /= trapz(density, support)\n",
    "\n",
    "plt.plot(support, density);\n",
    "sns.rugplot(x, color=\"darkblue\", linewidth=4);"
   ]
  },
  {
   "cell_type": "markdown",
   "metadata": {
    "id": "aK0d9bGB_cIA"
   },
   "source": [
    "**numpy.trapz(y, x=None, dx=1.0, axis=- 1)** integrates along the given axis using the composite trapezoidal rule.\n",
    "\n",
    "trapz computes the approximation of a definite by the trapezoid rule. trapz returns the approximation of the integral using the trapezoid rule.\n",
    "\n",
    "[SOURCE](https://numpy.org/doc/stable/reference/generated/numpy.trapz.html)"
   ]
  },
  {
   "cell_type": "code",
   "execution_count": 6,
   "metadata": {
    "colab": {
     "base_uri": "https://localhost:8080/",
     "height": 367
    },
    "id": "k9ok-Rl_h_sg",
    "outputId": "17533670-420b-4247-b2ba-3e6d1efe0ad8"
   },
   "outputs": [
    {
     "data": {
      "text/plain": [
       "<Figure size 1600x800 with 0 Axes>"
      ]
     },
     "metadata": {},
     "output_type": "display_data"
    },
    {
     "data": {
      "image/png": "[encoded data removed]",
      "text/plain": [
       "<Figure size 864x432 with 1 Axes>"
      ]
     },
     "metadata": {
      "needs_background": "light"
     },
     "output_type": "display_data"
    }
   ],
   "source": [
    "plt.figure(figsize=(8, 4), dpi=200)\n",
    "\n",
    "bandwidth = x.std() * x.size ** (-0.001)\n",
    "support = np.linspace(-5, 5, 100)\n",
    "\n",
    "kernels = []\n",
    "\n",
    "plt.figure(figsize=(12, 6))\n",
    "\n",
    "for x_i in x:\n",
    "    kernel = stats.norm(x_i, bandwidth).pdf(support)\n",
    "    kernels.append(kernel)\n",
    "#     plt.plot(support, kernel, color=\"lightblue\")\n",
    "\n",
    "# sns.rugplot(x, color=\"darkblue\", linewidth=4)\n",
    "sns.kdeplot(x,linewidth=6,shade=True);"
   ]
  },
  {
   "cell_type": "markdown",
   "metadata": {
    "id": "KVSHyPIX_cIB"
   },
   "source": [
    "### Why Do We Need Data Visualization & EDA?\n",
    "- Displaying statistical summaries\n",
    "- Gaining mor info while interpreting the data.\n",
    "- Identifying Patterns and Clusters.\n",
    "- You will mostly be expected to make decision or interpretations before diving into the model. Even if you do, you are required to capture some patterns before modelling. \n",
    "- EDA processing is critical in this case. It is critical to capture hidden and/or underlying patterns.\n",
    "- Presenting results\n",
    "- Before diving into the model, Visualization is crutial to present and percieve patterns.\n",
    "- Visualization is necessary to make the data talk to us and/or audiences. A picture is worth a thousand words. \n",
    "- It is necessary to evaluate the Model Performance.\n",
    "- EDA processing consists of most part of the data handling; on the other hand, modeling only takes 10-15% of the time.\n",
    "- The data needs to dance with the graphics/figures to reveal the underlying patterns. Or you will be got stuck with data.\n",
    "- The visualization can be obtained using Matplotlib, Seaborn and Pandas. Matplotlib is the basis of these three.\n",
    "- Seaborn: I say Statisksel says at the beginning. I use matplotlibi as a sub-structure. and a super product cikmis\n",
    "- Pandas is easy for visualization so it can firstly be prefered to visualize the data.\n",
    "- At Seaborn the great graphics can be created.\n",
    "- Matplotlib can customize the data in detail but it is complicated and cumbersome to use. On the other hand Seaborn easily uses DEFAULT values for visualization. Seaborn is also focused on statistics.\n",
    "- Using df is necessary to to make visualization at Pandas.\n",
    "- Ci: A confidence interval displays the probability (default or common/conventional usage 95%) that a parameter will fall between a pair of values around the mean .  would like to mean water overalls. You can obtain this at Seaborn.\n",
    "- KDE: Kernel Density Estimation (KDE) is a non-parametric way to estimate the probability density function of a random variable.\n",
    "- Seaborn also adds these additional features into graphs by means of parameters easily. Moreover while using Seaborn for visualization you can easily reach the statistical summaries of mean, sd, variance etc. This gives us an analytical capacity to analyze the data and more flexiabilty than the other libraries do.\n",
    "- At Seaborn you can also get the std at the bars.\n",
    "- At your studies the order may be using 1) Seaborn, 2) Pandas and 3) matplotlip, respectively. Nevertheless, those all are necessary to combine the options of visualization for getting a better Data Analyst/Scientist.\n",
    "- If you know Statistics, making the statistical graphics is crucial to percieve underlying patterns of the data in EDA processing.\n",
    "- To sum up, it is necessary to know all of them."
   ]
  },
  {
   "cell_type": "markdown",
   "metadata": {
    "id": "Uf4OsX94_cIB"
   },
   "source": [
    "## <p style=\"background-color:#9d4f8c; font-family:newtimeroman; color:#FFF9ED; font-size:150%; text-align:center; border-radius:10px 10px;\">THE END OF THE SEABORN SESSION 01</p>\n",
    "\n",
    "<a id=\"12\"></a>\n",
    "<a href=\"#toc\" class=\"btn btn-primary btn-sm\" role=\"button\" aria-pressed=\"true\" \n",
    "style=\"color:blue; background-color:#dfa8e4\" data-toggle=\"popover\">Content</a>"
   ]
  },
  {
   "cell_type": "markdown",
   "metadata": {
    "id": "bdr4766hiDQo"
   },
   "source": [
    "___\n",
    "\n",
    "<p style=\"text-align: center;\"><img src=\"https://docs.google.com/uc?id=1lY0Uj5R04yMY3-ZppPWxqCr5pvBLYPnV\" class=\"img-fluid\" \n",
    "alt=\"CLRSWY\"></p>\n",
    "\n",
    "## <p style=\"background-color:#FDFEFE; font-family:newtimeroman; color:#9d4f8c; font-size:100%; text-align:center; border-radius:10px 10px;\">WAY TO REINVENT YOURSELF</p>\n",
    "___"
   ]
  }
 ],
 "metadata": {
  "colab": {
   "name": "3-DVwPy_S1_Seaborn.ipynb",
   "provenance": []
  },
  "kernelspec": {
   "display_name": "Python 3 (ipykernel)",
   "language": "python",
   "name": "python3"
  },
  "language_info": {
   "codemirror_mode": {
    "name": "ipython",
    "version": 3
   },
   "file_extension": ".py",
   "mimetype": "text/x-python",
   "name": "python",
   "nbconvert_exporter": "python",
   "pygments_lexer": "ipython3",
   "version": "3.9.7"
  },
  "toc": {
   "base_numbering": 1,
   "nav_menu": {},
   "number_sections": true,
   "sideBar": true,
   "skip_h1_title": false,
   "title_cell": "Table of Contents",
   "title_sidebar": "Contents",
   "toc_cell": false,
   "toc_position": {},
   "toc_section_display": true,
   "toc_window_display": false
  }
 },
 "nbformat": 4,
 "nbformat_minor": 1
}
