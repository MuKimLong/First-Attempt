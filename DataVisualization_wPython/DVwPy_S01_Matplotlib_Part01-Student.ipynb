{
 "cells": [
  {
   "cell_type": "markdown",
   "metadata": {
    "id": "G7QuT2utsGuT"
   },
   "source": [
    "___\n",
    "\n",
    "<p style=\"text-align: center;\"><img src=\"https://docs.google.com/uc?id=1lY0Uj5R04yMY3-ZppPWxqCr5pvBLYPnV\" class=\"img-fluid\" \n",
    "alt=\"CLRSWY\"></p>\n",
    "\n",
    "## <p style=\"background-color:#FDFEFE; font-family:newtimeroman; color:#9d4f8c; font-size:100%; text-align:center; border-radius:10px 10px;\">WAY TO REINVENT YOURSELF</p>"
   ]
  },
  {
   "cell_type": "markdown",
   "metadata": {
    "id": "TjYCZ_khsGua"
   },
   "source": [
    "![image.png](https://i.ibb.co/4gc0nbk/matplotlib.png)\n",
    "\n",
    "Matplotlib is a two-dimensional (2D) plotting library for Python. It was created by John D. Hunter, an American neurobiologist, and was first released in 2002. With Matplotlib, you can generate lines, scatter graphs, bar charts, histograms, error bars, etc, and even do simple 3D plots using the mplot3d toolkit. Matplotlib has a module called Pyplot, which provides an interface similar to MatLab.\n",
    "\n",
    "[MATPLOTLIB Source](https://medium.com/@developit19/matplotlib-python-651fd07e9234)"
   ]
  },
  {
   "cell_type": "markdown",
   "metadata": {
    "id": "N6bADU0ysGub"
   },
   "source": [
    "<a id=\"toc\"></a>\n",
    "\n",
    "## <p style=\"background-color:#9d4f8c; font-family:newtimeroman; color:#FFF9ED; font-size:150%; text-align:center; border-radius:10px 10px;\">CONTENT</p>\n",
    "\n",
    "* [DATA VISUALIZATION WITH MATPLOTLIB](#0)\n",
    "* [INSTALLING MATPLOTLIB LIBRARY TO LOCAL DIRECTORY](#1)\n",
    "* [IMPORTING LIBRARIES NEEDED IN THIS NOTEBOOK](#2)\n",
    "    * [What does matplotlib inline do?](#2.1)\n",
    "* [INTRODUCTION](#3)\n",
    "* [MATPLOTLIB BASICS](#4)\n",
    "* [LINEPLOTS (SERIES/DATAFRAMES)](#5) \n",
    "    * [What is a line plot and why use it?](#5.1)\n",
    "* [2 METHODS USED TO CREATE PLOTS IN MATPLOTLIB](#6)        \n",
    "* [FUNCTIONAL METHOD](#7)\n",
    "* [OBJECT-ORIENTED METHOD](#8)\n",
    "    * [Basic Graph](#8)\n",
    "    * [Multiple-Line in the Same Graph](#8.1)\n",
    "    * [Adding Axes](#8.2)\n",
    "    * [Subplot](#8.3)\n",
    "    * [Manual Spacing on Subplots()](#8.4)\n",
    "    * [How to Manipulate Figure Size?](#8.5)\n",
    "* [LINEWIDTH & LINESTYLES & MARKERS & MARKERSIZE & COLOR](#9)\n",
    "    * [Linewidth](#9)\n",
    "    * [LineStyles](#9.1)\n",
    "    * [Markers](#9.2)\n",
    "    * [Color](#9.3)\n",
    "    * [Legend](#9.4)\n",
    "    * [How to Plot Range & Add Extra Line](#9.5)\n",
    "    * [Some Additional Exercises](#9.6)\n",
    "* [OTHER PLOTS](#10)\n",
    "* [PANDAS](#11)\n",
    "* [THE END OF THE MATPLOTLIB SESSION 01](#12)    "
   ]
  },
  {
   "cell_type": "markdown",
   "metadata": {},
   "source": [
    "## <p style=\"background-color:#9d4f8c; font-family:newtimeroman; color:#FFF9ED; font-size:150%; text-align:center; border-radius:10px 10px;\">A Picture is Worth a Thousand Words</p>\n",
    "\n",
    "\"A picture is worth a thousand words\" is an adage in multiple languages meaning that complex and sometimes multiple ideas can be conveyed by a single still image, which conveys its meaning or essence more effectively than a mere verbal/written description.\n",
    "\n",
    "![image.png](https://i.ibb.co/YNrQDHr/oldman-baby.jpg)"
   ]
  },
  {
   "cell_type": "markdown",
   "metadata": {
    "id": "yqLjI2_eUmfZ"
   },
   "source": [
    "## <p style=\"background-color:#9d4f8c; font-family:newtimeroman; color:#FFF9ED; font-size:150%; text-align:center; border-radius:10px 10px;\">DATA VISUALIZATION WITH MATPLOTLIB</p>\n",
    "\n",
    "<a id=\"0\"></a>\n",
    "<a href=\"#toc\" class=\"btn btn-primary btn-sm\" role=\"button\" aria-pressed=\"true\" \n",
    "style=\"color:blue; background-color:#dfa8e4\" data-toggle=\"popover\">Content</a>\n",
    "\n",
    "## Objectives\n",
    "\n",
    "After completing this part of your Machine Learning (ML) course you will be able to:\n",
    "\n",
    "-   Create Data Visualization with Python\n",
    "-   Use various Python libraries for visualization\n",
    "    - Matplotlib\n",
    "    - Seaborn"
   ]
  },
  {
   "cell_type": "markdown",
   "metadata": {
    "id": "8faulAr2sGue"
   },
   "source": [
    "## <p style=\"background-color:#9d4f8c; font-family:newtimeroman; color:#FFF9ED; font-size:150%; text-align:center; border-radius:10px 10px;\">INSTALLING MATPLOTLIB LIBRARY TO LOCAL DIRECTORY</p>\n",
    "\n",
    "<a id=\"1\"></a>\n",
    "<a href=\"#toc\" class=\"btn btn-primary btn-sm\" role=\"button\" aria-pressed=\"true\" \n",
    "style=\"color:blue; background-color:#dfa8e4\" data-toggle=\"popover\">Content</a>\n",
    "\n",
    "[SOURCE](https://www.tutorialspoint.com/how-to-install-matplotlib-in-python)\n",
    "\n",
    "**To use matplotlib, we need to install it.**\n",
    "\n",
    "- Step 1 − Make sure Python and pip is preinstalled on your system\n",
    "\n",
    "Type the following commands in the command prompt to check is python and pip is installed on your system.\n",
    "\n",
    "**To check Python**\n",
    "\n",
    "- python --version\n",
    "\n",
    "If python is successfully installed, the version of python installed on your system will be displayed.\n",
    "\n",
    "**To check pip**\n",
    "\n",
    "- pip -V\n",
    "\n",
    "The version of pip will be displayed, if it is successfully installed on your system."
   ]
  },
  {
   "cell_type": "code",
   "execution_count": 1,
   "metadata": {},
   "outputs": [],
   "source": [
    "import pandas as pd   # DAwPy\n",
    "import numpy as np   # DAwPy\n",
    "\n",
    "import seaborn as sns   # Stats-1 & DAwPy\n",
    "from scipy import stats   # Stats-1 & DAwPy\n",
    "from scipy.stats import kurtosis, skew   # Stats-1 & DAwPy\n",
    "\n",
    "# plt.rcParams[\"figure.figsize\"] = (6,4)"
   ]
  },
  {
   "cell_type": "code",
   "execution_count": null,
   "metadata": {},
   "outputs": [],
   "source": [
    "from platform import python_version\n",
    "\n",
    "print(python_version())"
   ]
  },
  {
   "cell_type": "code",
   "execution_count": null,
   "metadata": {},
   "outputs": [],
   "source": [
    "!pip --version"
   ]
  },
  {
   "cell_type": "markdown",
   "metadata": {},
   "source": [
    "- Step 2 − Install Matplotlib\n",
    "\n",
    "Matplotlib can be installed using pip. The following command is run in the command prompt to install Matplotlib.\n",
    "\n",
    "- pip install matplotlib\n",
    "\n",
    "This command will start downloading and installing packages related to the matplotlib library. Once done, the message of successful installation will be displayed."
   ]
  },
  {
   "cell_type": "code",
   "execution_count": 301,
   "metadata": {
    "id": "exjg1cu4U-x_"
   },
   "outputs": [],
   "source": [
    "# !pip install matplotlib"
   ]
  },
  {
   "cell_type": "markdown",
   "metadata": {},
   "source": [
    "- Step 3 − Check if it is installed successfully\n",
    "\n",
    "To verify that matplotlib is successfully installed on your system, execute the following command in the command prompt. If matplotlib is successfully installed, the version of matplotlib installed will be displayed.\n",
    "\n",
    "- import matplotlib\n",
    "\n",
    "- matplotlib.__version__"
   ]
  },
  {
   "cell_type": "code",
   "execution_count": null,
   "metadata": {
    "colab": {
     "base_uri": "https://localhost:8080/"
    },
    "id": "7SyZDRZq_ziH",
    "outputId": "9ccc49dc-45a0-4f5c-9911-edb06bb2d491",
    "scrolled": true
   },
   "outputs": [],
   "source": [
    "import matplotlib\n",
    "print(matplotlib.__version__)"
   ]
  },
  {
   "cell_type": "markdown",
   "metadata": {
    "id": "dZjtXhFvsGuk"
   },
   "source": [
    "## <p style=\"background-color:#9d4f8c; font-family:newtimeroman; color:#FFF9ED; font-size:150%; text-align:center; border-radius:10px 10px;\">IMPORTING LIBRARIES NEEDED IN THIS NOTEBOOK</p>\n",
    "\n",
    "<a id=\"2\"></a>\n",
    "<a href=\"#toc\" class=\"btn btn-primary btn-sm\" role=\"button\" aria-pressed=\"true\" \n",
    "style=\"color:blue; background-color:#dfa8e4\" data-toggle=\"popover\">Content</a>"
   ]
  },
  {
   "cell_type": "code",
   "execution_count": 5,
   "metadata": {
    "id": "-huz4SqU_ziE"
   },
   "outputs": [],
   "source": [
    "import pandas as pd   # DAwPy\n",
    "import numpy as np   # DAwPy\n",
    "\n",
    "import seaborn as sns   # Stats-1 & DAwPy\n",
    "from scipy import stats   # Stats-1 & DAwPy\n",
    "from scipy.stats import kurtosis, skew   # Stats-1 & DAwPy\n",
    "\n",
    "import matplotlib\n",
    "import matplotlib.pyplot as plt  \n",
    "# %matplotlib inline   \n",
    "\n",
    "# import warnings;\n",
    "# warnings.filterwarnings('ignore')"
   ]
  },
  {
   "cell_type": "markdown",
   "metadata": {},
   "source": [
    "[MATPLOTLIB](https://github.com/matplotlib/matplotlib/tree/main/lib/matplotlib)\n",
    "\n",
    "[PYPLOT](https://github.com/matplotlib/matplotlib/blob/main/lib/matplotlib/pyplot.py)"
   ]
  },
  {
   "cell_type": "markdown",
   "metadata": {
    "id": "W-S1m99OsGum"
   },
   "source": [
    "#### <p style=\"background-color:#9d4f8c; font-family:newtimeroman; color:#FFF9ED; font-size:150%; text-align:LEFT; border-radius:10px 10px;\">What does matplotlib inline do?</p>\n",
    "\n",
    "<a id=\"2.1\"></a>\n",
    "<a href=\"#toc\" class=\"btn btn-primary btn-sm\" role=\"button\" aria-pressed=\"true\" \n",
    "style=\"color:blue; background-color:#dfa8e4\" data-toggle=\"popover\">Content</a>\n",
    "\n",
    "%matplotlib inline sets the backend of matplotlib to the 'inline' backend: With this backend, the output of plotting commands is displayed inline within frontends like the Jupyter notebook, directly below the code cell that produced it. The resulting plots will then also be stored in the notebook document.\n",
    "\n",
    "[SOURCE](https://stackoverflow.com/questions/43027980/purpose-of-matplotlib-inline#:~:text=%25matplotlib%20inline%20sets%20the%20backend,stored%20in%20the%20notebook%20document.)"
   ]
  },
  {
   "cell_type": "code",
   "execution_count": null,
   "metadata": {},
   "outputs": [],
   "source": [
    "x = np.arange(0,20,2)\n",
    "x"
   ]
  },
  {
   "cell_type": "code",
   "execution_count": null,
   "metadata": {},
   "outputs": [],
   "source": []
  },
  {
   "cell_type": "code",
   "execution_count": null,
   "metadata": {},
   "outputs": [],
   "source": []
  },
  {
   "cell_type": "code",
   "execution_count": null,
   "metadata": {},
   "outputs": [],
   "source": []
  },
  {
   "cell_type": "code",
   "execution_count": 308,
   "metadata": {
    "id": "ttwaP6Jw6SE4"
   },
   "outputs": [],
   "source": [
    "%matplotlib inline"
   ]
  },
  {
   "cell_type": "markdown",
   "metadata": {},
   "source": [
    "[What is matplotlib inline in python](https://pythonguides.com/what-is-matplotlib-inline/)"
   ]
  },
  {
   "cell_type": "code",
   "execution_count": null,
   "metadata": {},
   "outputs": [],
   "source": [
    "!jupyter --version"
   ]
  },
  {
   "cell_type": "markdown",
   "metadata": {
    "id": "qrUP3Wk_6Qj4"
   },
   "source": [
    "**NOTE: If you are using an older version of jupyter, you need to run a \"magic\" command to see the plots inline with the notebook. Users of jupyter notebook 1.0 and above, don't need to run the cell below:**"
   ]
  },
  {
   "cell_type": "markdown",
   "metadata": {
    "id": "hMOQzL_tVchP"
   },
   "source": [
    "## <p style=\"background-color:#9d4f8c; font-family:newtimeroman; color:#FFF9ED; font-size:150%; text-align:center; border-radius:10px 10px;\">INTRODUCTION</p>\n",
    "\n",
    "<a id=\"3\"></a>\n",
    "<a href=\"#toc\" class=\"btn btn-primary btn-sm\" role=\"button\" aria-pressed=\"true\" \n",
    "style=\"color:blue; background-color:#dfa8e4\" data-toggle=\"popover\">Content</a>\n",
    "\n",
    "![matplotlib1.png](https://i.ibb.co/jTZFN49/matplotlib1.png)\n",
    "\n",
    "matplotlib.pyplot is a collection of functions that make matplotlib work like MATLAB. Each pyplot function makes some change to a figure: e.g., creates a figure, creates a plotting area in a figure, plots some lines in a plotting area, decorates the plot with labels, etc.\n",
    "\n",
    "In matplotlib.pyplot various states are preserved across function calls, so that it keeps track of things like the current figure and plotting area, and the plotting functions are directed to the current axes (please note that \"axes\" here and in most places in the documentation refers to the axes part of a figure and not the strict mathematical term for more than one axis).\n",
    "\n",
    "Matplotlib is a two-dimensional (2D) plotting library for Python. It was created by John D. Hunter, an American neurobiologist, and was first released in 2002. With Matplotlib, you can generate lines, scatter graphs, bar charts, histograms, error bars, etc, and even do simple 3D plots using the mplot3d toolkit. Matplotlib has a module called Pyplot, which provides an interface similar to MatLab."
   ]
  },
  {
   "cell_type": "markdown",
   "metadata": {
    "id": "kAiNOakp_ziI"
   },
   "source": [
    "## <p style=\"background-color:#9d4f8c; font-family:newtimeroman; color:#FFF9ED; font-size:150%; text-align:center; border-radius:10px 10px;\">MATPLOTLIB BASICS</p>\n",
    "\n",
    "<a id=\"4\"></a>\n",
    "<a href=\"#toc\" class=\"btn btn-primary btn-sm\" role=\"button\" aria-pressed=\"true\" \n",
    "style=\"color:blue; background-color:#dfa8e4\" data-toggle=\"popover\">Content</a>\n",
    "\n",
    "To make necessary statistical inferences, it becomes necessary to visualize your data and Matplotlib is one such solution for the Python users. It is a very powerful plotting library useful for those working with Python and NumPy. The most used module of Matplotib is Pyplot which provides an interface like MATLAB but instead, it uses Python and it is open source.\n",
    "\n",
    "Pyplot is a module of Matplotlib which provides simple functions to add plot elements like lines, images, text, etc. to the current axes in the current figure.\n",
    "\n",
    "[Source](https://towardsdatascience.com/matplotlib-tutorial-learn-basics-of-pythons-powerful-plotting-library-b5d1b8f67596)\n",
    "\n",
    "![anatomy-of-afigure.png](https://i.ibb.co/TMT6zRJ/anatomy-of-afigure.png)\n",
    "\n",
    "[Source](https://matplotlib.org/3.5.0/gallery/showcase/anatomy.html)"
   ]
  },
  {
   "cell_type": "code",
   "execution_count": 6,
   "metadata": {},
   "outputs": [],
   "source": [
    "# help(plt.plot())"
   ]
  },
  {
   "cell_type": "code",
   "execution_count": 7,
   "metadata": {},
   "outputs": [],
   "source": [
    "# type(plt.plot())"
   ]
  },
  {
   "cell_type": "raw",
   "metadata": {},
   "source": [
    "plt.plot(*args, scalex=True, scaley=True, data=None, **kwargs)\n",
    "\n",
    "Docstring:\n",
    "Plot y versus x as lines and/or markers.\n",
    "\n",
    "Parameters\n",
    "----------\n",
    "x, y : array-like or scalar\n",
    "    The horizontal / vertical coordinates of the data points.\n",
    "    *x* values are optional and default to ``range(len(y))``.\n",
    "\n",
    "    Commonly, these parameters are 1D arrays.\n",
    "\n",
    "    They can also be scalars, or two-dimensional (in that case, the\n",
    "    columns represent separate data sets).\n",
    "\n",
    "    These arguments cannot be passed as keywords.\n",
    "\n",
    "fmt : str, optional\n",
    "    A format string, e.g. 'ro' for red circles. See the *Notes*\n",
    "    section for a full description of the format strings.\n",
    "\n",
    "    Format strings are just an abbreviation for quickly setting\n",
    "    basic line properties. All of these and more can also be\n",
    "    controlled by keyword arguments.\n",
    "\n",
    "    This argument cannot be passed as keyword.\n",
    "\n",
    "data : indexable object, optional\n",
    "    An object with labelled data. If given, provide the label names to\n",
    "    plot in *x* and *y*.\n",
    "\n",
    "    .. note::\n",
    "        Technically there's a slight ambiguity in calls where the\n",
    "        second label is a valid *fmt*. ``plot('n', 'o', data=obj)``\n",
    "        could be ``plt(x, y)`` or ``plt(y, fmt)``. In such cases,\n",
    "        the former interpretation is chosen, but a warning is issued.\n",
    "        You may suppress the warning by adding an empty format string\n",
    "        ``plot('n', 'o', '', data=obj)``.\n",
    "\n",
    "Returns\n",
    "-------\n",
    "list of `.Line2D`\n",
    "    A list of lines representing the plotted data.\n",
    "\n",
    "Other Parameters\n",
    "----------------\n",
    "scalex, scaley : bool, default: True\n",
    "    These parameters determine if the view limits are adapted to the\n",
    "    data limits. The values are passed on to `autoscale_view`.\n",
    "\n",
    "**kwargs : `.Line2D` properties, optional\n",
    "    *kwargs* are used to specify properties like a line label (for\n",
    "    auto legends), linewidth, antialiasing, marker face color.\n",
    "    Example::\n",
    "\n",
    "    >>> plot([1, 2, 3], [1, 2, 3], 'go-', label='line 1', linewidth=2)\n",
    "    >>> plot([1, 2, 3], [1, 4, 9], 'rs', label='line 2')\n",
    "\n",
    "    If you specify multiple lines with one plot call, the kwargs apply\n",
    "    to all those lines. In case the label object is iterable, each\n",
    "    element is used as labels for each set of data.\n",
    "\n",
    "    Here is a list of available `.Line2D` properties:\n",
    "\n",
    "    Properties:\n",
    "    agg_filter: a filter function, which takes a (m, n, 3) float array and a dpi value, and returns a (m, n, 3) array\n",
    "    alpha: scalar or None\n",
    "    animated: bool\n",
    "    antialiased or aa: bool\n",
    "    clip_box: `.Bbox`\n",
    "    clip_on: bool\n",
    "    clip_path: Patch or (Path, Transform) or None\n",
    "    color or c: color\n",
    "    dash_capstyle: `.CapStyle` or {'butt', 'projecting', 'round'}\n",
    "    dash_joinstyle: `.JoinStyle` or {'miter', 'round', 'bevel'}\n",
    "    dashes: sequence of floats (on/off ink in points) or (None, None)\n",
    "    data: (2, N) array or two 1D arrays\n",
    "    drawstyle or ds: {'default', 'steps', 'steps-pre', 'steps-mid', 'steps-post'}, default: 'default'\n",
    "    figure: `.Figure`\n",
    "    fillstyle: {'full', 'left', 'right', 'bottom', 'top', 'none'}\n",
    "    gid: str\n",
    "    in_layout: bool\n",
    "    label: object\n",
    "    linestyle or ls: {'-', '--', '-.', ':', '', (offset, on-off-seq), ...}\n",
    "    linewidth or lw: float\n",
    "    marker: marker style string, `~.path.Path` or `~.markers.MarkerStyle`\n",
    "    markeredgecolor or mec: color\n",
    "    markeredgewidth or mew: float\n",
    "    markerfacecolor or mfc: color\n",
    "    markerfacecoloralt or mfcalt: color\n",
    "    markersize or ms: float\n",
    "    markevery: None or int or (int, int) or slice or list[int] or float or (float, float) or list[bool]\n",
    "    path_effects: `.AbstractPathEffect`\n",
    "    picker: float or callable[[Artist, Event], tuple[bool, dict]]\n",
    "    pickradius: float\n",
    "    rasterized: bool\n",
    "    sketch_params: (scale: float, length: float, randomness: float)\n",
    "    snap: bool or None\n",
    "    solid_capstyle: `.CapStyle` or {'butt', 'projecting', 'round'}\n",
    "    solid_joinstyle: `.JoinStyle` or {'miter', 'round', 'bevel'}\n",
    "    transform: unknown\n",
    "    url: str\n",
    "    visible: bool\n",
    "    xdata: 1D array\n",
    "    ydata: 1D array\n",
    "    zorder: float\n",
    "\n",
    "**Markers**\n",
    "\n",
    "=============   ===============================\n",
    "character       description\n",
    "=============   ===============================\n",
    "``'.'``         point marker\n",
    "``','``         pixel marker\n",
    "``'o'``         circle marker\n",
    "``'v'``         triangle_down marker\n",
    "``'^'``         triangle_up marker\n",
    "``'<'``         triangle_left marker\n",
    "``'>'``         triangle_right marker\n",
    "``'1'``         tri_down marker\n",
    "``'2'``         tri_up marker\n",
    "``'3'``         tri_left marker\n",
    "``'4'``         tri_right marker\n",
    "``'8'``         octagon marker\n",
    "``'s'``         square marker\n",
    "``'p'``         pentagon marker\n",
    "``'P'``         plus (filled) marker\n",
    "``'*'``         star marker\n",
    "``'h'``         hexagon1 marker\n",
    "``'H'``         hexagon2 marker\n",
    "``'+'``         plus marker\n",
    "``'x'``         x marker\n",
    "``'X'``         x (filled) marker\n",
    "``'D'``         diamond marker\n",
    "``'d'``         thin_diamond marker\n",
    "``'|'``         vline marker\n",
    "``'_'``         hline marker\n",
    "=============   ===============================\n",
    "\n",
    "**Line Styles**\n",
    "\n",
    "=============    ===============================\n",
    "character        description\n",
    "=============    ===============================\n",
    "``'-'``          solid line style\n",
    "``'--'``         dashed line style\n",
    "``'-.'``         dash-dot line style\n",
    "``':'``          dotted line style\n",
    "=============    ===============================\n",
    "\n",
    "Example format strings::\n",
    "\n",
    "    'b'    # blue markers with default shape\n",
    "    'or'   # red circles\n",
    "    '-g'   # green solid line\n",
    "    '--'   # dashed line with default color\n",
    "    '^k:'  # black triangle_up markers connected by a dotted line\n",
    "\n",
    "**Colors**\n",
    "\n",
    "The supported color abbreviations are the single letter codes\n",
    "\n",
    "=============    ===============================\n",
    "character        color\n",
    "=============    ===============================\n",
    "``'b'``          blue\n",
    "``'g'``          green\n",
    "``'r'``          red\n",
    "``'c'``          cyan\n",
    "``'m'``          magenta\n",
    "``'y'``          yellow\n",
    "``'k'``          black\n",
    "``'w'``          white\n",
    "=============    ===============================\n",
    "\n",
    "and the ``'CN'`` colors that index into the default property cycle."
   ]
  },
  {
   "cell_type": "markdown",
   "metadata": {
    "id": "Q9HSVsPKWRwf"
   },
   "source": [
    "## <p style=\"background-color:#9d4f8c; font-family:newtimeroman; color:#FFF9ED; font-size:150%; text-align:center; border-radius:10px 10px;\">LINEPLOTS (SERIES/DATAFRAMES)</p>\n",
    "\n",
    "<a id=\"5\"></a>\n",
    "<a href=\"#toc\" class=\"btn btn-primary btn-sm\" role=\"button\" aria-pressed=\"true\" \n",
    "style=\"color:blue; background-color:#dfa8e4\" data-toggle=\"popover\">Content</a>"
   ]
  },
  {
   "cell_type": "markdown",
   "metadata": {
    "id": "bIAEioNSWWB6"
   },
   "source": [
    "#### <p style=\"background-color:#9d4f8c; font-family:newtimeroman; color:#FFF9ED; font-size:150%; text-align:LEFT; border-radius:10px 10px;\">What is a line plot and why use it?</p>\n",
    "\n",
    "<a id=\"5.1\"></a>\n",
    "<a href=\"#toc\" class=\"btn btn-primary btn-sm\" role=\"button\" aria-pressed=\"true\" \n",
    "style=\"color:blue; background-color:#dfa8e4\" data-toggle=\"popover\">Content</a>\n",
    "\n",
    "A line chart or line plot is a type of plot which displays information as a series of data points called 'markers' connected by straight line segments. It is a basic type of chart common in many fields.\n",
    "Use line plot when you have a continuous data set. These are best suited for trend-based visualizations of data over a period of time.\n"
   ]
  },
  {
   "cell_type": "code",
   "execution_count": null,
   "metadata": {},
   "outputs": [],
   "source": []
  },
  {
   "cell_type": "code",
   "execution_count": null,
   "metadata": {},
   "outputs": [],
   "source": []
  },
  {
   "cell_type": "code",
   "execution_count": null,
   "metadata": {},
   "outputs": [],
   "source": []
  },
  {
   "cell_type": "markdown",
   "metadata": {},
   "source": [
    "**plt. show()** starts an event loop, looks for all currently active figure objects, and opens one or more interactive windows that display your figure or figures.\n",
    "\n",
    "To require or not required depending on where your script is. There are 2 contexts.\n",
    "\n",
    "- Matplotlib is used in a terminal or scripts, plt.show() is a must.\n",
    "\n",
    "- Matplotlib is used in a IPython shell or a notebook (ex: Kaggle), plt.show() is unnecessary.\n",
    "\n",
    "[SOURCE 01](https://stackoverflow.com/questions/54422714/when-is-plt-show-required-to-show-a-plot-and-when-is-it-not) & [SOURCE 02](https://jakevdp.github.io/PythonDataScienceHandbook/04.00-introduction-to-matplotlib.html#:~:text=Plotting%20from%20a%20script,display%20your%20figure%20or%20figures.)\n",
    "\n",
    "The plot() function in pyplot just adds a line to the axes object. You can add as many lines as you want, and when you run the plt.show() function they will all be displayed in the same figure with the same axes.\n",
    "\n",
    "To avoid this in Jupyter, you can use the line magic\n",
    "\n",
    "``%matplotlib inline``\n",
    "\n",
    "and you won’t have to run plt.show() at all, since then all plots are displayed inline when you run plt.plot()."
   ]
  },
  {
   "cell_type": "code",
   "execution_count": null,
   "metadata": {},
   "outputs": [],
   "source": []
  },
  {
   "cell_type": "code",
   "execution_count": null,
   "metadata": {},
   "outputs": [],
   "source": []
  },
  {
   "cell_type": "code",
   "execution_count": null,
   "metadata": {},
   "outputs": [],
   "source": []
  },
  {
   "cell_type": "code",
   "execution_count": null,
   "metadata": {
    "id": "cZAR9IAHFyjp",
    "outputId": "f438412c-a7ce-4a38-cca4-9ff1b59ffb5b"
   },
   "outputs": [],
   "source": [
    "# plt.plot(x, y)\n",
    "# plt.savefig('example.png')"
   ]
  },
  {
   "cell_type": "markdown",
   "metadata": {
    "id": "3dCEtDCTsGu1"
   },
   "source": [
    "## <p style=\"background-color:#9d4f8c; font-family:newtimeroman; color:#FFF9ED; font-size:150%; text-align:center; border-radius:10px 10px;\">2 METHODS USED TO CREATE PLOTS IN MATPLOTLIB</p>\n",
    "\n",
    "<a id=\"6\"></a>\n",
    "<a href=\"#toc\" class=\"btn btn-primary btn-sm\" role=\"button\" aria-pressed=\"true\" \n",
    "style=\"color:blue; background-color:#dfa8e4\" data-toggle=\"popover\">Content</a>\n",
    "\n",
    "The Object-Oriented and the Pyplot interfaces (Functional)\n",
    "\n",
    "There are essentially two ways to use Matplotlib:\n",
    "\n",
    "- Explicitly create Figures and Axes, and call methods on them (the \"Object-Oriented (OO) Style\").\n",
    "\n",
    "- Rely on pyplot to automatically create and manage the Figures and Axes, and use pyplot functions for plotting.\n",
    "\n",
    "[SOURCE](https://matplotlib.org/stable/tutorials/introductory/usage.html)"
   ]
  },
  {
   "cell_type": "markdown",
   "metadata": {
    "id": "vOYDqY9ssGu1"
   },
   "source": [
    "![Capture1.PNG](https://i.ibb.co/t8yVKt1/Capture1.png)"
   ]
  },
  {
   "cell_type": "markdown",
   "metadata": {
    "id": "RNMSyNoJsGu2"
   },
   "source": [
    "![Capture2.PNG](https://i.ibb.co/dLMbS51/Capture2.png)"
   ]
  },
  {
   "cell_type": "markdown",
   "metadata": {
    "id": "ZQybLMYssGu2"
   },
   "source": [
    "![Capture3.PNG](https://i.ibb.co/ySrRdXg/Capture3.png)"
   ]
  },
  {
   "cell_type": "markdown",
   "metadata": {
    "id": "tWAbx-0X_ziK"
   },
   "source": [
    "## <p style=\"background-color:#9d4f8c; font-family:newtimeroman; color:#FFF9ED; font-size:150%; text-align:center; border-radius:10px 10px;\">1 - FUNCTIONAL METHOD</p>\n",
    "\n",
    "### <p style=\"background-color:#9d4f8c; font-family:newtimeroman; color:#FFF9ED; font-size:150%; text-align:LEFT; border-radius:10px 10px;\">Basic Graph</p>\n",
    "\n",
    "<a id=\"7\"></a>\n",
    "<a href=\"#toc\" class=\"btn btn-primary btn-sm\" role=\"button\" aria-pressed=\"true\" \n",
    "style=\"color:blue; background-color:#dfa8e4\" data-toggle=\"popover\">Content</a>"
   ]
  },
  {
   "cell_type": "code",
   "execution_count": 343,
   "metadata": {
    "id": "Vq8Pbeag_ziJ"
   },
   "outputs": [],
   "source": [
    "age = [25, 27, 29, 31, 33, 35, 37, 39, 41, 43, 45]\n",
    "\n",
    "salary = [38496, 42000, 46752, 49320, 53200, 56000, 62316, 64928, 67317, 68748, 73752]\n",
    "\n",
    "salary_2 = [45372, 48876, 53850, 57287, 63016, 65998, 70003, 70000, 71496, 75370, 83640]"
   ]
  },
  {
   "cell_type": "code",
   "execution_count": null,
   "metadata": {},
   "outputs": [],
   "source": []
  },
  {
   "cell_type": "code",
   "execution_count": null,
   "metadata": {},
   "outputs": [],
   "source": []
  },
  {
   "cell_type": "code",
   "execution_count": null,
   "metadata": {},
   "outputs": [],
   "source": []
  },
  {
   "cell_type": "markdown",
   "metadata": {
    "id": "LlRAb3dr_ziK"
   },
   "source": [
    "## <p style=\"background-color:#9d4f8c; font-family:newtimeroman; color:#FFF9ED; font-size:150%; text-align:center; border-radius:10px 10px;\">2 - OBJECT-ORIENTED METHOD</p>\n",
    "\n",
    "### <p style=\"background-color:#9d4f8c; font-family:newtimeroman; color:#FFF9ED; font-size:150%; text-align:LEFT; border-radius:10px 10px;\">Basic Graph</p>\n",
    "\n",
    "<a id=\"8\"></a>\n",
    "<a href=\"#toc\" class=\"btn btn-primary btn-sm\" role=\"button\" aria-pressed=\"true\" \n",
    "style=\"color:blue; background-color:#dfa8e4\" data-toggle=\"popover\">Content</a>"
   ]
  },
  {
   "cell_type": "code",
   "execution_count": null,
   "metadata": {},
   "outputs": [],
   "source": []
  },
  {
   "cell_type": "code",
   "execution_count": null,
   "metadata": {},
   "outputs": [],
   "source": []
  },
  {
   "cell_type": "code",
   "execution_count": null,
   "metadata": {},
   "outputs": [],
   "source": []
  },
  {
   "cell_type": "markdown",
   "metadata": {
    "id": "PlXWwWQI_ziL"
   },
   "source": [
    "### <p style=\"background-color:#9d4f8c; font-family:newtimeroman; color:#FFF9ED; font-size:150%; text-align:LEFT; border-radius:10px 10px;\">Multiple-Line in the Same Graph</p>\n",
    "\n",
    "<a id=\"8.1\"></a>\n",
    "<a href=\"#toc\" class=\"btn btn-primary btn-sm\" role=\"button\" aria-pressed=\"true\" \n",
    "style=\"color:blue; background-color:#dfa8e4\" data-toggle=\"popover\">Content</a>"
   ]
  },
  {
   "cell_type": "code",
   "execution_count": 354,
   "metadata": {},
   "outputs": [
    {
     "data": {
      "text/plain": [
       "[25, 27, 29, 31, 33, 35, 37, 39, 41, 43, 45]"
      ]
     },
     "execution_count": 354,
     "metadata": {},
     "output_type": "execute_result"
    }
   ],
   "source": [
    "age"
   ]
  },
  {
   "cell_type": "code",
   "execution_count": 355,
   "metadata": {},
   "outputs": [
    {
     "data": {
      "text/plain": [
       "[38496, 42000, 46752, 49320, 53200, 56000, 62316, 64928, 67317, 68748, 73752]"
      ]
     },
     "execution_count": 355,
     "metadata": {},
     "output_type": "execute_result"
    }
   ],
   "source": [
    "salary"
   ]
  },
  {
   "cell_type": "code",
   "execution_count": 356,
   "metadata": {
    "scrolled": true
   },
   "outputs": [
    {
     "data": {
      "text/plain": [
       "[45372, 48876, 53850, 57287, 63016, 65998, 70003, 70000, 71496, 75370, 83640]"
      ]
     },
     "execution_count": 356,
     "metadata": {},
     "output_type": "execute_result"
    }
   ],
   "source": [
    "salary_2"
   ]
  },
  {
   "cell_type": "code",
   "execution_count": null,
   "metadata": {},
   "outputs": [],
   "source": []
  },
  {
   "cell_type": "code",
   "execution_count": null,
   "metadata": {},
   "outputs": [],
   "source": []
  },
  {
   "cell_type": "code",
   "execution_count": null,
   "metadata": {},
   "outputs": [],
   "source": []
  },
  {
   "cell_type": "code",
   "execution_count": 359,
   "metadata": {
    "id": "TgTBEz3JvCpz"
   },
   "outputs": [],
   "source": [
    "x = np.arange(0, 11)\n",
    "y = x.copy()\n",
    "z = x*2\n",
    "t = np.log(x)"
   ]
  },
  {
   "cell_type": "code",
   "execution_count": null,
   "metadata": {},
   "outputs": [],
   "source": []
  },
  {
   "cell_type": "code",
   "execution_count": null,
   "metadata": {},
   "outputs": [],
   "source": []
  },
  {
   "cell_type": "code",
   "execution_count": null,
   "metadata": {},
   "outputs": [],
   "source": []
  },
  {
   "cell_type": "markdown",
   "metadata": {
    "id": "dBcWtb4j_ziM"
   },
   "source": [
    "### <p style=\"background-color:#9d4f8c; font-family:newtimeroman; color:#FFF9ED; font-size:150%; text-align:LEFT; border-radius:10px 10px;\">Adding Axes</p>\n",
    "\n",
    "<a id=\"8.2\"></a>\n",
    "<a href=\"#toc\" class=\"btn btn-primary btn-sm\" role=\"button\" aria-pressed=\"true\" \n",
    "style=\"color:blue; background-color:#dfa8e4\" data-toggle=\"popover\">Content</a>"
   ]
  },
  {
   "cell_type": "code",
   "execution_count": null,
   "metadata": {},
   "outputs": [],
   "source": [
    "fig = plt.figure()"
   ]
  },
  {
   "cell_type": "code",
   "execution_count": null,
   "metadata": {},
   "outputs": [],
   "source": []
  },
  {
   "cell_type": "code",
   "execution_count": null,
   "metadata": {},
   "outputs": [],
   "source": []
  },
  {
   "cell_type": "code",
   "execution_count": null,
   "metadata": {},
   "outputs": [],
   "source": []
  },
  {
   "cell_type": "code",
   "execution_count": 371,
   "metadata": {},
   "outputs": [],
   "source": [
    "x = np.arange(-10, 11)\n",
    "y = x ** 2"
   ]
  },
  {
   "cell_type": "code",
   "execution_count": null,
   "metadata": {},
   "outputs": [],
   "source": []
  },
  {
   "cell_type": "code",
   "execution_count": null,
   "metadata": {},
   "outputs": [],
   "source": []
  },
  {
   "cell_type": "code",
   "execution_count": null,
   "metadata": {},
   "outputs": [],
   "source": []
  },
  {
   "cell_type": "markdown",
   "metadata": {
    "id": "QGbd55gcsGu2"
   },
   "source": [
    "![Capture5.PNG](https://i.ibb.co/QQ2BV8Q/Capture5.png)"
   ]
  },
  {
   "cell_type": "markdown",
   "metadata": {
    "id": "GEAjpWyx_ziN"
   },
   "source": [
    "### <p style=\"background-color:#9d4f8c; font-family:newtimeroman; color:#FFF9ED; font-size:150%; text-align:LEFT; border-radius:10px 10px;\">Subplot</p>\n",
    "\n",
    "<a id=\"8.3\"></a>\n",
    "<a href=\"#toc\" class=\"btn btn-primary btn-sm\" role=\"button\" aria-pressed=\"true\" \n",
    "style=\"color:blue; background-color:#dfa8e4\" data-toggle=\"popover\">Content</a>"
   ]
  },
  {
   "cell_type": "code",
   "execution_count": null,
   "metadata": {},
   "outputs": [],
   "source": []
  },
  {
   "cell_type": "code",
   "execution_count": null,
   "metadata": {},
   "outputs": [],
   "source": []
  },
  {
   "cell_type": "code",
   "execution_count": null,
   "metadata": {},
   "outputs": [],
   "source": []
  },
  {
   "cell_type": "markdown",
   "metadata": {
    "id": "A806QiOr_ziU"
   },
   "source": [
    "### <p style=\"background-color:#9d4f8c; font-family:newtimeroman; color:#FFF9ED; font-size:150%; text-align:LEFT; border-radius:10px 10px;\">Manual Spacing on Subplots()</p>\n",
    "\n",
    "<a id=\"8.4\"></a>\n",
    "<a href=\"#toc\" class=\"btn btn-primary btn-sm\" role=\"button\" aria-pressed=\"true\" \n",
    "style=\"color:blue; background-color:#dfa8e4\" data-toggle=\"popover\">Content</a>\n",
    "\n",
    "Use .subplots_adjust to adjust spacing manually."
   ]
  },
  {
   "cell_type": "code",
   "execution_count": null,
   "metadata": {},
   "outputs": [],
   "source": []
  },
  {
   "cell_type": "code",
   "execution_count": null,
   "metadata": {},
   "outputs": [],
   "source": []
  },
  {
   "cell_type": "code",
   "execution_count": null,
   "metadata": {},
   "outputs": [],
   "source": []
  },
  {
   "cell_type": "markdown",
   "metadata": {
    "id": "VAc_fO35_ziO"
   },
   "source": [
    "### <p style=\"background-color:#9d4f8c; font-family:newtimeroman; color:#FFF9ED; font-size:150%; text-align:LEFT; border-radius:10px 10px;\">How to Manipulate Figure Size</p>\n",
    "\n",
    "<a id=\"8.5\"></a>\n",
    "<a href=\"#toc\" class=\"btn btn-primary btn-sm\" role=\"button\" aria-pressed=\"true\" \n",
    "style=\"color:blue; background-color:#dfa8e4\" data-toggle=\"popover\">Content</a>"
   ]
  },
  {
   "cell_type": "code",
   "execution_count": null,
   "metadata": {},
   "outputs": [],
   "source": []
  },
  {
   "cell_type": "code",
   "execution_count": null,
   "metadata": {},
   "outputs": [],
   "source": []
  },
  {
   "cell_type": "code",
   "execution_count": null,
   "metadata": {},
   "outputs": [],
   "source": []
  },
  {
   "cell_type": "markdown",
   "metadata": {
    "id": "Zh2pyvsf_ziP"
   },
   "source": [
    "## <p style=\"background-color:#9d4f8c; font-family:newtimeroman; color:#FFF9ED; font-size:150%; text-align:center; border-radius:10px 10px;\">LINEWIDTH & LINESTYLES & MARKERS & MARKERSIZE & COLOR</p>\n",
    "\n",
    "### <p style=\"background-color:#9d4f8c; font-family:newtimeroman; color:#FFF9ED; font-size:150%; text-align:LEFT; border-radius:10px 10px;\">Linewidth</p>\n",
    "\n",
    "<a id=\"9\"></a>\n",
    "<a href=\"#toc\" class=\"btn btn-primary btn-sm\" role=\"button\" aria-pressed=\"true\" \n",
    "style=\"color:blue; background-color:#dfa8e4\" data-toggle=\"popover\">Content</a>"
   ]
  },
  {
   "cell_type": "code",
   "execution_count": null,
   "metadata": {},
   "outputs": [],
   "source": []
  },
  {
   "cell_type": "code",
   "execution_count": null,
   "metadata": {},
   "outputs": [],
   "source": []
  },
  {
   "cell_type": "code",
   "execution_count": null,
   "metadata": {},
   "outputs": [],
   "source": []
  },
  {
   "cell_type": "code",
   "execution_count": 49,
   "metadata": {
    "colab": {
     "base_uri": "https://localhost:8080/"
    },
    "id": "wOzHwGWbL_4_",
    "outputId": "543dee9d-57e8-4189-dd8e-09e70ed983bc"
   },
   "outputs": [
    {
     "data": {
      "text/plain": [
       "array([0, 1, 2, 3, 4, 5, 6, 7, 8, 9])"
      ]
     },
     "execution_count": 49,
     "metadata": {},
     "output_type": "execute_result"
    }
   ],
   "source": [
    "x = np.arange(0, 10)\n",
    "x"
   ]
  },
  {
   "cell_type": "code",
   "execution_count": null,
   "metadata": {},
   "outputs": [],
   "source": []
  },
  {
   "cell_type": "code",
   "execution_count": null,
   "metadata": {},
   "outputs": [],
   "source": []
  },
  {
   "cell_type": "code",
   "execution_count": null,
   "metadata": {},
   "outputs": [],
   "source": []
  },
  {
   "cell_type": "markdown",
   "metadata": {
    "id": "VXrWLnJWMmmw"
   },
   "source": [
    "### <p style=\"background-color:#9d4f8c; font-family:newtimeroman; color:#FFF9ED; font-size:150%; text-align:LEFT; border-radius:10px 10px;\">LineStyles</p>\n",
    "\n",
    "<a id=\"9.1\"></a>\n",
    "<a href=\"#toc\" class=\"btn btn-primary btn-sm\" role=\"button\" aria-pressed=\"true\" \n",
    "style=\"color:blue; background-color:#dfa8e4\" data-toggle=\"popover\">Content</a>"
   ]
  },
  {
   "cell_type": "raw",
   "metadata": {},
   "source": [
    "**Line Styles**\n",
    "\n",
    "=============    ===============================\n",
    "character        description\n",
    "=============    ===============================\n",
    "``'-'``          solid line style\n",
    "``'--'``         dashed line style\n",
    "``'-.'``         dash-dot line style\n",
    "``':'``          dotted line style\n",
    "=============    ==============================="
   ]
  },
  {
   "cell_type": "code",
   "execution_count": null,
   "metadata": {},
   "outputs": [],
   "source": []
  },
  {
   "cell_type": "code",
   "execution_count": null,
   "metadata": {},
   "outputs": [],
   "source": []
  },
  {
   "cell_type": "code",
   "execution_count": null,
   "metadata": {},
   "outputs": [],
   "source": []
  },
  {
   "cell_type": "code",
   "execution_count": null,
   "metadata": {},
   "outputs": [],
   "source": [
    "x = np.arange(0, 10)\n",
    "x"
   ]
  },
  {
   "cell_type": "raw",
   "metadata": {},
   "source": [
    "drawstyle or ds: {'default', 'steps', 'steps-pre', 'steps-mid', 'steps-post'}, default: 'default'"
   ]
  },
  {
   "cell_type": "code",
   "execution_count": null,
   "metadata": {},
   "outputs": [],
   "source": []
  },
  {
   "cell_type": "code",
   "execution_count": null,
   "metadata": {},
   "outputs": [],
   "source": []
  },
  {
   "cell_type": "code",
   "execution_count": null,
   "metadata": {},
   "outputs": [],
   "source": []
  },
  {
   "cell_type": "code",
   "execution_count": null,
   "metadata": {},
   "outputs": [],
   "source": [
    "x = np.arange(0, 10)\n",
    "x"
   ]
  },
  {
   "cell_type": "code",
   "execution_count": null,
   "metadata": {},
   "outputs": [],
   "source": []
  },
  {
   "cell_type": "code",
   "execution_count": null,
   "metadata": {},
   "outputs": [],
   "source": []
  },
  {
   "cell_type": "code",
   "execution_count": null,
   "metadata": {},
   "outputs": [],
   "source": []
  },
  {
   "cell_type": "markdown",
   "metadata": {},
   "source": [
    "### <p style=\"background-color:#9d4f8c; font-family:newtimeroman; color:#FFF9ED; font-size:150%; text-align:LEFT; border-radius:10px 10px;\">Markers</p>\n",
    "\n",
    "<a id=\"9.2\"></a>\n",
    "<a href=\"#toc\" class=\"btn btn-primary btn-sm\" role=\"button\" aria-pressed=\"true\" \n",
    "style=\"color:blue; background-color:#dfa8e4\" data-toggle=\"popover\">Content</a>"
   ]
  },
  {
   "cell_type": "raw",
   "metadata": {},
   "source": [
    "**Markers**\n",
    "\n",
    "=============   ===============================\n",
    "character       description\n",
    "=============   ===============================\n",
    "``'.'``         point marker\n",
    "``','``         pixel marker\n",
    "``'o'``         circle marker\n",
    "``'v'``         triangle_down marker\n",
    "``'^'``         triangle_up marker\n",
    "``'<'``         triangle_left marker\n",
    "``'>'``         triangle_right marker\n",
    "``'1'``         tri_down marker\n",
    "``'2'``         tri_up marker\n",
    "``'3'``         tri_left marker\n",
    "``'4'``         tri_right marker\n",
    "``'8'``         octagon marker\n",
    "``'s'``         square marker\n",
    "``'p'``         pentagon marker\n",
    "``'P'``         plus (filled) marker\n",
    "``'*'``         star marker\n",
    "``'h'``         hexagon1 marker\n",
    "``'H'``         hexagon2 marker\n",
    "``'+'``         plus marker\n",
    "``'x'``         x marker\n",
    "``'X'``         x (filled) marker\n",
    "``'D'``         diamond marker\n",
    "``'d'``         thin_diamond marker\n",
    "``'|'``         vline marker\n",
    "``'_'``         hline marker\n",
    "=============   ==============================="
   ]
  },
  {
   "cell_type": "code",
   "execution_count": null,
   "metadata": {},
   "outputs": [],
   "source": []
  },
  {
   "cell_type": "code",
   "execution_count": null,
   "metadata": {},
   "outputs": [],
   "source": []
  },
  {
   "cell_type": "code",
   "execution_count": null,
   "metadata": {},
   "outputs": [],
   "source": []
  },
  {
   "cell_type": "code",
   "execution_count": null,
   "metadata": {},
   "outputs": [],
   "source": [
    "x = np.arange(0, 10)\n",
    "x"
   ]
  },
  {
   "cell_type": "code",
   "execution_count": null,
   "metadata": {},
   "outputs": [],
   "source": []
  },
  {
   "cell_type": "code",
   "execution_count": null,
   "metadata": {},
   "outputs": [],
   "source": []
  },
  {
   "cell_type": "code",
   "execution_count": null,
   "metadata": {},
   "outputs": [],
   "source": []
  },
  {
   "cell_type": "markdown",
   "metadata": {},
   "source": [
    "### <p style=\"background-color:#9d4f8c; font-family:newtimeroman; color:#FFF9ED; font-size:150%; text-align:LEFT; border-radius:10px 10px;\">Color</p>\n",
    "\n",
    "<a id=\"9.3\"></a>\n",
    "<a href=\"#toc\" class=\"btn btn-primary btn-sm\" role=\"button\" aria-pressed=\"true\" \n",
    "style=\"color:blue; background-color:#dfa8e4\" data-toggle=\"popover\">Content</a>"
   ]
  },
  {
   "cell_type": "raw",
   "metadata": {},
   "source": [
    "**Colors**\n",
    "\n",
    "The supported color abbreviations are the single letter codes\n",
    "\n",
    "=============    ===============================\n",
    "character        color\n",
    "=============    ===============================\n",
    "``'b'``          blue\n",
    "``'g'``          green\n",
    "``'r'``          red\n",
    "``'c'``          cyan\n",
    "``'m'``          magenta\n",
    "``'y'``          yellow\n",
    "``'k'``          black\n",
    "``'w'``          white\n",
    "=============    ===============================\n",
    "\n",
    "and the ``'CN'`` colors that index into the default property cycle.\n",
    "\n",
    "If the color is the only part of the format string, you can\n",
    "additionally use any  `matplotlib.colors` spec, e.g. full names\n",
    "(``'green'``) or hex strings (``'#008000'``)."
   ]
  },
  {
   "cell_type": "markdown",
   "metadata": {},
   "source": [
    "[HTML Color Codes](https://htmlcolorcodes.com/)"
   ]
  },
  {
   "cell_type": "code",
   "execution_count": 382,
   "metadata": {
    "id": "Y8s2nKXr_ziP"
   },
   "outputs": [],
   "source": [
    "color = \"#ff00ff\" # RGB hex code\n",
    "# color = \"#81C67B\""
   ]
  },
  {
   "cell_type": "code",
   "execution_count": null,
   "metadata": {},
   "outputs": [],
   "source": []
  },
  {
   "cell_type": "code",
   "execution_count": null,
   "metadata": {},
   "outputs": [],
   "source": []
  },
  {
   "cell_type": "code",
   "execution_count": null,
   "metadata": {},
   "outputs": [],
   "source": []
  },
  {
   "cell_type": "markdown",
   "metadata": {
    "id": "_vEgF_Qo_ziQ"
   },
   "source": [
    "### <p style=\"background-color:#9d4f8c; font-family:newtimeroman; color:#FFF9ED; font-size:150%; text-align:LEFT; border-radius:10px 10px;\">Legend</p>\n",
    "\n",
    "<a id=\"9.4\"></a>\n",
    "<a href=\"#toc\" class=\"btn btn-primary btn-sm\" role=\"button\" aria-pressed=\"true\" \n",
    "style=\"color:blue; background-color:#dfa8e4\" data-toggle=\"popover\">Content</a>"
   ]
  },
  {
   "cell_type": "raw",
   "metadata": {},
   "source": [
    " legend location \n",
    " \n",
    "    ===============   =============\n",
    "    Location String   Location Code\n",
    "    ===============   =============\n",
    "       'best'             0\n",
    "       'upper right'      1\n",
    "       'upper left'       2\n",
    "       'lower left'       3\n",
    "       'lower right'      4\n",
    "       'right'            5\n",
    "       'center left'      6\n",
    "       'center right'     7\n",
    "       'lower center'     8\n",
    "       'upper center'     9\n",
    "       'center'          10\n",
    "    ===============   ============="
   ]
  },
  {
   "cell_type": "code",
   "execution_count": null,
   "metadata": {},
   "outputs": [],
   "source": []
  },
  {
   "cell_type": "code",
   "execution_count": null,
   "metadata": {},
   "outputs": [],
   "source": []
  },
  {
   "cell_type": "code",
   "execution_count": null,
   "metadata": {},
   "outputs": [],
   "source": []
  },
  {
   "cell_type": "markdown",
   "metadata": {
    "id": "ax-D4i6y_ziQ"
   },
   "source": [
    "### <p style=\"background-color:#9d4f8c; font-family:newtimeroman; color:#FFF9ED; font-size:150%; text-align:LEFT; border-radius:10px 10px;\">How to Plot Range & Add Extra Line</p>\n",
    "\n",
    "<a id=\"9.5\"></a>\n",
    "<a href=\"#toc\" class=\"btn btn-primary btn-sm\" role=\"button\" aria-pressed=\"true\" \n",
    "style=\"color:blue; background-color:#dfa8e4\" data-toggle=\"popover\">Content</a>"
   ]
  },
  {
   "cell_type": "code",
   "execution_count": null,
   "metadata": {},
   "outputs": [],
   "source": [
    "x = np.arange(1, 10)\n",
    "x"
   ]
  },
  {
   "cell_type": "code",
   "execution_count": null,
   "metadata": {},
   "outputs": [],
   "source": []
  },
  {
   "cell_type": "code",
   "execution_count": null,
   "metadata": {},
   "outputs": [],
   "source": []
  },
  {
   "cell_type": "code",
   "execution_count": null,
   "metadata": {},
   "outputs": [],
   "source": []
  },
  {
   "cell_type": "markdown",
   "metadata": {
    "id": "2mNJtkI2_ziR"
   },
   "source": [
    "### <p style=\"background-color:#9d4f8c; font-family:newtimeroman; color:#FFF9ED; font-size:150%; text-align:LEFT; border-radius:10px 10px;\">Some Additional Exercises</p>\n",
    "\n",
    "<a id=\"9.6\"></a>\n",
    "<a href=\"#toc\" class=\"btn btn-primary btn-sm\" role=\"button\" aria-pressed=\"true\" \n",
    "style=\"color:blue; background-color:#dfa8e4\" data-toggle=\"popover\">Content</a>"
   ]
  },
  {
   "cell_type": "markdown",
   "metadata": {
    "id": "IwKRL3mlsGvE"
   },
   "source": [
    "**Matplotlib - Subplot2grid() Function**\n",
    "\n",
    "This function gives more flexibility in creating an axes object at a specific location of the grid. It also allows the axes object to be spanned across multiple rows or columns.\n",
    "\n",
    "**Plt.subplot2grid(shape, location, rowspan, colspan)**\n",
    "\n",
    "In the following example, a 3X3 grid of the figure object is filled with axes objects of varying sizes in row and column spans, each showing a different plot.\n",
    "\n",
    "[SOURCE 01](https://www.tutorialspoint.com/matplotlib/matplotlib_subplot2grid_function.htm), [SOURCE 02](https://medium.com/kodluyoruz/matplotlibde-%C3%A7oklu-%C3%A7izim-nas%C4%B1l-yap%C4%B1l%C4%B1r-subplot-gridspec-b33e2077727c) & [SOURCE 03](https://matplotlib.org/3.1.1/api/_as_gen/matplotlib.pyplot.subplot2grid.html)\n"
   ]
  },
  {
   "cell_type": "code",
   "execution_count": null,
   "metadata": {},
   "outputs": [],
   "source": [
    "x = np.arange(1, 10)\n",
    "x"
   ]
  },
  {
   "cell_type": "code",
   "execution_count": null,
   "metadata": {},
   "outputs": [],
   "source": []
  },
  {
   "cell_type": "code",
   "execution_count": null,
   "metadata": {},
   "outputs": [],
   "source": []
  },
  {
   "cell_type": "code",
   "execution_count": null,
   "metadata": {},
   "outputs": [],
   "source": []
  },
  {
   "cell_type": "markdown",
   "metadata": {
    "id": "Ulls7kPNaO-j"
   },
   "source": [
    "## <p style=\"background-color:#9d4f8c; font-family:newtimeroman; color:#FFF9ED; font-size:150%; text-align:center; border-radius:10px 10px;\">OTHER PLOTS</p>\n",
    "\n",
    "<a id=\"10\"></a>\n",
    "<a href=\"#toc\" class=\"btn btn-primary btn-sm\" role=\"button\" aria-pressed=\"true\" \n",
    "style=\"color:blue; background-color:#dfa8e4\" data-toggle=\"popover\">Content</a>\n",
    "\n",
    "There are many other plotting styles available other than the default Line plot, all of which can be accessed by passing `kind` keyword to `plot()`. The full list of available plots are as follows:\n",
    "\n",
    "-   `bar` for vertical bar plots\n",
    "-   `barh` for horizontal bar plots\n",
    "-   `hist` for histogram\n",
    "-   `box` for boxplot\n",
    "-   `kde` or `density` for density plots\n",
    "-   `area` for area plots\n",
    "-   `pie` for pie plots\n",
    "-   `scatter` for scatter plots\n",
    "-   `hexbin` for hexbin plot\n"
   ]
  },
  {
   "cell_type": "markdown",
   "metadata": {
    "id": "Z7blPWD-H9uW"
   },
   "source": [
    "## <p style=\"background-color:#9d4f8c; font-family:newtimeroman; color:#FFF9ED; font-size:150%; text-align:center; border-radius:10px 10px;\">PANDAS</p>\n",
    "\n",
    "<a id=\"11\"></a>\n",
    "<a href=\"#toc\" class=\"btn btn-primary btn-sm\" role=\"button\" aria-pressed=\"true\" \n",
    "style=\"color:blue; background-color:#dfa8e4\" data-toggle=\"popover\">Content</a>"
   ]
  },
  {
   "cell_type": "code",
   "execution_count": null,
   "metadata": {
    "colab": {
     "base_uri": "https://localhost:8080/",
     "height": 204
    },
    "id": "NXT-HA4m_ziS",
    "outputId": "64397871-2dd4-402d-e179-f0775350373a"
   },
   "outputs": [],
   "source": [
    "import pandas as pd\n",
    "\n",
    "df = pd.DataFrame(list(zip(age, salary, salary_2)), columns =['age', 'salary', 'salary_2'])\n",
    "df.head()"
   ]
  },
  {
   "cell_type": "code",
   "execution_count": null,
   "metadata": {},
   "outputs": [],
   "source": []
  },
  {
   "cell_type": "code",
   "execution_count": null,
   "metadata": {},
   "outputs": [],
   "source": []
  },
  {
   "cell_type": "code",
   "execution_count": null,
   "metadata": {},
   "outputs": [],
   "source": []
  },
  {
   "cell_type": "markdown",
   "metadata": {},
   "source": [
    "**Examples from Tips Dataset**"
   ]
  },
  {
   "cell_type": "code",
   "execution_count": 239,
   "metadata": {
    "colab": {
     "base_uri": "https://localhost:8080/"
    },
    "id": "plVkDLNrIVyk",
    "outputId": "8872b10d-cb48-4d2e-e3a0-2783222f81e6"
   },
   "outputs": [
    {
     "name": "stdout",
     "output_type": "stream",
     "text": [
      "['anagrams', 'anscombe', 'attention', 'brain_networks', 'car_crashes', 'diamonds', 'dots', 'exercise', 'flights', 'fmri', 'geyser', 'iris', 'mpg', 'penguins', 'planets', 'taxis', 'tips', 'titanic']\n"
     ]
    }
   ],
   "source": [
    "import seaborn as sns\n",
    "\n",
    "print(sns.get_dataset_names())"
   ]
  },
  {
   "cell_type": "code",
   "execution_count": 240,
   "metadata": {
    "colab": {
     "base_uri": "https://localhost:8080/",
     "height": 204
    },
    "id": "ybILBK8zInV6",
    "outputId": "0d6b3387-f1dd-4f95-a509-5c8c1582bbb6"
   },
   "outputs": [
    {
     "data": {
      "text/html": [
       "<div>\n",
       "<style scoped>\n",
       "    .dataframe tbody tr th:only-of-type {\n",
       "        vertical-align: middle;\n",
       "    }\n",
       "\n",
       "    .dataframe tbody tr th {\n",
       "        vertical-align: top;\n",
       "    }\n",
       "\n",
       "    .dataframe thead th {\n",
       "        text-align: right;\n",
       "    }\n",
       "</style>\n",
       "<table border=\"1\" class=\"dataframe\">\n",
       "  <thead>\n",
       "    <tr style=\"text-align: right;\">\n",
       "      <th></th>\n",
       "      <th>total_bill</th>\n",
       "      <th>tip</th>\n",
       "      <th>sex</th>\n",
       "      <th>smoker</th>\n",
       "      <th>day</th>\n",
       "      <th>time</th>\n",
       "      <th>size</th>\n",
       "    </tr>\n",
       "  </thead>\n",
       "  <tbody>\n",
       "    <tr>\n",
       "      <th>0</th>\n",
       "      <td>16.99</td>\n",
       "      <td>1.01</td>\n",
       "      <td>Female</td>\n",
       "      <td>No</td>\n",
       "      <td>Sun</td>\n",
       "      <td>Dinner</td>\n",
       "      <td>2</td>\n",
       "    </tr>\n",
       "    <tr>\n",
       "      <th>1</th>\n",
       "      <td>10.34</td>\n",
       "      <td>1.66</td>\n",
       "      <td>Male</td>\n",
       "      <td>No</td>\n",
       "      <td>Sun</td>\n",
       "      <td>Dinner</td>\n",
       "      <td>3</td>\n",
       "    </tr>\n",
       "    <tr>\n",
       "      <th>2</th>\n",
       "      <td>21.01</td>\n",
       "      <td>3.50</td>\n",
       "      <td>Male</td>\n",
       "      <td>No</td>\n",
       "      <td>Sun</td>\n",
       "      <td>Dinner</td>\n",
       "      <td>3</td>\n",
       "    </tr>\n",
       "    <tr>\n",
       "      <th>3</th>\n",
       "      <td>23.68</td>\n",
       "      <td>3.31</td>\n",
       "      <td>Male</td>\n",
       "      <td>No</td>\n",
       "      <td>Sun</td>\n",
       "      <td>Dinner</td>\n",
       "      <td>2</td>\n",
       "    </tr>\n",
       "    <tr>\n",
       "      <th>4</th>\n",
       "      <td>24.59</td>\n",
       "      <td>3.61</td>\n",
       "      <td>Female</td>\n",
       "      <td>No</td>\n",
       "      <td>Sun</td>\n",
       "      <td>Dinner</td>\n",
       "      <td>4</td>\n",
       "    </tr>\n",
       "  </tbody>\n",
       "</table>\n",
       "</div>"
      ],
      "text/plain": [
       "   total_bill   tip     sex smoker  day    time  size\n",
       "0       16.99  1.01  Female     No  Sun  Dinner     2\n",
       "1       10.34  1.66    Male     No  Sun  Dinner     3\n",
       "2       21.01  3.50    Male     No  Sun  Dinner     3\n",
       "3       23.68  3.31    Male     No  Sun  Dinner     2\n",
       "4       24.59  3.61  Female     No  Sun  Dinner     4"
      ]
     },
     "execution_count": 240,
     "metadata": {},
     "output_type": "execute_result"
    }
   ],
   "source": [
    "tips = sns.load_dataset(\"tips\")\n",
    "tips.head()"
   ]
  },
  {
   "cell_type": "code",
   "execution_count": 241,
   "metadata": {},
   "outputs": [
    {
     "data": {
      "image/png": "[encoded data removed]",
      "text/plain": [
       "<Figure size 576x432 with 1 Axes>"
      ]
     },
     "metadata": {
      "needs_background": "light"
     },
     "output_type": "display_data"
    }
   ],
   "source": [
    "plt.figure(figsize=(8, 6))\n",
    "\n",
    "plt.plot(tips['total_bill']);"
   ]
  },
  {
   "cell_type": "code",
   "execution_count": 242,
   "metadata": {},
   "outputs": [
    {
     "data": {
      "image/png": "[encoded data removed]",
      "text/plain": [
       "<Figure size 432x288 with 1 Axes>"
      ]
     },
     "metadata": {
      "needs_background": "light"
     },
     "output_type": "display_data"
    }
   ],
   "source": [
    "# Functional\n",
    "\n",
    "plt.subplot()\n",
    "\n",
    "plt.plot(tips['total_bill'], tips['tip'])\n",
    "\n",
    "plt.xlabel(\"Size\")\n",
    "plt.ylabel(\"Tip\")\n",
    "plt.title(\"Tips by Size\")\n",
    "plt.show()"
   ]
  },
  {
   "cell_type": "code",
   "execution_count": 243,
   "metadata": {},
   "outputs": [
    {
     "data": {
      "image/png": "[encoded data removed]",
      "text/plain": [
       "<Figure size 432x288 with 1 Axes>"
      ]
     },
     "metadata": {
      "needs_background": "light"
     },
     "output_type": "display_data"
    }
   ],
   "source": [
    "# Functional\n",
    "\n",
    "plt.subplot()\n",
    "\n",
    "plt.bar(tips['size'], tips['tip'])\n",
    "\n",
    "plt.xlabel(\"Size\")\n",
    "plt.ylabel(\"Tip\")\n",
    "plt.title(\"Tips by Size\")\n",
    "plt.show()"
   ]
  },
  {
   "cell_type": "code",
   "execution_count": 244,
   "metadata": {},
   "outputs": [
    {
     "data": {
      "image/png": "[encoded data removed]",
      "text/plain": [
       "<Figure size 432x288 with 1 Axes>"
      ]
     },
     "metadata": {
      "needs_background": "light"
     },
     "output_type": "display_data"
    }
   ],
   "source": [
    "# OOP\n",
    "\n",
    "fig, ax = plt.subplots()\n",
    "\n",
    "plt.bar(tips['size'], tips['tip'])\n",
    "\n",
    "ax.set_xlabel(\"size\")\n",
    "ax.set_ylabel('tip')\n",
    "ax.set_title(\"Tips by Size\")\n",
    "\n",
    "plt.show()"
   ]
  },
  {
   "cell_type": "markdown",
   "metadata": {
    "id": "k8-sVyansGvK"
   },
   "source": [
    "## <p style=\"background-color:#9d4f8c; font-family:newtimeroman; color:#FFF9ED; font-size:150%; text-align:center; border-radius:10px 10px;\">THE END OF THE SESSION 01</p>\n",
    "\n",
    "<a id=\"12\"></a>\n",
    "<a href=\"#toc\" class=\"btn btn-primary btn-sm\" role=\"button\" aria-pressed=\"true\" \n",
    "style=\"color:blue; background-color:#dfa8e4\" data-toggle=\"popover\">Content</a>"
   ]
  },
  {
   "cell_type": "markdown",
   "metadata": {
    "id": "hCCPFeYDIth-"
   },
   "source": [
    "___\n",
    "\n",
    "<p style=\"text-align: center;\"><img src=\"https://docs.google.com/uc?id=1lY0Uj5R04yMY3-ZppPWxqCr5pvBLYPnV\" class=\"img-fluid\" \n",
    "alt=\"CLRSWY\"></p>\n",
    "\n",
    "## <p style=\"background-color:#FDFEFE; font-family:newtimeroman; color:#9d4f8c; font-size:100%; text-align:center; border-radius:10px 10px;\">WAY TO REINVENT YOURSELF</p>\n",
    "___"
   ]
  }
 ],
 "metadata": {
  "colab": {
   "collapsed_sections": [],
   "name": "1-DVwPy_S1_Matplotlib.ipynb",
   "provenance": []
  },
  "kernelspec": {
   "display_name": "Python 3 (ipykernel)",
   "language": "python",
   "name": "python3"
  },
  "language_info": {
   "codemirror_mode": {
    "name": "ipython",
    "version": 3
   },
   "file_extension": ".py",
   "mimetype": "text/x-python",
   "name": "python",
   "nbconvert_exporter": "python",
   "pygments_lexer": "ipython3",
   "version": "3.8.13"
  }
 },
 "nbformat": 4,
 "nbformat_minor": 1
}
