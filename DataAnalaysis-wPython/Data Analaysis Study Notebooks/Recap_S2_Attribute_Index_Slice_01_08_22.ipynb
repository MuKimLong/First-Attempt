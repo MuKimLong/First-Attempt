{
  "nbformat": 4,
  "nbformat_minor": 0,
  "metadata": {
    "colab": {
      "name": "Recap_S2_Attribute_Index_Slice_01_08_22.ipynb",
      "provenance": [],
      "collapsed_sections": []
    },
    "kernelspec": {
      "name": "python3",
      "display_name": "Python 3"
    },
    "language_info": {
      "name": "python"
    }
  },
  "cells": [
    {
      "cell_type": "markdown",
      "source": [
        "**Recap_S2_Attribute_Index_Slice_01_08_22**"
      ],
      "metadata": {
        "id": "dCB6JOxTqkGS"
      }
    },
    {
      "cell_type": "code",
      "execution_count": null,
      "metadata": {
        "id": "SIwaaDbyackn"
      },
      "outputs": [],
      "source": [
        "import numpy as np"
      ]
    },
    {
      "cell_type": "code",
      "source": [
        "np.arange(0,10,2) # girilen değerler arasında eleman üretir (start:, stop:, step:)"
      ],
      "metadata": {
        "id": "daYYyN1pa3ex"
      },
      "execution_count": null,
      "outputs": []
    },
    {
      "cell_type": "code",
      "source": [
        "np.linspace(1,20,num = 2) # girilen değerleri num parametresi kadar eşit aralığa böler (start:, stop:, num:) stop dahil"
      ],
      "metadata": {
        "id": "ANoOvRjCa3cz"
      },
      "execution_count": null,
      "outputs": []
    },
    {
      "cell_type": "code",
      "source": [
        "np.linspace(1,[5,10], 5) # stop liste içinde verildiğinde 1 - 5 arası ve 1 - 10 arası eleman üretir."
      ],
      "metadata": {
        "id": "wzn1xgXxa3aK"
      },
      "execution_count": null,
      "outputs": []
    },
    {
      "cell_type": "code",
      "source": [
        "np.zeros(10, dtype= int)# girilen değer kadar sıfırlardan oluşan elemanlar üretir. dtype parametresi üretilecek eleman type'ı"
      ],
      "metadata": {
        "colab": {
          "base_uri": "https://localhost:8080/"
        },
        "id": "Ngg64thedM3J",
        "outputId": "cebe2586-06b4-4d53-eeb2-0fc94a67ffa9"
      },
      "execution_count": null,
      "outputs": [
        {
          "output_type": "execute_result",
          "data": {
            "text/plain": [
              "array([0, 0, 0, 0, 0, 0, 0, 0, 0, 0])"
            ]
          },
          "metadata": {},
          "execution_count": 22
        }
      ]
    },
    {
      "cell_type": "code",
      "source": [
        "np.ones(10, dtype= int)# girilen değer kadar bir'lerden oluşan elemanlar üretir. dtype parametresi üretilecek eleman type'ı"
      ],
      "metadata": {
        "colab": {
          "base_uri": "https://localhost:8080/"
        },
        "id": "8buYDy7-dM0h",
        "outputId": "4a137c7b-e66d-4b95-fefa-153b9174af9e"
      },
      "execution_count": null,
      "outputs": [
        {
          "output_type": "execute_result",
          "data": {
            "text/plain": [
              "array([1, 1, 1, 1, 1, 1, 1, 1, 1, 1])"
            ]
          },
          "metadata": {},
          "execution_count": 24
        }
      ]
    },
    {
      "cell_type": "code",
      "source": [
        "np.full(3,\"test\") # girilen sayı ve değer kadar eleman üretir"
      ],
      "metadata": {
        "colab": {
          "base_uri": "https://localhost:8080/"
        },
        "id": "un1QLzXmdMx5",
        "outputId": "05a1e4b9-dcc3-4500-a4e6-e3745ef64813"
      },
      "execution_count": null,
      "outputs": [
        {
          "output_type": "execute_result",
          "data": {
            "text/plain": [
              "array(['test', 'test', 'test'], dtype='<U4')"
            ]
          },
          "metadata": {},
          "execution_count": 28
        }
      ]
    },
    {
      "cell_type": "code",
      "source": [
        "np.eye(5,5) # matris üretir"
      ],
      "metadata": {
        "id": "Ce4h_XvwebCg"
      },
      "execution_count": null,
      "outputs": []
    },
    {
      "cell_type": "code",
      "source": [
        ""
      ],
      "metadata": {
        "id": "u6d-fWKsdMtq"
      },
      "execution_count": null,
      "outputs": []
    },
    {
      "cell_type": "markdown",
      "source": [
        "**RANDOM**"
      ],
      "metadata": {
        "id": "jNwM-ToQeVqZ"
      }
    },
    {
      "cell_type": "code",
      "source": [
        "np.random.rand(2,1,2) # uniform(olasılık oranı sabit) rastgele elemanlar üretir (num, size(satır, sutun))"
      ],
      "metadata": {
        "id": "bsP7EbdqeY0j"
      },
      "execution_count": null,
      "outputs": []
    },
    {
      "cell_type": "code",
      "source": [
        "np.random.randn(1,3,4) #normal dağılıma(normal dist.) rastgele elemanlar üretir (num, size(satır, sutun))"
      ],
      "metadata": {
        "id": "Vse0i6sefk6g"
      },
      "execution_count": null,
      "outputs": []
    },
    {
      "cell_type": "markdown",
      "source": [
        ""
      ],
      "metadata": {
        "id": "N_szkLruhcIQ"
      }
    },
    {
      "cell_type": "code",
      "source": [
        "np.random.randint(1, [10,20], size= (2,2)) # rastgele  \"int\" elemanlar üretir (num, size(satır, sutun))"
      ],
      "metadata": {
        "colab": {
          "base_uri": "https://localhost:8080/"
        },
        "id": "nG8o-8RIfk3x",
        "outputId": "f21440f5-d592-44cb-c86e-ca866ce4dd7b"
      },
      "execution_count": null,
      "outputs": [
        {
          "output_type": "execute_result",
          "data": {
            "text/plain": [
              "array([[ 5, 13],\n",
              "       [ 5, 11]])"
            ]
          },
          "metadata": {},
          "execution_count": 69
        }
      ]
    },
    {
      "cell_type": "markdown",
      "source": [
        "## **Array Attribute**"
      ],
      "metadata": {
        "id": "U7m-heDvikKJ"
      }
    },
    {
      "cell_type": "code",
      "source": [
        "arr = np.arange(10)\n",
        "arr"
      ],
      "metadata": {
        "id": "5LbLXT2Eivdh"
      },
      "execution_count": null,
      "outputs": []
    },
    {
      "cell_type": "code",
      "source": [
        "arr.shape # numpy array eleman sayısını verir"
      ],
      "metadata": {
        "id": "3mTFcVwPicjp"
      },
      "execution_count": null,
      "outputs": []
    },
    {
      "cell_type": "code",
      "source": [
        "arr.reshape(2,5) # dizinin şeklini değiştirmeden boyutnu değiştir. arka planda yeni boyut varmış gibi davranır. girilen değerlerin çarpımı array eleman sayısna eşit olmalıdır."
      ],
      "metadata": {
        "id": "EFSacd4GichK"
      },
      "execution_count": null,
      "outputs": []
    },
    {
      "cell_type": "code",
      "source": [
        "arr.max() # array max. value"
      ],
      "metadata": {
        "id": "rQkxEFsricej"
      },
      "execution_count": null,
      "outputs": []
    },
    {
      "cell_type": "code",
      "source": [
        "arr.min() # array min. value"
      ],
      "metadata": {
        "id": "ilHV9kgZjj35"
      },
      "execution_count": null,
      "outputs": []
    },
    {
      "cell_type": "code",
      "source": [
        "arr.argmax() # array max. value index numarası"
      ],
      "metadata": {
        "id": "JSQfNXn5jne5"
      },
      "execution_count": null,
      "outputs": []
    },
    {
      "cell_type": "code",
      "source": [
        "arr.dtype # array eleman type"
      ],
      "metadata": {
        "id": "mRYzvk5Cj5Wg"
      },
      "execution_count": null,
      "outputs": []
    },
    {
      "cell_type": "code",
      "source": [
        "arr.ndim # array boyut sayısı"
      ],
      "metadata": {
        "id": "y2jPB9Nij5UY"
      },
      "execution_count": null,
      "outputs": []
    },
    {
      "cell_type": "code",
      "source": [
        "arr.size # array eleman sayısı"
      ],
      "metadata": {
        "id": "hpvP9ns7j5R7"
      },
      "execution_count": null,
      "outputs": []
    },
    {
      "cell_type": "code",
      "source": [
        "arr.itemsize  # array eleman boyut"
      ],
      "metadata": {
        "id": "mOck9KNVj5PS"
      },
      "execution_count": null,
      "outputs": []
    },
    {
      "cell_type": "markdown",
      "source": [
        "**ARRAY INDEXING & SLICE**"
      ],
      "metadata": {
        "id": "zKj5QWxEkfZJ"
      }
    },
    {
      "cell_type": "code",
      "source": [
        "a = np.arange(1,26).reshape(5,5)\n",
        "a"
      ],
      "metadata": {
        "id": "Q_NhpwtHknIp"
      },
      "execution_count": null,
      "outputs": []
    },
    {
      "cell_type": "code",
      "source": [
        "a = np.arange(1,26) # 1D array python index ve slice ile aynı"
      ],
      "metadata": {
        "id": "SIdyp8uhm8AQ"
      },
      "execution_count": null,
      "outputs": []
    },
    {
      "cell_type": "code",
      "source": [
        "a[1:, 2:4] # 2D array satır ve sutunlar seklinde seçme. 1 = satır index 2 = sutun index"
      ],
      "metadata": {
        "id": "qyJB0cFImYnJ"
      },
      "execution_count": null,
      "outputs": []
    },
    {
      "cell_type": "code",
      "source": [
        "b = a[a>5] # condition işlemleri uygulanabilir.\n",
        "b"
      ],
      "metadata": {
        "id": "YS-C664UoGs6"
      },
      "execution_count": null,
      "outputs": []
    },
    {
      "cell_type": "code",
      "source": [
        "a < 4 # array'in elamanlarında condition operatörüen uyan değer true uymanay false"
      ],
      "metadata": {
        "id": "zPsNiubIozph"
      },
      "execution_count": null,
      "outputs": []
    },
    {
      "cell_type": "code",
      "source": [
        "a[(a> 15) | (a<5)] # condition operatörleri ile seçme"
      ],
      "metadata": {
        "id": "A_pxQAX-pZmx"
      },
      "execution_count": null,
      "outputs": []
    },
    {
      "cell_type": "code",
      "source": [
        "x = np.arange(1,11)\n",
        "y = np.arange(1,5)"
      ],
      "metadata": {
        "id": "a-47ssydnM3J"
      },
      "execution_count": null,
      "outputs": []
    },
    {
      "cell_type": "code",
      "source": [
        "x"
      ],
      "metadata": {
        "id": "BLvXiHdbnvm5"
      },
      "execution_count": null,
      "outputs": []
    },
    {
      "cell_type": "code",
      "source": [
        "y"
      ],
      "metadata": {
        "id": "2jRCUFP6nxCx"
      },
      "execution_count": null,
      "outputs": []
    },
    {
      "cell_type": "code",
      "source": [
        "mat1 = np.arange(1,11)\n",
        "mat2 = np.arange(1,11)"
      ],
      "metadata": {
        "id": "ita9k7BNp5iw"
      },
      "execution_count": null,
      "outputs": []
    },
    {
      "cell_type": "code",
      "source": [
        "mat1*mat2 # matematiksel işlemler uygulanabilir."
      ],
      "metadata": {
        "id": "CKQ0ftvAqGVR"
      },
      "execution_count": null,
      "outputs": []
    },
    {
      "cell_type": "code",
      "source": [
        "np.concatenate((x,y)) # iki farklı array'i birleştirme"
      ],
      "metadata": {
        "id": "J_n02R8cpAuh"
      },
      "execution_count": null,
      "outputs": []
    }
  ]
}